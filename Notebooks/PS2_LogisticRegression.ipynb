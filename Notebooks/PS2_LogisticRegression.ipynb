{
 "cells": [
  {
   "cell_type": "markdown",
   "metadata": {},
   "source": [
    "# Logistic Regression\n",
    "\n",
    "This notebook goes over the problems posed for logistic regression in the accompanying worksheet."
   ]
  },
  {
   "cell_type": "markdown",
   "metadata": {},
   "source": [
    "## Q1\n",
    "---\n",
    "Bernoulli random variable is given by the probability distribution:\n",
    "\n",
    "$$\n",
    "\\mathbb{P}(Y_i = y_i) = \\pi_i^{y_i} (1 - \\pi_i)^{1-y_i}, \\quad for \\quad y_i = 0,1\n",
    "$$\n",
    "\n",
    "What is the expectation $\\mathbb{E}(Y_i)$ and variance $Var(Y_i)$ of the Bernoulli random variable?"
   ]
  },
  {
   "cell_type": "markdown",
   "metadata": {},
   "source": [
    "## A1\n",
    "---\n",
    "\n",
    "$\\mathbb{E}(Y_i) = \\sum \\limits_{y_i = 0,1} P(Y_i = y_i) y_i = 1\\times \\pi_i + 0\\times(1-\\pi_i) = \\pi_i$\n",
    "\n",
    "$Var(Y_i) = \\mathbb{E}(Y_i^2)-\\mathbb{E}(Y_i)^2 = 1\\times \\pi_i - (\\pi_i)^2 = \\pi_i(1-\\pi_i) $"
   ]
  },
  {
   "cell_type": "markdown",
   "metadata": {},
   "source": [
    "---\n",
    "## Q2\n",
    "---\n",
    "Binomial random variable is given by the probability distribution:\n",
    "\n",
    "$$\n",
    "\\begin{equation}\n",
    "  \\mathbb{P}(Y_i = y_i) = \\left(\n",
    "  \\begin{array}{rcr}\n",
    "    n_i \\\\\n",
    "    y_i\n",
    "  \\end{array}\n",
    "  \\right) \\pi_i^{y_i} (1 - \\pi_i)^{n_i - y_i}\n",
    "\\end{equation}\n",
    "$$\n",
    "\n",
    "What is the expectation $\\mathbb{E}(Y_i)$ and variance $Var(Y_i)$ of the Binomial random variable?"
   ]
  },
  {
   "cell_type": "markdown",
   "metadata": {},
   "source": [
    "## A2\n",
    "---\n",
    "\n",
    "We use indicator variables and linearity of expecation values here. \n",
    "\n",
    "Let $I_{ij}$ = 1 if observation j is a success within group i, and 0 otherwise. The indicator variables follow a Bernoulli distribution with parameter $\\pi_i$.\n",
    "\n",
    "Then:\n",
    "\n",
    "$Y_i = \\sum \\limits_{j=1}^{n_i} I_{ij}$\n",
    "\n",
    "Thus we can write:\n",
    "\n",
    "$\n",
    "\\begin{align}\n",
    "\\mathbb{E}(Y_i) &= \\mathbb{E}\\left(\\sum \\limits_{j=1}^{n_i} I_{ij}\\right) \\\\\n",
    "&= \\sum \\limits_{j=1}^{n_i} \\mathbb{E}(I_{ij}) \\\\\n",
    "&= \\sum \\limits_{j=1}^{n_i} \\pi_i \\\\\n",
    "&= n_i \\pi_i\n",
    "\\end{align}\n",
    "$\n",
    "\n",
    "We can do the same thing for the variance, but let's work out the first squared term separately. In the following we make use of:\n",
    "\n",
    "* $ \\mathbb{E}(I_{ij} I_{ik}) = \\mathbb{E}(I_{ij})\\mathbb{E}(I_{ik}) $ (Independent observations)\n",
    "\n",
    "* $ \\sum \\limits_{i=1}^{n} A_i^2 $ Has $n^2$ total terms, n of which are diagonal $(A_i^2)$, and $n^2-n$ of which are off diagonal: $A_i A_j$\n",
    "\n",
    "$\n",
    "\\begin{align}\n",
    "\\mathbb{E}(Y_i^2) &= \\mathbb{E}\\left[\\left(\\sum \\limits_{j=1}^{n_i} I_{ij}\\right)^2\\right] \\\\\n",
    "&= \\mathbb{E}\\left[\\sum \\limits_{j=1}^{n_i} \\sum \\limits_{k=1}^{n_i} I_{ij} I_{ik}\\right] \\\\\n",
    "&= \\mathbb{E}\\left[\\sum \\limits_{j=1}^{n_i} I_{ij}^2 + \\sum \\limits_{j=1}^{n_i} \\sum \\limits_{k\\neq j} I_{ij} I_{ik}\\right]\\\\\n",
    "&= \\sum \\limits_{j=1}^{n_i} \\mathbb{E}(I_{ij}^2) + \\sum \\limits_{j=1}^{n_i} \\sum \\limits_{k\\neq j} \\mathbb{E}(I_{ij}I_{jk})\\\\\n",
    "&= \\sum \\limits_{j=1}^{n_i} \\mathbb{E}(I_{ij}^2) + \\sum \\limits_{j=1}^{n_i} \\sum \\limits_{k\\neq j} \\mathbb{E}(I_{ij})\\mathbb{E}(I_{jk})\\\\\n",
    "&= n_i \\pi_i + (n_i^2-n_i) \\pi_i^2\n",
    "\\end{align}\n",
    "$\n",
    "\n",
    "Thus the variance is:\n",
    "\n",
    "$\n",
    "\\begin{align}\n",
    "Var(Y_i) = \\mathbb{E}(Y_i^2) - \\mathbb{E}(Y_i)^2 = n_i \\pi_i + (n_i^2-n_i) \\pi_i^2 - (n_i \\pi_i)^2 = n_i \\pi_i (1-\\pi_i)\n",
    "\\end{align}\n",
    "$"
   ]
  },
  {
   "cell_type": "markdown",
   "metadata": {},
   "source": [
    "---\n",
    "## Q3\n",
    "---\n",
    "\n",
    "Show that the inverse of the $\\text{logit}^{-1}(a) = \\text{logistic}(a) = \\frac{1}{1 + e^{-a}}$."
   ]
  },
  {
   "cell_type": "markdown",
   "metadata": {},
   "source": [
    "---\n",
    "## A3\n",
    "\n",
    "We start with the defintion and go from there:\n",
    "\n",
    "$\n",
    "\\begin{aligned}\n",
    "logit(x) = log\\left(\\frac{x}{1-x}\\right) &= y \\\\\n",
    "\\frac{x}{1-x} &= e^y\\\\\n",
    "x &= e^y - xe^y \\\\\n",
    "x(1+e^y) &= e^y\\\\\n",
    "x &= \\frac{e^y}{1+e^y} \\\\\n",
    "x &= \\frac{1}{1+e^{-y}}\\\\\n",
    "x &= logit^{-1}(y) = logistic(y)\n",
    "\\end{aligned}\n",
    "$"
   ]
  },
  {
   "cell_type": "markdown",
   "metadata": {},
   "source": [
    "---\n",
    "## Q4-7 (Logistic Regression)\n",
    "---\n",
    "Define the probability mass function (PMF), the log-likelihood, gradient, and Hessian of the LL for logistic regression."
   ]
  },
  {
   "cell_type": "markdown",
   "metadata": {},
   "source": [
    "## A4 - 7\n",
    "---\n",
    "\n",
    "We start with the PMF, which is simply given by the binomial distribution: \n",
    "\n",
    "$ P(Y_i = y_i) = {n_i \\choose y_i} \\pi_i^{y_i} (1-\\pi_i)^{n_i-y_i} $\n",
    "\n",
    "For multiple (N) independent observations, this is promoted to:\n",
    "\n",
    "$ P(\\vec{Y} = \\vec{y}) = \\prod \\limits_{i=1}^{N} {n_i \\choose y_i} \\pi_i^{y_i} (1-\\pi_i)^{n_i-y_i}$\n",
    "\n",
    "\n",
    "We also will need the logistic and logit functions:\n",
    "\n",
    "$\n",
    "\\begin{aligned}\n",
    "\\eta_i  = x_i^T \\beta = logit(\\pi_i) = log\\left(\\frac{\\pi_i}{1-\\pi_i}\\right) \\\\\n",
    "\\pi_i = logistic(\\eta_i) = \\frac{1}{1+e^{-\\eta_i}}\n",
    "\\end{aligned}\n",
    "$\n",
    "\n",
    "To get the log-likelihood function:\n",
    "\n",
    "$\n",
    "\\begin{aligned}\n",
    "l(\\beta) &= log\\left[\\prod \\limits_{i=1}^{N} {n_i \\choose y_i} \\pi_i^{y_i} (1-\\pi_i)^{n_i-y_i}\\right]\n",
    "\\\\\n",
    "&= \\sum \\limits_{i=1}^{N} log{n_i \\choose y_i} + y_i log(\\pi_i) + (n_i-y_i) log(1-\\pi_i)\n",
    "\\end{aligned}\n",
    "$\n",
    "\n",
    "Ignoring the constant term (which is just 1 in the case $n_i = 1$ anyways, we get:\n",
    "\n",
    "$\n",
    "\\begin{aligned}\n",
    "l(\\beta) \n",
    "&= \\sum \\limits_{i=1}^{N}  y_i log(\\pi_i) + (n_i-y_i) log(1-\\pi_i)\n",
    "\\\\\n",
    "&= \\sum \\limits_{i=1}^{N} y_i log \\left( \\frac{\\pi}{1-\\pi_i} \\right) + n_i log(1-\\pi_i)\n",
    "\\\\\n",
    "&= \\sum \\limits_{i=1}^{N} y_i \\eta_i + n_i log\\left(1-\\frac{1}{1+e^{-\\eta_i}}\\right)\n",
    "\\\\\n",
    "&= \\sum \\limits_{i=1}^{N} y_i \\eta_i - n_i log\\left(1+e^{\\eta_i}\\right)\n",
    "\\\\\n",
    "&= \\sum \\limits_{i=1}^{N} y_i x_i^T\\beta - n_i log\\left(1+e^{x_i^T\\beta}\\right)\n",
    "\\end{aligned}\n",
    "$\n",
    "\n",
    "Next we take the gradient of the LL. First we make note of a few useful derivatives:\n",
    "\n",
    "$\n",
    "\\begin{aligned}\n",
    "\\frac{\\partial \\pi_i}{\\partial \\eta_i} &= \\pi_i(1-\\pi_i) \\\\\n",
    "\\frac{\\partial \\eta_i}{\\partial \\beta_j} &= \\frac{\\partial \\sum \\limits_{k=1}^N x_{ik} \\beta_k}{\\partial \\beta_j} = x_{ij}\n",
    "\\end{aligned}\n",
    "$\n",
    "\n",
    "Now applying to the LL:\n",
    "\n",
    "$\n",
    "\\begin{aligned}\n",
    "l(\\beta) &= \\sum \\limits_{i=1}^{N}  y_i log(\\pi_i) + (n_i-y_i) log(1-\\pi_i)\n",
    "\\\\\n",
    "\\frac{\\partial l}{\\partial \\beta_j} &= \\sum \\limits_{i=1}^{N}  y_i \\frac{1}{\\pi_i}(\\pi_i(1-\\pi_i))x_{ij} \n",
    "+ (n_i-y_i) \\frac{1}{1-\\pi_i}(-\\pi_i(1-\\pi_i))x_{ij}\n",
    "\\\\\n",
    "&= \\sum \\limits_{i=1}^{N} y_i x_{ij} - y_i \\pi_i x_{ij} - n_i \\pi_i x_{ij} + y_i \\pi_i x_{ij}\n",
    "\\\\\n",
    "&= \\sum \\limits_{i=1}^{N} y_i x_{ij} - n_i \\pi_i x_{ij} \n",
    "\\\\\n",
    "&= \\sum \\limits_{i=1}^{N} y_i x_{ij} - n_i \\frac{1}{1+e^{-x_i^T\\beta}} x_{ij} \n",
    "\\\\\n",
    "&= \\sum \\limits_{i=1}^{N} y_i x_{ij} - \\mu_i x_{ij} \n",
    "\\end{aligned}\n",
    "$\n",
    "\n",
    "In vector form:\n",
    "\n",
    "$\\nabla_\\beta l = X^T (\\vec{y} - \\vec{\\pi}) $\n",
    "\n",
    "Where we have used $n_i \\pi_i = \\mu_i$ at the end. \n",
    "\n",
    "Finally, let's compute the Hessian. This is relatively simple, as only one term in the above still carries any $\\beta$ dependence.\n",
    "\n",
    "$\n",
    "\\begin{aligned}\n",
    "\\frac{\\partial l}{\\partial \\beta_j} &= \\sum \\limits_{i=1}^{N} y_i x_{ij} - n_i \\pi_i x_{ij} \n",
    "\\\\\n",
    "\\frac{\\partial^2 l}{\\partial \\beta_j \\beta_k} &= H_{ij} = - \\sum \\limits_{i=1}^{N}  n_i \\pi_i(1-\\pi_i) x_{ik} x_{ij} \n",
    "\\end{aligned}\n",
    "$\n",
    "\n",
    "In matrix form:\n",
    "\n",
    "$ H =- X^T \\vec{\\pi} .* (1-\\vec{\\pi}) X $"
   ]
  },
  {
   "cell_type": "markdown",
   "metadata": {},
   "source": [
    "---\n",
    "## Q8 \n",
    "---\n",
    "Perform Newton-Rhapson to find the maximum likelihood estimates (MLE).\n",
    "\n",
    "Most of this is just copied over from the worksheet, with the exception of the actual optimization - here it will be implemented with NR. "
   ]
  },
  {
   "cell_type": "code",
   "execution_count": 1,
   "metadata": {},
   "outputs": [],
   "source": [
    "#Import Libraries\n",
    "import numpy as np\n",
    "import pandas as pd\n",
    "import matplotlib.pyplot as plt\n",
    "from sklearn.preprocessing import StandardScaler\n",
    "from sklearn.model_selection import train_test_split\n",
    "from sklearn.linear_model import LogisticRegression\n",
    "from sklearn.metrics import confusion_matrix"
   ]
  },
  {
   "cell_type": "code",
   "execution_count": 2,
   "metadata": {},
   "outputs": [
    {
     "data": {
      "text/html": [
       "<div>\n",
       "<style scoped>\n",
       "    .dataframe tbody tr th:only-of-type {\n",
       "        vertical-align: middle;\n",
       "    }\n",
       "\n",
       "    .dataframe tbody tr th {\n",
       "        vertical-align: top;\n",
       "    }\n",
       "\n",
       "    .dataframe thead th {\n",
       "        text-align: right;\n",
       "    }\n",
       "</style>\n",
       "<table border=\"1\" class=\"dataframe\">\n",
       "  <thead>\n",
       "    <tr style=\"text-align: right;\">\n",
       "      <th></th>\n",
       "      <th>User ID</th>\n",
       "      <th>Age</th>\n",
       "      <th>EstimatedSalary</th>\n",
       "      <th>Purchased</th>\n",
       "    </tr>\n",
       "  </thead>\n",
       "  <tbody>\n",
       "    <tr>\n",
       "      <th>count</th>\n",
       "      <td>4.000000e+02</td>\n",
       "      <td>400.000000</td>\n",
       "      <td>400.000000</td>\n",
       "      <td>400.000000</td>\n",
       "    </tr>\n",
       "    <tr>\n",
       "      <th>mean</th>\n",
       "      <td>1.569154e+07</td>\n",
       "      <td>37.655000</td>\n",
       "      <td>69742.500000</td>\n",
       "      <td>0.357500</td>\n",
       "    </tr>\n",
       "    <tr>\n",
       "      <th>std</th>\n",
       "      <td>7.165832e+04</td>\n",
       "      <td>10.482877</td>\n",
       "      <td>34096.960282</td>\n",
       "      <td>0.479864</td>\n",
       "    </tr>\n",
       "    <tr>\n",
       "      <th>min</th>\n",
       "      <td>1.556669e+07</td>\n",
       "      <td>18.000000</td>\n",
       "      <td>15000.000000</td>\n",
       "      <td>0.000000</td>\n",
       "    </tr>\n",
       "    <tr>\n",
       "      <th>25%</th>\n",
       "      <td>1.562676e+07</td>\n",
       "      <td>29.750000</td>\n",
       "      <td>43000.000000</td>\n",
       "      <td>0.000000</td>\n",
       "    </tr>\n",
       "    <tr>\n",
       "      <th>50%</th>\n",
       "      <td>1.569434e+07</td>\n",
       "      <td>37.000000</td>\n",
       "      <td>70000.000000</td>\n",
       "      <td>0.000000</td>\n",
       "    </tr>\n",
       "    <tr>\n",
       "      <th>75%</th>\n",
       "      <td>1.575036e+07</td>\n",
       "      <td>46.000000</td>\n",
       "      <td>88000.000000</td>\n",
       "      <td>1.000000</td>\n",
       "    </tr>\n",
       "    <tr>\n",
       "      <th>max</th>\n",
       "      <td>1.581524e+07</td>\n",
       "      <td>60.000000</td>\n",
       "      <td>150000.000000</td>\n",
       "      <td>1.000000</td>\n",
       "    </tr>\n",
       "  </tbody>\n",
       "</table>\n",
       "</div>"
      ],
      "text/plain": [
       "            User ID         Age  EstimatedSalary   Purchased\n",
       "count  4.000000e+02  400.000000       400.000000  400.000000\n",
       "mean   1.569154e+07   37.655000     69742.500000    0.357500\n",
       "std    7.165832e+04   10.482877     34096.960282    0.479864\n",
       "min    1.556669e+07   18.000000     15000.000000    0.000000\n",
       "25%    1.562676e+07   29.750000     43000.000000    0.000000\n",
       "50%    1.569434e+07   37.000000     70000.000000    0.000000\n",
       "75%    1.575036e+07   46.000000     88000.000000    1.000000\n",
       "max    1.581524e+07   60.000000    150000.000000    1.000000"
      ]
     },
     "execution_count": 2,
     "metadata": {},
     "output_type": "execute_result"
    }
   ],
   "source": [
    "#Import Dataset\n",
    "dataset = pd.read_csv('../Data/social_network_data.csv')\n",
    "p = 2\n",
    "N = 200\n",
    "\n",
    "dataset.describe()\n"
   ]
  },
  {
   "cell_type": "code",
   "execution_count": 4,
   "metadata": {},
   "outputs": [],
   "source": [
    "x = dataset.iloc[:,[2,3]].values\n",
    "y =dataset.iloc[:,4].values"
   ]
  },
  {
   "cell_type": "code",
   "execution_count": 5,
   "metadata": {},
   "outputs": [],
   "source": [
    "#Split Training Set and Testing Set\n",
    "x_train, x_test, y_train, y_test = train_test_split(x,y,test_size=0.5)"
   ]
  },
  {
   "cell_type": "code",
   "execution_count": 6,
   "metadata": {},
   "outputs": [],
   "source": [
    "#Feature Scaling\n",
    "sc_X=StandardScaler()\n",
    "x_train=sc_X.fit_transform(x_train)\n",
    "x_test=sc_X.transform(x_test)"
   ]
  },
  {
   "cell_type": "code",
   "execution_count": 89,
   "metadata": {},
   "outputs": [],
   "source": [
    "# NEWTON RHAPSON SOLUTION\n",
    "\n",
    "# Need to add my own intercept\n",
    "x_trainNR = np.c_[np.ones(len(x_train)), x_train]\n",
    "x_testNR = np.c_[np.ones(len(x_test)),x_test]\n",
    "\n",
    "# Make everything 2D so we can do matrix math\n",
    "y_train = y_train.reshape(-1,1)\n",
    "y_test = y_test.reshape(-1,1)\n",
    "\n",
    "def sigmoid(X,beta):\n",
    "    \n",
    "    return 1/(1+np.exp(-X@beta))\n",
    "\n",
    "def loglikelihood(X,y,beta):\n",
    "    \n",
    "    J= np.sum(y*np.log(sigmoid(X,beta))+(1-y)*np.log(1-sigmoid(X,beta)))\n",
    "    \n",
    "    return J\n",
    "\n",
    "def gradient(X,y,beta):\n",
    "    \n",
    "    dbeta = X.T@(y-sigmoid(X,beta))\n",
    "    \n",
    "    return dbeta\n",
    "\n",
    "def hessian(X,y,beta):\n",
    "    \n",
    "    pivec = sigmoid(X,beta)*(1-sigmoid(X,beta))\n",
    "    \n",
    "    pimat = np.diag(pivec.reshape(-1))\n",
    "    \n",
    "    return -X.T@pimat@X\n",
    "\n",
    "\n",
    "def newtonRhapson(betaInit,X,y,max_iter,gamma):\n",
    "\n",
    "    beta = betaInit\n",
    "    # Initialize cost vector and iteration vector for later plotting\n",
    "    iter_vec = np.array(range(max_iter))\n",
    "    cost_vec = np.zeros(max_iter)\n",
    "\n",
    "    for ii in range(max_iter):\n",
    "        # Calculate the gradient\n",
    "        dbeta = gradient(X,y,beta)\n",
    "\n",
    "        # Hessian inverse\n",
    "        hess = hessian(X,y,beta)\n",
    "        hinv = np.linalg.inv(hess)\n",
    "\n",
    "        # Update beta\n",
    "        beta = beta - gamma * hinv@dbeta\n",
    "\n",
    "        # Calculate the value of the log-likelihood\n",
    "        cost = loglikelihood(X,y,beta)\n",
    "\n",
    "        # Save cost for later plotting\n",
    "        cost_vec[ii] = cost\n",
    "\n",
    "    \n",
    "    # Create this to use later\n",
    "    outputPlt = plt.plot(iter_vec,cost_vec)\n",
    "\n",
    "            \n",
    "    return outputPlt,beta"
   ]
  },
  {
   "cell_type": "code",
   "execution_count": 110,
   "metadata": {},
   "outputs": [
    {
     "data": {
      "image/png": "[encoded data removed]",
      "text/plain": [
       "<Figure size 432x288 with 1 Axes>"
      ]
     },
     "metadata": {
      "needs_background": "light"
     },
     "output_type": "display_data"
    }
   ],
   "source": [
    "# Initialize beta\n",
    "betaInit = np.random.uniform(low=-0.1,high=0.1, size=(p+1,1))\n",
    "\n",
    "# Hyperparameters\n",
    "max_iter = 5000\n",
    "gamma = 1e-1\n",
    "\n",
    "# Perform NR\n",
    "(outputPlt,beta) = newtonRhapson(betaInit,x_trainNR,y_train,max_iter,gamma)"
   ]
  },
  {
   "cell_type": "code",
   "execution_count": 131,
   "metadata": {},
   "outputs": [
    {
     "name": "stdout",
     "output_type": "stream",
     "text": [
      "Newton-Rhapson Coefficients:\n",
      "\n",
      "intercept: [-1.21895764]\n",
      "\n",
      "coefficients: [[2.37877157 1.54043509]]\n",
      "\n",
      "Newton-Rhapson Coefficients, Scaled Back:\n",
      "\n",
      "coefficients: [[6.27395904e-02 2.16171077e-05]]\n"
     ]
    }
   ],
   "source": [
    "# Coefficients from NR:\n",
    "print('Newton-Rhapson Coefficients:\\n')\n",
    "print('intercept:', beta[0])\n",
    "print('\\ncoefficients:', beta[1:].T)\n",
    "\n",
    "# Coefficients from NR (rescaled?):\n",
    "print('\\nNewton-Rhapson Coefficients, Scaled Back:\\n')\n",
    "print('coefficients:', beta[1:].T/sc_X.mean_)"
   ]
  },
  {
   "cell_type": "code",
   "execution_count": 105,
   "metadata": {},
   "outputs": [
    {
     "data": {
      "text/plain": [
       "LogisticRegression(C=1.0, class_weight=None, dual=False, fit_intercept=True,\n",
       "          intercept_scaling=1, max_iter=100, multi_class='warn',\n",
       "          n_jobs=None, penalty='l2', random_state=None, solver='lbfgs',\n",
       "          tol=0.0001, verbose=0, warm_start=False)"
      ]
     },
     "execution_count": 105,
     "metadata": {},
     "output_type": "execute_result"
    }
   ],
   "source": [
    "#Training the Logistic Model via Black Box\n",
    "classifier = LogisticRegression(solver='lbfgs')\n",
    "classifier.fit(x_train, y_train.reshape(-1))"
   ]
  },
  {
   "cell_type": "code",
   "execution_count": 109,
   "metadata": {},
   "outputs": [
    {
     "name": "stdout",
     "output_type": "stream",
     "text": [
      "Newton-Rhapson Coefficients:\n",
      "\n",
      "intercept: [-1.12355165]\n",
      "\n",
      "coefficients: [[2.04497211 1.33187735]]\n"
     ]
    }
   ],
   "source": [
    "# Black Box coefficients\n",
    "print('Newton-Rhapson Coefficients:\\n')\n",
    "print('intercept:', classifier.intercept_)\n",
    "print('\\ncoefficients:', classifier.coef_)"
   ]
  },
  {
   "cell_type": "markdown",
   "metadata": {},
   "source": [
    "---\n",
    "## Q9\n",
    "---\n",
    "\n",
    "What is the impact on the odds of a purchase with a dollar increase in EstimatedSalary?"
   ]
  },
  {
   "cell_type": "markdown",
   "metadata": {},
   "source": [
    "## A9\n",
    "---\n",
    "\n",
    "A dollar increase in EstimatedSalary corresponds to an increase in the odds of $e^{\\beta_{ES}} \\sim 1$%\n",
    "\n",
    "(Where I think that I've changed back to the right scale to answer that)"
   ]
  },
  {
   "cell_type": "markdown",
   "metadata": {},
   "source": [
    "---\n",
    "## Q10\n",
    "---\n",
    "\n",
    "What is the odds of purchase with an age of 38 and estimated salary of \\$60,000?"
   ]
  },
  {
   "cell_type": "code",
   "execution_count": 144,
   "metadata": {},
   "outputs": [
    {
     "name": "stdout",
     "output_type": "stream",
     "text": [
      "The odds are:  0.17361189045402123\n"
     ]
    }
   ],
   "source": [
    "x_new = np.array([[38.0,60000.0]])\n",
    "x_newScaled = sc_X.transform(x_new)\n",
    "\n",
    "x_newNR = np.c_[[1.0], x_newScaled]\n",
    "\n",
    "eta_new = x_newNR@beta\n",
    "\n",
    "odds = np.exp(eta_new)\n",
    "\n",
    "print('The odds are: ',odds[0][0])"
   ]
  },
  {
   "cell_type": "code",
   "execution_count": null,
   "metadata": {},
   "outputs": [],
   "source": []
  },
  {
   "cell_type": "code",
   "execution_count": null,
   "metadata": {},
   "outputs": [],
   "source": []
  }
 ],
 "metadata": {
  "kernelspec": {
   "display_name": "Python 3",
   "language": "python",
   "name": "python3"
  },
  "language_info": {
   "codemirror_mode": {
    "name": "ipython",
    "version": 3
   },
   "file_extension": ".py",
   "mimetype": "text/x-python",
   "name": "python",
   "nbconvert_exporter": "python",
   "pygments_lexer": "ipython3",
   "version": "3.6.7"
  }
 },
 "nbformat": 4,
 "nbformat_minor": 2
}
