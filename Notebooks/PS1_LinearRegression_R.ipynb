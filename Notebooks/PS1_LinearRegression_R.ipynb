{
 "cells": [
  {
   "cell_type": "markdown",
   "metadata": {},
   "source": [
    "# Linear Regression\n",
    "\n",
    "This notebook goes over a basic linear regression implementation via gradient descent.\n",
    "\n",
    "After implementing by hand, some built in R benchmarks are compared, and we start to dig into some of the metrics used in regression."
   ]
  },
  {
   "cell_type": "code",
   "execution_count": 1,
   "metadata": {},
   "outputs": [],
   "source": [
    "# Useful libraries?\n",
    "library(repr)\n",
    "library(ggplot2) \n",
    "library(reshape2)\n",
    "library(GGally)\n",
    "library(broom)"
   ]
  },
  {
   "cell_type": "markdown",
   "metadata": {},
   "source": [
    "---\n",
    "---\n",
    "---\n",
    "# Problem 1 - Optimization\n",
    "---\n",
    "***\n",
    "___"
   ]
  },
  {
   "cell_type": "code",
   "execution_count": 2,
   "metadata": {},
   "outputs": [],
   "source": [
    "# Import the advertising dataset\n",
    "dat_adv <- read.csv(\"../Data/Advertising.csv\", header = TRUE)\n",
    "dat_adv = dat_adv[c('TV','Radio','Newspaper','Sales')]"
   ]
  },
  {
   "cell_type": "code",
   "execution_count": 693,
   "metadata": {},
   "outputs": [
    {
     "data": {
      "text/html": [
       "<table>\n",
       "<thead><tr><th scope=col>TV</th><th scope=col>Radio</th><th scope=col>Newspaper</th><th scope=col>Sales</th></tr></thead>\n",
       "<tbody>\n",
       "\t<tr><td>230.1</td><td>37.8 </td><td>69.2 </td><td>22.1 </td></tr>\n",
       "\t<tr><td> 44.5</td><td>39.3 </td><td>45.1 </td><td>10.4 </td></tr>\n",
       "\t<tr><td> 17.2</td><td>45.9 </td><td>69.3 </td><td> 9.3 </td></tr>\n",
       "\t<tr><td>151.5</td><td>41.3 </td><td>58.5 </td><td>18.5 </td></tr>\n",
       "\t<tr><td>180.8</td><td>10.8 </td><td>58.4 </td><td>12.9 </td></tr>\n",
       "\t<tr><td>  8.7</td><td>48.9 </td><td>75.0 </td><td> 7.2 </td></tr>\n",
       "</tbody>\n",
       "</table>\n"
      ],
      "text/latex": [
       "\\begin{tabular}{r|llll}\n",
       " TV & Radio & Newspaper & Sales\\\\\n",
       "\\hline\n",
       "\t 230.1 & 37.8  & 69.2  & 22.1 \\\\\n",
       "\t  44.5 & 39.3  & 45.1  & 10.4 \\\\\n",
       "\t  17.2 & 45.9  & 69.3  &  9.3 \\\\\n",
       "\t 151.5 & 41.3  & 58.5  & 18.5 \\\\\n",
       "\t 180.8 & 10.8  & 58.4  & 12.9 \\\\\n",
       "\t   8.7 & 48.9  & 75.0  &  7.2 \\\\\n",
       "\\end{tabular}\n"
      ],
      "text/markdown": [
       "\n",
       "TV | Radio | Newspaper | Sales | \n",
       "|---|---|---|---|---|---|\n",
       "| 230.1 | 37.8  | 69.2  | 22.1  | \n",
       "|  44.5 | 39.3  | 45.1  | 10.4  | \n",
       "|  17.2 | 45.9  | 69.3  |  9.3  | \n",
       "| 151.5 | 41.3  | 58.5  | 18.5  | \n",
       "| 180.8 | 10.8  | 58.4  | 12.9  | \n",
       "|   8.7 | 48.9  | 75.0  |  7.2  | \n",
       "\n",
       "\n"
      ],
      "text/plain": [
       "  TV    Radio Newspaper Sales\n",
       "1 230.1 37.8  69.2      22.1 \n",
       "2  44.5 39.3  45.1      10.4 \n",
       "3  17.2 45.9  69.3       9.3 \n",
       "4 151.5 41.3  58.5      18.5 \n",
       "5 180.8 10.8  58.4      12.9 \n",
       "6   8.7 48.9  75.0       7.2 "
      ]
     },
     "metadata": {},
     "output_type": "display_data"
    }
   ],
   "source": [
    "# Take a look and pull out useful numbers\n",
    "# We have TV, Radio, Newspaper as inputs, Sales as our output\n",
    "# Note that the numbers are all rather large -> might want to scale\n",
    "tv <- 'TV'\n",
    "radio <- 'Radio'\n",
    "news <- 'Newspaper'\n",
    "sales <- 'Sales'\n",
    "\n",
    "n = nrow(dat_adv)   # Number of examples\n",
    "p = ncol(dat_adv)-1 # Number of parameters, -2: 1 for X and one for Sales\n",
    "head(dat_adv)"
   ]
  },
  {
   "cell_type": "code",
   "execution_count": 368,
   "metadata": {},
   "outputs": [],
   "source": [
    "# Let's create usable matrices to perform gradient descent\n",
    "\n",
    "# Design Matrix\n",
    "X <- as.matrix(subset(dat_adv, select=c(tv,radio,news)))\n",
    "# We might need to normalize\n",
    "Xscaled = scale(X, center = TRUE, scale = TRUE)\n",
    "\n",
    "# Add a bias column\n",
    "X <- cbind(\"bias\"=rep(1,n),X)\n",
    "Xscaled <- cbind(\"bias\"=rep(1,n),Xscaled)\n",
    "\n",
    "# Output variable of interest\n",
    "y <- as.matrix(subset(dat_adv, select=c(sales)))"
   ]
  },
  {
   "cell_type": "code",
   "execution_count": 369,
   "metadata": {},
   "outputs": [],
   "source": [
    "# Create functions to calculate the gradient and the negative log likelihood (normalizing to 1/n)\n",
    "\n",
    "negative_loglikelihood = function(X,y,beta){\n",
    "    J = mean((y - X %*% beta)^2)\n",
    "    return(J)\n",
    "}\n",
    "    \n",
    "\n",
    "gradient = function(X,y,beta){\n",
    "    n = dim(y)[1]\n",
    "    dbeta = -(t(X) %*% y - t(X) %*% X %*% beta)/n\n",
    "    return(dbeta)\n",
    "}"
   ]
  },
  {
   "cell_type": "code",
   "execution_count": 370,
   "metadata": {},
   "outputs": [],
   "source": [
    "# Gradient Descent\n",
    "# Include a plot to show whether its converged or not by max_iter\n",
    "\n",
    "gradDesc = function(betaInit,X,y,max_iter,learning_rate){\n",
    "    beta = betaInit\n",
    "    cost_vec = 1:max_iter\n",
    "    \n",
    "    for (ii in 1:max_iter){\n",
    "        # Calculate the gradient\n",
    "        dbeta = gradient(X,y,beta)\n",
    "\n",
    "        # Update theta\n",
    "        beta = beta - learning_rate * dbeta\n",
    "        \n",
    "        # Update the cost list\n",
    "        J = negative_loglikelihood(X,y,beta)\n",
    "        cost_vec[ii] = J\n",
    "        \n",
    "    }\n",
    "    \n",
    "    options(repr.plot.width=4, repr.plot.height=3)\n",
    "    par(mar=c(4.2, 3.8, 0.2, 0.2))\n",
    "    plot(cost_vec,type=\"l\",log = \"xy\",xlab=\"Epoch\",ylab=\"NLL\")\n",
    "    \n",
    "    return(beta)\n",
    "}"
   ]
  },
  {
   "cell_type": "code",
   "execution_count": 883,
   "metadata": {},
   "outputs": [
    {
     "data": {
      "text/html": [
       "<table>\n",
       "<thead><tr><th></th><th scope=col>Sales</th></tr></thead>\n",
       "<tbody>\n",
       "\t<tr><th scope=row>bias</th><td>0.01562410</td></tr>\n",
       "\t<tr><th scope=row>TV</th><td>0.05376577</td></tr>\n",
       "\t<tr><th scope=row>Radio</th><td>0.22151358</td></tr>\n",
       "\t<tr><th scope=row>Newspaper</th><td>0.01702390</td></tr>\n",
       "</tbody>\n",
       "</table>\n"
      ],
      "text/latex": [
       "\\begin{tabular}{r|l}\n",
       "  & Sales\\\\\n",
       "\\hline\n",
       "\tbias & 0.01562410\\\\\n",
       "\tTV & 0.05376577\\\\\n",
       "\tRadio & 0.22151358\\\\\n",
       "\tNewspaper & 0.01702390\\\\\n",
       "\\end{tabular}\n"
      ],
      "text/markdown": [
       "\n",
       "| <!--/--> | Sales | \n",
       "|---|---|---|---|\n",
       "| bias | 0.01562410 | \n",
       "| TV | 0.05376577 | \n",
       "| Radio | 0.22151358 | \n",
       "| Newspaper | 0.01702390 | \n",
       "\n",
       "\n"
      ],
      "text/plain": [
       "          Sales     \n",
       "bias      0.01562410\n",
       "TV        0.05376577\n",
       "Radio     0.22151358\n",
       "Newspaper 0.01702390"
      ]
     },
     "metadata": {},
     "output_type": "display_data"
    },
    {
     "data": {
      "image/png": "[encoded data removed]",
      "text/plain": [
       "plot without title"
      ]
     },
     "metadata": {},
     "output_type": "display_data"
    }
   ],
   "source": [
    "# Initialize Hyperparameters\n",
    "lr = 1e-5\n",
    "max_iter = 3000\n",
    "\n",
    "# Initialize Initial Guess\n",
    "bInit <- runif(p+1)\n",
    "bInit = c(0,0,0,0)\n",
    "\n",
    "# Good guess based on linear model fit\n",
    "#bInit = c(3,0,0,0)\n",
    "\n",
    "# Perform gradient descent to get the guesses for beta\n",
    "beta = gradDesc(bInit,X,y,max_iter,lr)\n",
    "beta"
   ]
  },
  {
   "cell_type": "code",
   "execution_count": 882,
   "metadata": {},
   "outputs": [
    {
     "data": {
      "text/html": [
       "<table>\n",
       "<thead><tr><th></th><th scope=col>Sales</th></tr></thead>\n",
       "<tbody>\n",
       "\t<tr><th scope=row>bias</th><td>14.02250000</td></tr>\n",
       "\t<tr><th scope=row>TV</th><td> 3.92908869</td></tr>\n",
       "\t<tr><th scope=row>Radio</th><td> 2.79906919</td></tr>\n",
       "\t<tr><th scope=row>Newspaper</th><td>-0.02259517</td></tr>\n",
       "</tbody>\n",
       "</table>\n"
      ],
      "text/latex": [
       "\\begin{tabular}{r|l}\n",
       "  & Sales\\\\\n",
       "\\hline\n",
       "\tbias & 14.02250000\\\\\n",
       "\tTV &  3.92908869\\\\\n",
       "\tRadio &  2.79906919\\\\\n",
       "\tNewspaper & -0.02259517\\\\\n",
       "\\end{tabular}\n"
      ],
      "text/markdown": [
       "\n",
       "| <!--/--> | Sales | \n",
       "|---|---|---|---|\n",
       "| bias | 14.02250000 | \n",
       "| TV |  3.92908869 | \n",
       "| Radio |  2.79906919 | \n",
       "| Newspaper | -0.02259517 | \n",
       "\n",
       "\n"
      ],
      "text/plain": [
       "          Sales      \n",
       "bias      14.02250000\n",
       "TV         3.92908869\n",
       "Radio      2.79906919\n",
       "Newspaper -0.02259517"
      ]
     },
     "metadata": {},
     "output_type": "display_data"
    },
    {
     "data": {
      "image/png": "[encoded data removed]",
      "text/plain": [
       "plot without title"
      ]
     },
     "metadata": {},
     "output_type": "display_data"
    }
   ],
   "source": [
    "# Do it again, but with the scaled data (converges much faster)\n",
    "lr = 1e-1\n",
    "max_iter = 500\n",
    "\n",
    "\n",
    "betaScaled = gradDesc(bInit,Xscaled,y,max_iter,lr)\n",
    "betaScaled"
   ]
  },
  {
   "cell_type": "code",
   "execution_count": 887,
   "metadata": {},
   "outputs": [
    {
     "data": {
      "text/html": [
       "<table>\n",
       "<thead><tr><th scope=col>r.squared</th><th scope=col>adj.r.squared</th><th scope=col>sigma</th><th scope=col>statistic</th><th scope=col>p.value</th><th scope=col>df</th><th scope=col>logLik</th><th scope=col>AIC</th><th scope=col>BIC</th><th scope=col>deviance</th><th scope=col>df.residual</th></tr></thead>\n",
       "<tbody>\n",
       "\t<tr><td>0.8972106   </td><td>0.8956373   </td><td>1.68551     </td><td>570.2707    </td><td>1.575227e-96</td><td>4           </td><td>-386.1811   </td><td>782.3622    </td><td>798.8538    </td><td>556.8253    </td><td>196         </td></tr>\n",
       "</tbody>\n",
       "</table>\n"
      ],
      "text/latex": [
       "\\begin{tabular}{r|lllllllllll}\n",
       " r.squared & adj.r.squared & sigma & statistic & p.value & df & logLik & AIC & BIC & deviance & df.residual\\\\\n",
       "\\hline\n",
       "\t 0.8972106    & 0.8956373    & 1.68551      & 570.2707     & 1.575227e-96 & 4            & -386.1811    & 782.3622     & 798.8538     & 556.8253     & 196         \\\\\n",
       "\\end{tabular}\n"
      ],
      "text/markdown": [
       "\n",
       "r.squared | adj.r.squared | sigma | statistic | p.value | df | logLik | AIC | BIC | deviance | df.residual | \n",
       "|---|\n",
       "| 0.8972106    | 0.8956373    | 1.68551      | 570.2707     | 1.575227e-96 | 4            | -386.1811    | 782.3622     | 798.8538     | 556.8253     | 196          | \n",
       "\n",
       "\n"
      ],
      "text/plain": [
       "  r.squared adj.r.squared sigma   statistic p.value      df logLik    AIC     \n",
       "1 0.8972106 0.8956373     1.68551 570.2707  1.575227e-96 4  -386.1811 782.3622\n",
       "  BIC      deviance df.residual\n",
       "1 798.8538 556.8253 196        "
      ]
     },
     "metadata": {},
     "output_type": "display_data"
    },
    {
     "data": {
      "text/html": [
       "<table>\n",
       "<thead><tr><th scope=col>term</th><th scope=col>estimate</th><th scope=col>std.error</th><th scope=col>statistic</th><th scope=col>p.value</th></tr></thead>\n",
       "<tbody>\n",
       "\t<tr><td>(Intercept) </td><td> 2.938889369</td><td>0.311908236 </td><td> 9.4222884  </td><td>1.267295e-17</td></tr>\n",
       "\t<tr><td>TV          </td><td> 0.045764645</td><td>0.001394897 </td><td>32.8086244  </td><td>1.509960e-81</td></tr>\n",
       "\t<tr><td>Radio       </td><td> 0.188530017</td><td>0.008611234 </td><td>21.8934961  </td><td>1.505339e-54</td></tr>\n",
       "\t<tr><td>Newspaper   </td><td>-0.001037493</td><td>0.005871010 </td><td>-0.1767146  </td><td>8.599151e-01</td></tr>\n",
       "</tbody>\n",
       "</table>\n"
      ],
      "text/latex": [
       "\\begin{tabular}{r|lllll}\n",
       " term & estimate & std.error & statistic & p.value\\\\\n",
       "\\hline\n",
       "\t (Intercept)  &  2.938889369 & 0.311908236  &  9.4222884   & 1.267295e-17\\\\\n",
       "\t TV           &  0.045764645 & 0.001394897  & 32.8086244   & 1.509960e-81\\\\\n",
       "\t Radio        &  0.188530017 & 0.008611234  & 21.8934961   & 1.505339e-54\\\\\n",
       "\t Newspaper    & -0.001037493 & 0.005871010  & -0.1767146   & 8.599151e-01\\\\\n",
       "\\end{tabular}\n"
      ],
      "text/markdown": [
       "\n",
       "term | estimate | std.error | statistic | p.value | \n",
       "|---|---|---|---|\n",
       "| (Intercept)  |  2.938889369 | 0.311908236  |  9.4222884   | 1.267295e-17 | \n",
       "| TV           |  0.045764645 | 0.001394897  | 32.8086244   | 1.509960e-81 | \n",
       "| Radio        |  0.188530017 | 0.008611234  | 21.8934961   | 1.505339e-54 | \n",
       "| Newspaper    | -0.001037493 | 0.005871010  | -0.1767146   | 8.599151e-01 | \n",
       "\n",
       "\n"
      ],
      "text/plain": [
       "  term        estimate     std.error   statistic  p.value     \n",
       "1 (Intercept)  2.938889369 0.311908236  9.4222884 1.267295e-17\n",
       "2 TV           0.045764645 0.001394897 32.8086244 1.509960e-81\n",
       "3 Radio        0.188530017 0.008611234 21.8934961 1.505339e-54\n",
       "4 Newspaper   -0.001037493 0.005871010 -0.1767146 8.599151e-01"
      ]
     },
     "metadata": {},
     "output_type": "display_data"
    },
    {
     "data": {
      "text/html": [
       "<dl class=dl-horizontal>\n",
       "\t<dt>(Intercept)</dt>\n",
       "\t\t<dd>2.93888936945941</dd>\n",
       "\t<dt>TV</dt>\n",
       "\t\t<dd>0.0457646454553976</dd>\n",
       "\t<dt>Radio</dt>\n",
       "\t\t<dd>0.188530016918204</dd>\n",
       "\t<dt>Newspaper</dt>\n",
       "\t\t<dd>-0.00103749304247629</dd>\n",
       "</dl>\n"
      ],
      "text/latex": [
       "\\begin{description*}\n",
       "\\item[(Intercept)] 2.93888936945941\n",
       "\\item[TV] 0.0457646454553976\n",
       "\\item[Radio] 0.188530016918204\n",
       "\\item[Newspaper] -0.00103749304247629\n",
       "\\end{description*}\n"
      ],
      "text/markdown": [
       "(Intercept)\n",
       ":   2.93888936945941TV\n",
       ":   0.0457646454553976Radio\n",
       ":   0.188530016918204Newspaper\n",
       ":   -0.00103749304247629\n",
       "\n"
      ],
      "text/plain": [
       " (Intercept)           TV        Radio    Newspaper \n",
       " 2.938889369  0.045764645  0.188530017 -0.001037493 "
      ]
     },
     "metadata": {},
     "output_type": "display_data"
    }
   ],
   "source": [
    "# Compare with the built in R tool lm\n",
    "fit = lm(Sales~TV+Radio+Newspaper)\n",
    "glance(fit)\n",
    "tidy(fit)\n",
    "betalm = fit$coefficients\n",
    "betalm"
   ]
  },
  {
   "cell_type": "code",
   "execution_count": 802,
   "metadata": {},
   "outputs": [
    {
     "data": {
      "text/html": [
       "<table>\n",
       "<thead><tr><th></th><th scope=col>Sales</th></tr></thead>\n",
       "<tbody>\n",
       "\t<tr><th scope=row>bias</th><td> 2.938889369</td></tr>\n",
       "\t<tr><th scope=row>TV</th><td> 0.045764645</td></tr>\n",
       "\t<tr><th scope=row>Radio</th><td> 0.188530017</td></tr>\n",
       "\t<tr><th scope=row>Newspaper</th><td>-0.001037493</td></tr>\n",
       "</tbody>\n",
       "</table>\n"
      ],
      "text/latex": [
       "\\begin{tabular}{r|l}\n",
       "  & Sales\\\\\n",
       "\\hline\n",
       "\tbias &  2.938889369\\\\\n",
       "\tTV &  0.045764645\\\\\n",
       "\tRadio &  0.188530017\\\\\n",
       "\tNewspaper & -0.001037493\\\\\n",
       "\\end{tabular}\n"
      ],
      "text/markdown": [
       "\n",
       "| <!--/--> | Sales | \n",
       "|---|---|---|---|\n",
       "| bias |  2.938889369 | \n",
       "| TV |  0.045764645 | \n",
       "| Radio |  0.188530017 | \n",
       "| Newspaper | -0.001037493 | \n",
       "\n",
       "\n"
      ],
      "text/plain": [
       "          Sales       \n",
       "bias       2.938889369\n",
       "TV         0.045764645\n",
       "Radio      0.188530017\n",
       "Newspaper -0.001037493"
      ]
     },
     "metadata": {},
     "output_type": "display_data"
    }
   ],
   "source": [
    "# Compare with standard linear regression (analytic solution)\n",
    "betaOLS = solve(t(X) %*% X) %*% t(X) %*% y\n",
    "betaOLS"
   ]
  },
  {
   "cell_type": "code",
   "execution_count": 889,
   "metadata": {},
   "outputs": [
    {
     "data": {
      "image/png": "[encoded data removed]",
      "text/plain": [
       "plot without title"
      ]
     },
     "metadata": {},
     "output_type": "display_data"
    },
    {
     "data": {
      "image/png": "[encoded data removed]",
      "text/plain": [
       "plot without title"
      ]
     },
     "metadata": {},
     "output_type": "display_data"
    }
   ],
   "source": [
    "# This shows the y solution against one variable\n",
    "# Can be changed to different variables, or change the regression above to 1D if you want a straight line\n",
    "xvar = radio\n",
    "xOrder = order(X[,xvar])\n",
    "yhat = X%*%beta\n",
    "yhatlm = X%*%betalm\n",
    "yhatOLS = X%*%betaOLS\n",
    "plot(X[xOrder,xvar],y)\n",
    "lines(X[xOrder,xvar],yhat[xOrder],col='green')\n",
    "lines(X[xOrder,xvar],yhatlm[xOrder],col='red')\n",
    "lines(X[xOrder,xvar],yhatOLS[xOrder],col='blue')\n",
    "\n",
    "yorder = order(y)\n",
    "plot(y[yorder],yhat[yorder],col='green')\n",
    "points(y[yorder],yhatlm[yorder],col='red')\n",
    "points(y[yorder],yhatOLS[yorder],col='blue')\n",
    "lines(y[yorder],y[yorder])"
   ]
  },
  {
   "cell_type": "code",
   "execution_count": 890,
   "metadata": {},
   "outputs": [
    {
     "name": "stdout",
     "output_type": "stream",
     "text": [
      "[1] \"Gradient Descent\"\n"
     ]
    },
    {
     "data": {
      "text/html": [
       "<table>\n",
       "<thead><tr><th></th><th scope=col>Sales</th></tr></thead>\n",
       "<tbody>\n",
       "\t<tr><th scope=row>bias</th><td>0.01562410</td></tr>\n",
       "\t<tr><th scope=row>TV</th><td>0.05376577</td></tr>\n",
       "\t<tr><th scope=row>Radio</th><td>0.22151358</td></tr>\n",
       "\t<tr><th scope=row>Newspaper</th><td>0.01702390</td></tr>\n",
       "</tbody>\n",
       "</table>\n"
      ],
      "text/latex": [
       "\\begin{tabular}{r|l}\n",
       "  & Sales\\\\\n",
       "\\hline\n",
       "\tbias & 0.01562410\\\\\n",
       "\tTV & 0.05376577\\\\\n",
       "\tRadio & 0.22151358\\\\\n",
       "\tNewspaper & 0.01702390\\\\\n",
       "\\end{tabular}\n"
      ],
      "text/markdown": [
       "\n",
       "| <!--/--> | Sales | \n",
       "|---|---|---|---|\n",
       "| bias | 0.01562410 | \n",
       "| TV | 0.05376577 | \n",
       "| Radio | 0.22151358 | \n",
       "| Newspaper | 0.01702390 | \n",
       "\n",
       "\n"
      ],
      "text/plain": [
       "          Sales     \n",
       "bias      0.01562410\n",
       "TV        0.05376577\n",
       "Radio     0.22151358\n",
       "Newspaper 0.01702390"
      ]
     },
     "metadata": {},
     "output_type": "display_data"
    },
    {
     "name": "stdout",
     "output_type": "stream",
     "text": [
      "[1] \"r lm method\"\n"
     ]
    },
    {
     "data": {
      "text/html": [
       "<dl class=dl-horizontal>\n",
       "\t<dt>(Intercept)</dt>\n",
       "\t\t<dd>2.93888936945941</dd>\n",
       "\t<dt>TV</dt>\n",
       "\t\t<dd>0.0457646454553976</dd>\n",
       "\t<dt>Radio</dt>\n",
       "\t\t<dd>0.188530016918204</dd>\n",
       "\t<dt>Newspaper</dt>\n",
       "\t\t<dd>-0.00103749304247629</dd>\n",
       "</dl>\n"
      ],
      "text/latex": [
       "\\begin{description*}\n",
       "\\item[(Intercept)] 2.93888936945941\n",
       "\\item[TV] 0.0457646454553976\n",
       "\\item[Radio] 0.188530016918204\n",
       "\\item[Newspaper] -0.00103749304247629\n",
       "\\end{description*}\n"
      ],
      "text/markdown": [
       "(Intercept)\n",
       ":   2.93888936945941TV\n",
       ":   0.0457646454553976Radio\n",
       ":   0.188530016918204Newspaper\n",
       ":   -0.00103749304247629\n",
       "\n"
      ],
      "text/plain": [
       " (Intercept)           TV        Radio    Newspaper \n",
       " 2.938889369  0.045764645  0.188530017 -0.001037493 "
      ]
     },
     "metadata": {},
     "output_type": "display_data"
    },
    {
     "name": "stdout",
     "output_type": "stream",
     "text": [
      "[1] \"OLS Analytic\"\n"
     ]
    },
    {
     "data": {
      "text/html": [
       "<table>\n",
       "<thead><tr><th></th><th scope=col>Sales</th></tr></thead>\n",
       "<tbody>\n",
       "\t<tr><th scope=row>bias</th><td> 2.938889369</td></tr>\n",
       "\t<tr><th scope=row>TV</th><td> 0.045764645</td></tr>\n",
       "\t<tr><th scope=row>Radio</th><td> 0.188530017</td></tr>\n",
       "\t<tr><th scope=row>Newspaper</th><td>-0.001037493</td></tr>\n",
       "</tbody>\n",
       "</table>\n"
      ],
      "text/latex": [
       "\\begin{tabular}{r|l}\n",
       "  & Sales\\\\\n",
       "\\hline\n",
       "\tbias &  2.938889369\\\\\n",
       "\tTV &  0.045764645\\\\\n",
       "\tRadio &  0.188530017\\\\\n",
       "\tNewspaper & -0.001037493\\\\\n",
       "\\end{tabular}\n"
      ],
      "text/markdown": [
       "\n",
       "| <!--/--> | Sales | \n",
       "|---|---|---|---|\n",
       "| bias |  2.938889369 | \n",
       "| TV |  0.045764645 | \n",
       "| Radio |  0.188530017 | \n",
       "| Newspaper | -0.001037493 | \n",
       "\n",
       "\n"
      ],
      "text/plain": [
       "          Sales       \n",
       "bias       2.938889369\n",
       "TV         0.045764645\n",
       "Radio      0.188530017\n",
       "Newspaper -0.001037493"
      ]
     },
     "metadata": {},
     "output_type": "display_data"
    }
   ],
   "source": [
    "# Compare all the final coefficients (too much effort to format..)\n",
    "# It looks like Gradient Descent minimized to different places (if I force the bInit to the LM starting point, can probably get closer)\n",
    "print('Gradient Descent')\n",
    "beta\n",
    "print('r lm method')\n",
    "betalm\n",
    "print('OLS Analytic')\n",
    "betaOLS"
   ]
  },
  {
   "cell_type": "markdown",
   "metadata": {},
   "source": [
    "## Discussion\n",
    "\n",
    "The gradient descent method does find a local minima, but it does not appear to find the global minima that you would arrive at via the normal equation. If I change my initial conditions it is possible for GD to converge on a similiar answer to SLM."
   ]
  },
  {
   "cell_type": "markdown",
   "metadata": {},
   "source": [
    "---\n",
    "---\n",
    "---\n",
    "# Problem 2 - Interpretation\n",
    "---\n",
    "---\n",
    "---"
   ]
  },
  {
   "cell_type": "markdown",
   "metadata": {},
   "source": [
    "---\n",
    "## Single Variable Regression"
   ]
  },
  {
   "cell_type": "code",
   "execution_count": 558,
   "metadata": {},
   "outputs": [
    {
     "data": {
      "text/html": [
       "<ol class=list-inline>\n",
       "\t<li>'coefficients'</li>\n",
       "\t<li>'residuals'</li>\n",
       "\t<li>'effects'</li>\n",
       "\t<li>'rank'</li>\n",
       "\t<li>'fitted.values'</li>\n",
       "\t<li>'assign'</li>\n",
       "\t<li>'qr'</li>\n",
       "\t<li>'df.residual'</li>\n",
       "\t<li>'xlevels'</li>\n",
       "\t<li>'call'</li>\n",
       "\t<li>'terms'</li>\n",
       "\t<li>'model'</li>\n",
       "</ol>\n"
      ],
      "text/latex": [
       "\\begin{enumerate*}\n",
       "\\item 'coefficients'\n",
       "\\item 'residuals'\n",
       "\\item 'effects'\n",
       "\\item 'rank'\n",
       "\\item 'fitted.values'\n",
       "\\item 'assign'\n",
       "\\item 'qr'\n",
       "\\item 'df.residual'\n",
       "\\item 'xlevels'\n",
       "\\item 'call'\n",
       "\\item 'terms'\n",
       "\\item 'model'\n",
       "\\end{enumerate*}\n"
      ],
      "text/markdown": [
       "1. 'coefficients'\n",
       "2. 'residuals'\n",
       "3. 'effects'\n",
       "4. 'rank'\n",
       "5. 'fitted.values'\n",
       "6. 'assign'\n",
       "7. 'qr'\n",
       "8. 'df.residual'\n",
       "9. 'xlevels'\n",
       "10. 'call'\n",
       "11. 'terms'\n",
       "12. 'model'\n",
       "\n",
       "\n"
      ],
      "text/plain": [
       " [1] \"coefficients\"  \"residuals\"     \"effects\"       \"rank\"         \n",
       " [5] \"fitted.values\" \"assign\"        \"qr\"            \"df.residual\"  \n",
       " [9] \"xlevels\"       \"call\"          \"terms\"         \"model\"        "
      ]
     },
     "metadata": {},
     "output_type": "display_data"
    },
    {
     "data": {
      "text/html": [
       "<table>\n",
       "<thead><tr><th scope=col>term</th><th scope=col>estimate</th><th scope=col>std.error</th><th scope=col>statistic</th><th scope=col>p.value</th></tr></thead>\n",
       "<tbody>\n",
       "\t<tr><td>(Intercept) </td><td>12.3514071  </td><td>0.62142019  </td><td>19.876096   </td><td>4.713507e-49</td></tr>\n",
       "\t<tr><td>Newspaper   </td><td> 0.0546931  </td><td>0.01657572  </td><td> 3.299591   </td><td>1.148196e-03</td></tr>\n",
       "</tbody>\n",
       "</table>\n"
      ],
      "text/latex": [
       "\\begin{tabular}{r|lllll}\n",
       " term & estimate & std.error & statistic & p.value\\\\\n",
       "\\hline\n",
       "\t (Intercept)  & 12.3514071   & 0.62142019   & 19.876096    & 4.713507e-49\\\\\n",
       "\t Newspaper    &  0.0546931   & 0.01657572   &  3.299591    & 1.148196e-03\\\\\n",
       "\\end{tabular}\n"
      ],
      "text/markdown": [
       "\n",
       "term | estimate | std.error | statistic | p.value | \n",
       "|---|---|\n",
       "| (Intercept)  | 12.3514071   | 0.62142019   | 19.876096    | 4.713507e-49 | \n",
       "| Newspaper    |  0.0546931   | 0.01657572   |  3.299591    | 1.148196e-03 | \n",
       "\n",
       "\n"
      ],
      "text/plain": [
       "  term        estimate   std.error  statistic p.value     \n",
       "1 (Intercept) 12.3514071 0.62142019 19.876096 4.713507e-49\n",
       "2 Newspaper    0.0546931 0.01657572  3.299591 1.148196e-03"
      ]
     },
     "metadata": {},
     "output_type": "display_data"
    },
    {
     "data": {
      "text/html": [
       "<table>\n",
       "<thead><tr><th scope=col>r.squared</th><th scope=col>adj.r.squared</th><th scope=col>sigma</th><th scope=col>statistic</th><th scope=col>p.value</th><th scope=col>df</th><th scope=col>logLik</th><th scope=col>AIC</th><th scope=col>BIC</th><th scope=col>deviance</th><th scope=col>df.residual</th></tr></thead>\n",
       "<tbody>\n",
       "\t<tr><td>0.05212045 </td><td>0.04733317 </td><td>5.09248    </td><td>10.8873    </td><td>0.001148196</td><td>2          </td><td>-608.3357  </td><td>1222.671   </td><td>1232.566   </td><td>5134.805   </td><td>198        </td></tr>\n",
       "</tbody>\n",
       "</table>\n"
      ],
      "text/latex": [
       "\\begin{tabular}{r|lllllllllll}\n",
       " r.squared & adj.r.squared & sigma & statistic & p.value & df & logLik & AIC & BIC & deviance & df.residual\\\\\n",
       "\\hline\n",
       "\t 0.05212045  & 0.04733317  & 5.09248     & 10.8873     & 0.001148196 & 2           & -608.3357   & 1222.671    & 1232.566    & 5134.805    & 198        \\\\\n",
       "\\end{tabular}\n"
      ],
      "text/markdown": [
       "\n",
       "r.squared | adj.r.squared | sigma | statistic | p.value | df | logLik | AIC | BIC | deviance | df.residual | \n",
       "|---|\n",
       "| 0.05212045  | 0.04733317  | 5.09248     | 10.8873     | 0.001148196 | 2           | -608.3357   | 1222.671    | 1232.566    | 5134.805    | 198         | \n",
       "\n",
       "\n"
      ],
      "text/plain": [
       "  r.squared  adj.r.squared sigma   statistic p.value     df logLik    AIC     \n",
       "1 0.05212045 0.04733317    5.09248 10.8873   0.001148196 2  -608.3357 1222.671\n",
       "  BIC      deviance df.residual\n",
       "1 1232.566 5134.805 198        "
      ]
     },
     "metadata": {},
     "output_type": "display_data"
    }
   ],
   "source": [
    "# Okay, let's dig into this a little bit. But sticking to lm as it gives us nice fancy statistics :)\n",
    "# First, let's consider just the sales ~ newspaper relationship\n",
    "fitNews = lm(Sales~Newspaper,data=dat_adv)\n",
    "names(fitNews)\n",
    "\n",
    "tidy(fitNews)\n",
    "glance(fitNews)"
   ]
  },
  {
   "cell_type": "code",
   "execution_count": 533,
   "metadata": {},
   "outputs": [
    {
     "data": {
      "image/png": "[encoded data removed]",
      "text/plain": [
       "plot without title"
      ]
     },
     "metadata": {},
     "output_type": "display_data"
    },
    {
     "data": {
      "image/png": "[encoded data removed]",
      "text/plain": [
       "plot without title"
      ]
     },
     "metadata": {},
     "output_type": "display_data"
    }
   ],
   "source": [
    "# Plot it and its residuals\n",
    "plot(Sales ~ Newspaper, data = dat_adv)\n",
    "abline(fitNews)\n",
    "\n",
    "plot(dat_adv$Newspaper,fitNews$residuals)\n",
    "abline(0,0)\n",
    "\n",
    "#plot(fitNews)"
   ]
  },
  {
   "cell_type": "code",
   "execution_count": 525,
   "metadata": {},
   "outputs": [
    {
     "data": {
      "text/html": [
       "<table>\n",
       "<thead><tr><th></th><th scope=col>2.5 %</th><th scope=col>97.5 %</th></tr></thead>\n",
       "<tbody>\n",
       "\t<tr><th scope=row>(Intercept)</th><td>11.12595560</td><td>13.57685854</td></tr>\n",
       "\t<tr><th scope=row>Newspaper</th><td> 0.02200549</td><td> 0.08738071</td></tr>\n",
       "</tbody>\n",
       "</table>\n"
      ],
      "text/latex": [
       "\\begin{tabular}{r|ll}\n",
       "  & 2.5 \\% & 97.5 \\%\\\\\n",
       "\\hline\n",
       "\t(Intercept) & 11.12595560 & 13.57685854\\\\\n",
       "\tNewspaper &  0.02200549 &  0.08738071\\\\\n",
       "\\end{tabular}\n"
      ],
      "text/markdown": [
       "\n",
       "| <!--/--> | 2.5 % | 97.5 % | \n",
       "|---|---|\n",
       "| (Intercept) | 11.12595560 | 13.57685854 | \n",
       "| Newspaper |  0.02200549 |  0.08738071 | \n",
       "\n",
       "\n"
      ],
      "text/plain": [
       "            2.5 %       97.5 %     \n",
       "(Intercept) 11.12595560 13.57685854\n",
       "Newspaper    0.02200549  0.08738071"
      ]
     },
     "metadata": {},
     "output_type": "display_data"
    },
    {
     "data": {
      "text/html": [
       "<table>\n",
       "<thead><tr><th></th><th scope=col>fit</th><th scope=col>lwr</th><th scope=col>upr</th></tr></thead>\n",
       "<tbody>\n",
       "\t<tr><th scope=row>1</th><td>14.0225 </td><td>13.31239</td><td>14.73261</td></tr>\n",
       "</tbody>\n",
       "</table>\n"
      ],
      "text/latex": [
       "\\begin{tabular}{r|lll}\n",
       "  & fit & lwr & upr\\\\\n",
       "\\hline\n",
       "\t1 & 14.0225  & 13.31239 & 14.73261\\\\\n",
       "\\end{tabular}\n"
      ],
      "text/markdown": [
       "\n",
       "| <!--/--> | fit | lwr | upr | \n",
       "|---|\n",
       "| 1 | 14.0225  | 13.31239 | 14.73261 | \n",
       "\n",
       "\n"
      ],
      "text/plain": [
       "  fit     lwr      upr     \n",
       "1 14.0225 13.31239 14.73261"
      ]
     },
     "metadata": {},
     "output_type": "display_data"
    },
    {
     "data": {
      "text/html": [
       "<table>\n",
       "<thead><tr><th></th><th scope=col>fit</th><th scope=col>lwr</th><th scope=col>upr</th></tr></thead>\n",
       "<tbody>\n",
       "\t<tr><th scope=row>1</th><td>14.0225 </td><td>3.954965</td><td>24.09004</td></tr>\n",
       "</tbody>\n",
       "</table>\n"
      ],
      "text/latex": [
       "\\begin{tabular}{r|lll}\n",
       "  & fit & lwr & upr\\\\\n",
       "\\hline\n",
       "\t1 & 14.0225  & 3.954965 & 24.09004\\\\\n",
       "\\end{tabular}\n"
      ],
      "text/markdown": [
       "\n",
       "| <!--/--> | fit | lwr | upr | \n",
       "|---|\n",
       "| 1 | 14.0225  | 3.954965 | 24.09004 | \n",
       "\n",
       "\n"
      ],
      "text/plain": [
       "  fit     lwr      upr     \n",
       "1 14.0225 3.954965 24.09004"
      ]
     },
     "metadata": {},
     "output_type": "display_data"
    }
   ],
   "source": [
    "# Before moving on, get confidence intervals\n",
    "confint(fitNews)\n",
    "\n",
    "# As well as confidence/prediction intervals for specific values\n",
    "# (confidence = many data sets, predict = 1 data set)\n",
    "newsMean=mean(dat_adv$Newspaper)\n",
    "newdata = data.frame(Newspaper=newsMean)\n",
    "predict(fitNews,newdata,interval=\"confidence\")\n",
    "predict(fitNews,newdata,interval=\"predict\")"
   ]
  },
  {
   "cell_type": "markdown",
   "metadata": {},
   "source": [
    "## Discussion: Simple Linear Regression\n",
    "\n",
    "1. There does not appear to be a significant relationship between Newspaper and Sales: there is a spread about the line, and the R^2 statistic is very low.\n",
    "\n",
    "    However, the p-value is very small, so it seems likely to reject the null (only 0.1% chance that this data can be explained by the null hypothesis). There is also no discernible pattern to worry about in the residuals. "
   ]
  },
  {
   "cell_type": "markdown",
   "metadata": {},
   "source": [
    "---\n",
    "## Multivariate Regression"
   ]
  },
  {
   "cell_type": "code",
   "execution_count": 557,
   "metadata": {},
   "outputs": [
    {
     "data": {
      "text/html": [
       "<table>\n",
       "<thead><tr><th scope=col>term</th><th scope=col>estimate</th><th scope=col>std.error</th><th scope=col>statistic</th><th scope=col>p.value</th></tr></thead>\n",
       "<tbody>\n",
       "\t<tr><td>(Intercept) </td><td> 2.938889369</td><td>0.311908236 </td><td> 9.4222884  </td><td>1.267295e-17</td></tr>\n",
       "\t<tr><td>TV          </td><td> 0.045764645</td><td>0.001394897 </td><td>32.8086244  </td><td>1.509960e-81</td></tr>\n",
       "\t<tr><td>Radio       </td><td> 0.188530017</td><td>0.008611234 </td><td>21.8934961  </td><td>1.505339e-54</td></tr>\n",
       "\t<tr><td>Newspaper   </td><td>-0.001037493</td><td>0.005871010 </td><td>-0.1767146  </td><td>8.599151e-01</td></tr>\n",
       "</tbody>\n",
       "</table>\n"
      ],
      "text/latex": [
       "\\begin{tabular}{r|lllll}\n",
       " term & estimate & std.error & statistic & p.value\\\\\n",
       "\\hline\n",
       "\t (Intercept)  &  2.938889369 & 0.311908236  &  9.4222884   & 1.267295e-17\\\\\n",
       "\t TV           &  0.045764645 & 0.001394897  & 32.8086244   & 1.509960e-81\\\\\n",
       "\t Radio        &  0.188530017 & 0.008611234  & 21.8934961   & 1.505339e-54\\\\\n",
       "\t Newspaper    & -0.001037493 & 0.005871010  & -0.1767146   & 8.599151e-01\\\\\n",
       "\\end{tabular}\n"
      ],
      "text/markdown": [
       "\n",
       "term | estimate | std.error | statistic | p.value | \n",
       "|---|---|---|---|\n",
       "| (Intercept)  |  2.938889369 | 0.311908236  |  9.4222884   | 1.267295e-17 | \n",
       "| TV           |  0.045764645 | 0.001394897  | 32.8086244   | 1.509960e-81 | \n",
       "| Radio        |  0.188530017 | 0.008611234  | 21.8934961   | 1.505339e-54 | \n",
       "| Newspaper    | -0.001037493 | 0.005871010  | -0.1767146   | 8.599151e-01 | \n",
       "\n",
       "\n"
      ],
      "text/plain": [
       "  term        estimate     std.error   statistic  p.value     \n",
       "1 (Intercept)  2.938889369 0.311908236  9.4222884 1.267295e-17\n",
       "2 TV           0.045764645 0.001394897 32.8086244 1.509960e-81\n",
       "3 Radio        0.188530017 0.008611234 21.8934961 1.505339e-54\n",
       "4 Newspaper   -0.001037493 0.005871010 -0.1767146 8.599151e-01"
      ]
     },
     "metadata": {},
     "output_type": "display_data"
    },
    {
     "data": {
      "text/html": [
       "<table>\n",
       "<thead><tr><th scope=col>r.squared</th><th scope=col>adj.r.squared</th><th scope=col>sigma</th><th scope=col>statistic</th><th scope=col>p.value</th><th scope=col>df</th><th scope=col>logLik</th><th scope=col>AIC</th><th scope=col>BIC</th><th scope=col>deviance</th><th scope=col>df.residual</th></tr></thead>\n",
       "<tbody>\n",
       "\t<tr><td>0.8972106   </td><td>0.8956373   </td><td>1.68551     </td><td>570.2707    </td><td>1.575227e-96</td><td>4           </td><td>-386.1811   </td><td>782.3622    </td><td>798.8538    </td><td>556.8253    </td><td>196         </td></tr>\n",
       "</tbody>\n",
       "</table>\n"
      ],
      "text/latex": [
       "\\begin{tabular}{r|lllllllllll}\n",
       " r.squared & adj.r.squared & sigma & statistic & p.value & df & logLik & AIC & BIC & deviance & df.residual\\\\\n",
       "\\hline\n",
       "\t 0.8972106    & 0.8956373    & 1.68551      & 570.2707     & 1.575227e-96 & 4            & -386.1811    & 782.3622     & 798.8538     & 556.8253     & 196         \\\\\n",
       "\\end{tabular}\n"
      ],
      "text/markdown": [
       "\n",
       "r.squared | adj.r.squared | sigma | statistic | p.value | df | logLik | AIC | BIC | deviance | df.residual | \n",
       "|---|\n",
       "| 0.8972106    | 0.8956373    | 1.68551      | 570.2707     | 1.575227e-96 | 4            | -386.1811    | 782.3622     | 798.8538     | 556.8253     | 196          | \n",
       "\n",
       "\n"
      ],
      "text/plain": [
       "  r.squared adj.r.squared sigma   statistic p.value      df logLik    AIC     \n",
       "1 0.8972106 0.8956373     1.68551 570.2707  1.575227e-96 4  -386.1811 782.3622\n",
       "  BIC      deviance df.residual\n",
       "1 798.8538 556.8253 196        "
      ]
     },
     "metadata": {},
     "output_type": "display_data"
    }
   ],
   "source": [
    "# Next, we do a multiple regression on all 3 variables\n",
    "fitAll = lm(Sales~TV+Radio+Newspaper,data=dat_adv)\n",
    "\n",
    "tidy(fitAll)\n",
    "glance(fitAll)"
   ]
  },
  {
   "cell_type": "code",
   "execution_count": 507,
   "metadata": {},
   "outputs": [
    {
     "data": {
      "text/html": [
       "<table>\n",
       "<thead><tr><th></th><th scope=col>TV</th><th scope=col>Radio</th><th scope=col>Newspaper</th><th scope=col>Sales</th></tr></thead>\n",
       "<tbody>\n",
       "\t<tr><th scope=row>TV</th><td>1                 </td><td>0.0548086644658301</td><td>0.056647874965057 </td><td>0.782224424861606 </td></tr>\n",
       "\t<tr><th scope=row>Radio</th><td>                  </td><td>1                 </td><td>0.354103750761175 </td><td>0.576222574571055 </td></tr>\n",
       "\t<tr><th scope=row>Newspaper</th><td>                  </td><td>                  </td><td>1                 </td><td>0.228299026376165 </td></tr>\n",
       "\t<tr><th scope=row>Sales</th><td>                  </td><td>                  </td><td>                  </td><td>1                 </td></tr>\n",
       "</tbody>\n",
       "</table>\n"
      ],
      "text/latex": [
       "\\begin{tabular}{r|llll}\n",
       "  & TV & Radio & Newspaper & Sales\\\\\n",
       "\\hline\n",
       "\tTV & 1                  & 0.0548086644658301 & 0.056647874965057  & 0.782224424861606 \\\\\n",
       "\tRadio &                    & 1                  & 0.354103750761175  & 0.576222574571055 \\\\\n",
       "\tNewspaper &                    &                    & 1                  & 0.228299026376165 \\\\\n",
       "\tSales &                    &                    &                    & 1                 \\\\\n",
       "\\end{tabular}\n"
      ],
      "text/markdown": [
       "\n",
       "| <!--/--> | TV | Radio | Newspaper | Sales | \n",
       "|---|---|---|---|\n",
       "| TV | 1                  | 0.0548086644658301 | 0.056647874965057  | 0.782224424861606  | \n",
       "| Radio |                    | 1                  | 0.354103750761175  | 0.576222574571055  | \n",
       "| Newspaper |                    |                    | 1                  | 0.228299026376165  | \n",
       "| Sales |                    |                    |                    | 1                  | \n",
       "\n",
       "\n"
      ],
      "text/plain": [
       "          TV Radio              Newspaper         Sales            \n",
       "TV        1  0.0548086644658301 0.056647874965057 0.782224424861606\n",
       "Radio        1                  0.354103750761175 0.576222574571055\n",
       "Newspaper                       1                 0.228299026376165\n",
       "Sales                                             1                "
      ]
     },
     "metadata": {},
     "output_type": "display_data"
    },
    {
     "data": {},
     "metadata": {},
     "output_type": "display_data"
    },
    {
     "data": {
      "image/png": "[encoded data removed]",
      "text/plain": [
       "plot without title"
      ]
     },
     "metadata": {},
     "output_type": "display_data"
    }
   ],
   "source": [
    "# Let's also get some extra data about the relationships between parameters\n",
    "\n",
    "# correlation matrix\n",
    "corrs=cor(dat_adv)\n",
    "corrs[lower.tri(corrs)]<- \"\"\n",
    "\n",
    "corrs\n",
    "ggpairs(dat_adv)"
   ]
  },
  {
   "cell_type": "markdown",
   "metadata": {},
   "source": [
    "## Discussion: Multiple Linear Regression\n",
    "\n",
    "2. Now that we have added the other variables, the p-value for Newspaper has increased to 86%. So it seems unlikely that this parameter is actually a good predictor after all. \n",
    "\n",
    "3. This *does* make sense, as we can see there is a reasonable correlation between radio and newspaper, and so the earlier simple linear regression was picking up the radio/sales relationship, essentially by accident. "
   ]
  },
  {
   "cell_type": "markdown",
   "metadata": {},
   "source": [
    "---\n",
    "---\n",
    "---\n",
    "# Problem 3 - Assumptions and Diagnostics\n",
    "---\n",
    "---\n",
    "---"
   ]
  },
  {
   "cell_type": "markdown",
   "metadata": {},
   "source": [
    "## Discussion: Assumptions\n",
    "\n",
    "1. Typically, we assume that the errors are **iid** (identical, independently distributed). Trends in residuals can point to this being false (ie. errors are heteroscedastic?).\n",
    "\n",
    "    We also assume that they are uncorrelated, which may not always be the case.(eg. time series data)\n",
    "    \n",
    "    If the errors are well behaved then so should be the residuals (no patterns).\n",
    "    \n",
    "    Funnel shapes can indicate heteroscedasticity.\n",
    "    \n",
    "    QQ Plots can also tell us about the errors: normally distributed data would follow a straight line. Deviations from the line imply the errors are not all the same."
   ]
  },
  {
   "cell_type": "code",
   "execution_count": 764,
   "metadata": {},
   "outputs": [
    {
     "name": "stdout",
     "output_type": "stream",
     "text": [
      "[1] \"ALL\"\n"
     ]
    },
    {
     "data": {
      "text/html": [
       "<table>\n",
       "<thead><tr><th scope=col>term</th><th scope=col>estimate</th><th scope=col>std.error</th><th scope=col>statistic</th><th scope=col>p.value</th></tr></thead>\n",
       "<tbody>\n",
       "\t<tr><td>(Intercept) </td><td> 2.938889369</td><td>0.311908236 </td><td> 9.4222884  </td><td>1.267295e-17</td></tr>\n",
       "\t<tr><td>TV          </td><td> 0.045764645</td><td>0.001394897 </td><td>32.8086244  </td><td>1.509960e-81</td></tr>\n",
       "\t<tr><td>Radio       </td><td> 0.188530017</td><td>0.008611234 </td><td>21.8934961  </td><td>1.505339e-54</td></tr>\n",
       "\t<tr><td>Newspaper   </td><td>-0.001037493</td><td>0.005871010 </td><td>-0.1767146  </td><td>8.599151e-01</td></tr>\n",
       "</tbody>\n",
       "</table>\n"
      ],
      "text/latex": [
       "\\begin{tabular}{r|lllll}\n",
       " term & estimate & std.error & statistic & p.value\\\\\n",
       "\\hline\n",
       "\t (Intercept)  &  2.938889369 & 0.311908236  &  9.4222884   & 1.267295e-17\\\\\n",
       "\t TV           &  0.045764645 & 0.001394897  & 32.8086244   & 1.509960e-81\\\\\n",
       "\t Radio        &  0.188530017 & 0.008611234  & 21.8934961   & 1.505339e-54\\\\\n",
       "\t Newspaper    & -0.001037493 & 0.005871010  & -0.1767146   & 8.599151e-01\\\\\n",
       "\\end{tabular}\n"
      ],
      "text/markdown": [
       "\n",
       "term | estimate | std.error | statistic | p.value | \n",
       "|---|---|---|---|\n",
       "| (Intercept)  |  2.938889369 | 0.311908236  |  9.4222884   | 1.267295e-17 | \n",
       "| TV           |  0.045764645 | 0.001394897  | 32.8086244   | 1.509960e-81 | \n",
       "| Radio        |  0.188530017 | 0.008611234  | 21.8934961   | 1.505339e-54 | \n",
       "| Newspaper    | -0.001037493 | 0.005871010  | -0.1767146   | 8.599151e-01 | \n",
       "\n",
       "\n"
      ],
      "text/plain": [
       "  term        estimate     std.error   statistic  p.value     \n",
       "1 (Intercept)  2.938889369 0.311908236  9.4222884 1.267295e-17\n",
       "2 TV           0.045764645 0.001394897 32.8086244 1.509960e-81\n",
       "3 Radio        0.188530017 0.008611234 21.8934961 1.505339e-54\n",
       "4 Newspaper   -0.001037493 0.005871010 -0.1767146 8.599151e-01"
      ]
     },
     "metadata": {},
     "output_type": "display_data"
    },
    {
     "data": {
      "text/html": [
       "<table>\n",
       "<thead><tr><th scope=col>r.squared</th><th scope=col>adj.r.squared</th><th scope=col>sigma</th><th scope=col>statistic</th><th scope=col>p.value</th><th scope=col>df</th><th scope=col>logLik</th><th scope=col>AIC</th><th scope=col>BIC</th><th scope=col>deviance</th><th scope=col>df.residual</th></tr></thead>\n",
       "<tbody>\n",
       "\t<tr><td>0.8972106   </td><td>0.8956373   </td><td>1.68551     </td><td>570.2707    </td><td>1.575227e-96</td><td>4           </td><td>-386.1811   </td><td>782.3622    </td><td>798.8538    </td><td>556.8253    </td><td>196         </td></tr>\n",
       "</tbody>\n",
       "</table>\n"
      ],
      "text/latex": [
       "\\begin{tabular}{r|lllllllllll}\n",
       " r.squared & adj.r.squared & sigma & statistic & p.value & df & logLik & AIC & BIC & deviance & df.residual\\\\\n",
       "\\hline\n",
       "\t 0.8972106    & 0.8956373    & 1.68551      & 570.2707     & 1.575227e-96 & 4            & -386.1811    & 782.3622     & 798.8538     & 556.8253     & 196         \\\\\n",
       "\\end{tabular}\n"
      ],
      "text/markdown": [
       "\n",
       "r.squared | adj.r.squared | sigma | statistic | p.value | df | logLik | AIC | BIC | deviance | df.residual | \n",
       "|---|\n",
       "| 0.8972106    | 0.8956373    | 1.68551      | 570.2707     | 1.575227e-96 | 4            | -386.1811    | 782.3622     | 798.8538     | 556.8253     | 196          | \n",
       "\n",
       "\n"
      ],
      "text/plain": [
       "  r.squared adj.r.squared sigma   statistic p.value      df logLik    AIC     \n",
       "1 0.8972106 0.8956373     1.68551 570.2707  1.575227e-96 4  -386.1811 782.3622\n",
       "  BIC      deviance df.residual\n",
       "1 798.8538 556.8253 196        "
      ]
     },
     "metadata": {},
     "output_type": "display_data"
    },
    {
     "data": {
      "image/png": "[encoded data removed]",
      "text/plain": [
       "Plot with title \"\""
      ]
     },
     "metadata": {},
     "output_type": "display_data"
    }
   ],
   "source": [
    "# Let's make a few different models and see how they compare\n",
    "# Using x1:x2 adds only the iteraction\n",
    "# Using x1*x2 adds x1+x2+x1:x2 (easy to obey the hierarchy principle this way)\n",
    "# Using poly(x1,d) adds polynomials up to d\n",
    "options(repr.plot.width=7, repr.plot.height=4)\n",
    "\n",
    "# all variables\n",
    "fit1N = \"ALL\"\n",
    "fit1 = lm(Sales~TV+Radio+Newspaper,data=dat_adv)\n",
    "print(fit1N)\n",
    "tidy(fit1)\n",
    "glance(fit1)\n",
    "par(mfrow=c(1,2))\n",
    "plot(fit1,which=1:2)"
   ]
  },
  {
   "cell_type": "code",
   "execution_count": 763,
   "metadata": {
    "scrolled": false
   },
   "outputs": [
    {
     "name": "stdout",
     "output_type": "stream",
     "text": [
      "[1] \"TV and Radio\"\n"
     ]
    },
    {
     "data": {
      "text/html": [
       "<table>\n",
       "<thead><tr><th scope=col>term</th><th scope=col>estimate</th><th scope=col>std.error</th><th scope=col>statistic</th><th scope=col>p.value</th></tr></thead>\n",
       "<tbody>\n",
       "\t<tr><td>(Intercept) </td><td>2.92109991  </td><td>0.294489678 </td><td> 9.919193   </td><td>4.565557e-19</td></tr>\n",
       "\t<tr><td>TV          </td><td>0.04575482  </td><td>0.001390356 </td><td>32.908708   </td><td>5.436980e-82</td></tr>\n",
       "\t<tr><td>Radio       </td><td>0.18799423  </td><td>0.008039973 </td><td>23.382446   </td><td>9.776972e-59</td></tr>\n",
       "</tbody>\n",
       "</table>\n"
      ],
      "text/latex": [
       "\\begin{tabular}{r|lllll}\n",
       " term & estimate & std.error & statistic & p.value\\\\\n",
       "\\hline\n",
       "\t (Intercept)  & 2.92109991   & 0.294489678  &  9.919193    & 4.565557e-19\\\\\n",
       "\t TV           & 0.04575482   & 0.001390356  & 32.908708    & 5.436980e-82\\\\\n",
       "\t Radio        & 0.18799423   & 0.008039973  & 23.382446    & 9.776972e-59\\\\\n",
       "\\end{tabular}\n"
      ],
      "text/markdown": [
       "\n",
       "term | estimate | std.error | statistic | p.value | \n",
       "|---|---|---|\n",
       "| (Intercept)  | 2.92109991   | 0.294489678  |  9.919193    | 4.565557e-19 | \n",
       "| TV           | 0.04575482   | 0.001390356  | 32.908708    | 5.436980e-82 | \n",
       "| Radio        | 0.18799423   | 0.008039973  | 23.382446    | 9.776972e-59 | \n",
       "\n",
       "\n"
      ],
      "text/plain": [
       "  term        estimate   std.error   statistic p.value     \n",
       "1 (Intercept) 2.92109991 0.294489678  9.919193 4.565557e-19\n",
       "2 TV          0.04575482 0.001390356 32.908708 5.436980e-82\n",
       "3 Radio       0.18799423 0.008039973 23.382446 9.776972e-59"
      ]
     },
     "metadata": {},
     "output_type": "display_data"
    },
    {
     "data": {
      "text/html": [
       "<table>\n",
       "<thead><tr><th scope=col>r.squared</th><th scope=col>adj.r.squared</th><th scope=col>sigma</th><th scope=col>statistic</th><th scope=col>p.value</th><th scope=col>df</th><th scope=col>logLik</th><th scope=col>AIC</th><th scope=col>BIC</th><th scope=col>deviance</th><th scope=col>df.residual</th></tr></thead>\n",
       "<tbody>\n",
       "\t<tr><td>0.8971943   </td><td>0.8961505   </td><td>1.681361    </td><td>859.6177    </td><td>4.827362e-98</td><td>3           </td><td>-386.197    </td><td>780.3941    </td><td>793.5874    </td><td>556.914     </td><td>197         </td></tr>\n",
       "</tbody>\n",
       "</table>\n"
      ],
      "text/latex": [
       "\\begin{tabular}{r|lllllllllll}\n",
       " r.squared & adj.r.squared & sigma & statistic & p.value & df & logLik & AIC & BIC & deviance & df.residual\\\\\n",
       "\\hline\n",
       "\t 0.8971943    & 0.8961505    & 1.681361     & 859.6177     & 4.827362e-98 & 3            & -386.197     & 780.3941     & 793.5874     & 556.914      & 197         \\\\\n",
       "\\end{tabular}\n"
      ],
      "text/markdown": [
       "\n",
       "r.squared | adj.r.squared | sigma | statistic | p.value | df | logLik | AIC | BIC | deviance | df.residual | \n",
       "|---|\n",
       "| 0.8971943    | 0.8961505    | 1.681361     | 859.6177     | 4.827362e-98 | 3            | -386.197     | 780.3941     | 793.5874     | 556.914      | 197          | \n",
       "\n",
       "\n"
      ],
      "text/plain": [
       "  r.squared adj.r.squared sigma    statistic p.value      df logLik   AIC     \n",
       "1 0.8971943 0.8961505     1.681361 859.6177  4.827362e-98 3  -386.197 780.3941\n",
       "  BIC      deviance df.residual\n",
       "1 793.5874 556.914  197        "
      ]
     },
     "metadata": {},
     "output_type": "display_data"
    },
    {
     "data": {
      "image/png": "[encoded data removed]",
      "text/plain": [
       "Plot with title \"\""
      ]
     },
     "metadata": {},
     "output_type": "display_data"
    }
   ],
   "source": [
    "# tv and radio\n",
    "fit2N = 'TV and Radio'\n",
    "fit2 = lm(Sales~TV+Radio,data=dat_adv)\n",
    "print(fit2N)\n",
    "tidy(fit2)\n",
    "glance(fit2)\n",
    "par(mfrow=c(1,2))\n",
    "plot(fit2,which=1:2)"
   ]
  },
  {
   "cell_type": "code",
   "execution_count": 765,
   "metadata": {
    "scrolled": false
   },
   "outputs": [
    {
     "name": "stdout",
     "output_type": "stream",
     "text": [
      "[1] \"TV+Radio*News\"\n"
     ]
    },
    {
     "data": {
      "text/html": [
       "<table>\n",
       "<thead><tr><th scope=col>term</th><th scope=col>estimate</th><th scope=col>std.error</th><th scope=col>statistic</th><th scope=col>p.value</th></tr></thead>\n",
       "<tbody>\n",
       "\t<tr><td>(Intercept)    </td><td> 3.1466791146  </td><td>0.437486093    </td><td> 7.1926380     </td><td>1.329485e-11   </td></tr>\n",
       "\t<tr><td>TV             </td><td> 0.0458206682  </td><td>0.001399261    </td><td>32.7463229     </td><td>3.460610e-81   </td></tr>\n",
       "\t<tr><td>Radio          </td><td> 0.1801233939  </td><td>0.015098112    </td><td>11.9301936     </td><td>5.418153e-25   </td></tr>\n",
       "\t<tr><td>Newspaper      </td><td>-0.0093828247  </td><td>0.013635515    </td><td>-0.6881167     </td><td>4.921971e-01   </td></tr>\n",
       "\t<tr><td>Radio:Newspaper</td><td> 0.0002843678  </td><td>0.000419225    </td><td> 0.6783180     </td><td>4.983743e-01   </td></tr>\n",
       "</tbody>\n",
       "</table>\n"
      ],
      "text/latex": [
       "\\begin{tabular}{r|lllll}\n",
       " term & estimate & std.error & statistic & p.value\\\\\n",
       "\\hline\n",
       "\t (Intercept)     &  3.1466791146   & 0.437486093     &  7.1926380      & 1.329485e-11   \\\\\n",
       "\t TV              &  0.0458206682   & 0.001399261     & 32.7463229      & 3.460610e-81   \\\\\n",
       "\t Radio           &  0.1801233939   & 0.015098112     & 11.9301936      & 5.418153e-25   \\\\\n",
       "\t Newspaper       & -0.0093828247   & 0.013635515     & -0.6881167      & 4.921971e-01   \\\\\n",
       "\t Radio:Newspaper &  0.0002843678   & 0.000419225     &  0.6783180      & 4.983743e-01   \\\\\n",
       "\\end{tabular}\n"
      ],
      "text/markdown": [
       "\n",
       "term | estimate | std.error | statistic | p.value | \n",
       "|---|---|---|---|---|\n",
       "| (Intercept)     |  3.1466791146   | 0.437486093     |  7.1926380      | 1.329485e-11    | \n",
       "| TV              |  0.0458206682   | 0.001399261     | 32.7463229      | 3.460610e-81    | \n",
       "| Radio           |  0.1801233939   | 0.015098112     | 11.9301936      | 5.418153e-25    | \n",
       "| Newspaper       | -0.0093828247   | 0.013635515     | -0.6881167      | 4.921971e-01    | \n",
       "| Radio:Newspaper |  0.0002843678   | 0.000419225     |  0.6783180      | 4.983743e-01    | \n",
       "\n",
       "\n"
      ],
      "text/plain": [
       "  term            estimate      std.error   statistic  p.value     \n",
       "1 (Intercept)      3.1466791146 0.437486093  7.1926380 1.329485e-11\n",
       "2 TV               0.0458206682 0.001399261 32.7463229 3.460610e-81\n",
       "3 Radio            0.1801233939 0.015098112 11.9301936 5.418153e-25\n",
       "4 Newspaper       -0.0093828247 0.013635515 -0.6881167 4.921971e-01\n",
       "5 Radio:Newspaper  0.0002843678 0.000419225  0.6783180 4.983743e-01"
      ]
     },
     "metadata": {},
     "output_type": "display_data"
    },
    {
     "data": {
      "text/html": [
       "<table>\n",
       "<thead><tr><th scope=col>r.squared</th><th scope=col>adj.r.squared</th><th scope=col>sigma</th><th scope=col>statistic</th><th scope=col>p.value</th><th scope=col>df</th><th scope=col>logLik</th><th scope=col>AIC</th><th scope=col>BIC</th><th scope=col>deviance</th><th scope=col>df.residual</th></tr></thead>\n",
       "<tbody>\n",
       "\t<tr><td>0.8974526   </td><td>0.8953491   </td><td>1.687837    </td><td>426.6399    </td><td>3.251642e-95</td><td>5           </td><td>-385.9454   </td><td>783.8909    </td><td>803.6808    </td><td>555.5145    </td><td>195         </td></tr>\n",
       "</tbody>\n",
       "</table>\n"
      ],
      "text/latex": [
       "\\begin{tabular}{r|lllllllllll}\n",
       " r.squared & adj.r.squared & sigma & statistic & p.value & df & logLik & AIC & BIC & deviance & df.residual\\\\\n",
       "\\hline\n",
       "\t 0.8974526    & 0.8953491    & 1.687837     & 426.6399     & 3.251642e-95 & 5            & -385.9454    & 783.8909     & 803.6808     & 555.5145     & 195         \\\\\n",
       "\\end{tabular}\n"
      ],
      "text/markdown": [
       "\n",
       "r.squared | adj.r.squared | sigma | statistic | p.value | df | logLik | AIC | BIC | deviance | df.residual | \n",
       "|---|\n",
       "| 0.8974526    | 0.8953491    | 1.687837     | 426.6399     | 3.251642e-95 | 5            | -385.9454    | 783.8909     | 803.6808     | 555.5145     | 195          | \n",
       "\n",
       "\n"
      ],
      "text/plain": [
       "  r.squared adj.r.squared sigma    statistic p.value      df logLik    AIC     \n",
       "1 0.8974526 0.8953491     1.687837 426.6399  3.251642e-95 5  -385.9454 783.8909\n",
       "  BIC      deviance df.residual\n",
       "1 803.6808 555.5145 195        "
      ]
     },
     "metadata": {},
     "output_type": "display_data"
    },
    {
     "data": {
      "image/png": "[encoded data removed]",
      "text/plain": [
       "Plot with title \"\""
      ]
     },
     "metadata": {},
     "output_type": "display_data"
    }
   ],
   "source": [
    "# interaction between radio and newspaper\n",
    "fit3N = \"TV+Radio*News\"\n",
    "fit3 = lm(Sales~TV+Radio*Newspaper,data=dat_adv)\n",
    "print(fit3N)\n",
    "tidy(fit3)\n",
    "glance(fit3)\n",
    "par(mfrow=c(1,2))\n",
    "plot(fit3,which=1:2)"
   ]
  },
  {
   "cell_type": "code",
   "execution_count": 664,
   "metadata": {},
   "outputs": [
    {
     "name": "stdout",
     "output_type": "stream",
     "text": [
      "[1] \"TV*Radio*Newspaper\"\n"
     ]
    },
    {
     "data": {
      "text/html": [
       "<table>\n",
       "<thead><tr><th scope=col>term</th><th scope=col>estimate</th><th scope=col>std.error</th><th scope=col>statistic</th><th scope=col>p.value</th></tr></thead>\n",
       "<tbody>\n",
       "\t<tr><td>(Intercept)       </td><td> 6.555887e+00     </td><td>4.655340e-01      </td><td>14.08251124       </td><td>2.115629e-31      </td></tr>\n",
       "\t<tr><td>TV                </td><td> 1.971030e-02     </td><td>2.718753e-03      </td><td> 7.24975532       </td><td>9.950844e-12      </td></tr>\n",
       "\t<tr><td>Radio             </td><td> 1.962160e-02     </td><td>1.639134e-02      </td><td> 1.19707096       </td><td>2.327548e-01      </td></tr>\n",
       "\t<tr><td>Newspaper         </td><td> 1.310565e-02     </td><td>1.721126e-02      </td><td> 0.76145801       </td><td>4.473178e-01      </td></tr>\n",
       "\t<tr><td>TV:Radio          </td><td> 1.161523e-03     </td><td>9.753370e-05      </td><td>11.90893563       </td><td>7.621102e-25      </td></tr>\n",
       "\t<tr><td>TV:Newspaper      </td><td>-5.545501e-05     </td><td>9.325979e-05      </td><td>-0.59462937       </td><td>5.527913e-01      </td></tr>\n",
       "\t<tr><td>Radio:Newspaper   </td><td> 9.062944e-06     </td><td>4.831050e-04      </td><td> 0.01875978       </td><td>9.850522e-01      </td></tr>\n",
       "\t<tr><td>TV:Radio:Newspaper</td><td>-7.609955e-07     </td><td>2.700343e-06      </td><td>-0.28181444       </td><td>7.783893e-01      </td></tr>\n",
       "</tbody>\n",
       "</table>\n"
      ],
      "text/latex": [
       "\\begin{tabular}{r|lllll}\n",
       " term & estimate & std.error & statistic & p.value\\\\\n",
       "\\hline\n",
       "\t (Intercept)        &  6.555887e+00      & 4.655340e-01       & 14.08251124        & 2.115629e-31      \\\\\n",
       "\t TV                 &  1.971030e-02      & 2.718753e-03       &  7.24975532        & 9.950844e-12      \\\\\n",
       "\t Radio              &  1.962160e-02      & 1.639134e-02       &  1.19707096        & 2.327548e-01      \\\\\n",
       "\t Newspaper          &  1.310565e-02      & 1.721126e-02       &  0.76145801        & 4.473178e-01      \\\\\n",
       "\t TV:Radio           &  1.161523e-03      & 9.753370e-05       & 11.90893563        & 7.621102e-25      \\\\\n",
       "\t TV:Newspaper       & -5.545501e-05      & 9.325979e-05       & -0.59462937        & 5.527913e-01      \\\\\n",
       "\t Radio:Newspaper    &  9.062944e-06      & 4.831050e-04       &  0.01875978        & 9.850522e-01      \\\\\n",
       "\t TV:Radio:Newspaper & -7.609955e-07      & 2.700343e-06       & -0.28181444        & 7.783893e-01      \\\\\n",
       "\\end{tabular}\n"
      ],
      "text/markdown": [
       "\n",
       "term | estimate | std.error | statistic | p.value | \n",
       "|---|---|---|---|---|---|---|---|\n",
       "| (Intercept)        |  6.555887e+00      | 4.655340e-01       | 14.08251124        | 2.115629e-31       | \n",
       "| TV                 |  1.971030e-02      | 2.718753e-03       |  7.24975532        | 9.950844e-12       | \n",
       "| Radio              |  1.962160e-02      | 1.639134e-02       |  1.19707096        | 2.327548e-01       | \n",
       "| Newspaper          |  1.310565e-02      | 1.721126e-02       |  0.76145801        | 4.473178e-01       | \n",
       "| TV:Radio           |  1.161523e-03      | 9.753370e-05       | 11.90893563        | 7.621102e-25       | \n",
       "| TV:Newspaper       | -5.545501e-05      | 9.325979e-05       | -0.59462937        | 5.527913e-01       | \n",
       "| Radio:Newspaper    |  9.062944e-06      | 4.831050e-04       |  0.01875978        | 9.850522e-01       | \n",
       "| TV:Radio:Newspaper | -7.609955e-07      | 2.700343e-06       | -0.28181444        | 7.783893e-01       | \n",
       "\n",
       "\n"
      ],
      "text/plain": [
       "  term               estimate      std.error    statistic   p.value     \n",
       "1 (Intercept)         6.555887e+00 4.655340e-01 14.08251124 2.115629e-31\n",
       "2 TV                  1.971030e-02 2.718753e-03  7.24975532 9.950844e-12\n",
       "3 Radio               1.962160e-02 1.639134e-02  1.19707096 2.327548e-01\n",
       "4 Newspaper           1.310565e-02 1.721126e-02  0.76145801 4.473178e-01\n",
       "5 TV:Radio            1.161523e-03 9.753370e-05 11.90893563 7.621102e-25\n",
       "6 TV:Newspaper       -5.545501e-05 9.325979e-05 -0.59462937 5.527913e-01\n",
       "7 Radio:Newspaper     9.062944e-06 4.831050e-04  0.01875978 9.850522e-01\n",
       "8 TV:Radio:Newspaper -7.609955e-07 2.700343e-06 -0.28181444 7.783893e-01"
      ]
     },
     "metadata": {},
     "output_type": "display_data"
    },
    {
     "data": {
      "text/html": [
       "<table>\n",
       "<thead><tr><th scope=col>r.squared</th><th scope=col>adj.r.squared</th><th scope=col>sigma</th><th scope=col>statistic</th><th scope=col>p.value</th><th scope=col>df</th><th scope=col>logLik</th><th scope=col>AIC</th><th scope=col>BIC</th><th scope=col>deviance</th><th scope=col>df.residual</th></tr></thead>\n",
       "<tbody>\n",
       "\t<tr><td>0.9686441    </td><td>0.9675009    </td><td>0.9405774    </td><td>847.3207     </td><td>1.164514e-140</td><td>8            </td><td>-267.4533    </td><td>552.9065     </td><td>582.5914     </td><td>169.8597     </td><td>192          </td></tr>\n",
       "</tbody>\n",
       "</table>\n"
      ],
      "text/latex": [
       "\\begin{tabular}{r|lllllllllll}\n",
       " r.squared & adj.r.squared & sigma & statistic & p.value & df & logLik & AIC & BIC & deviance & df.residual\\\\\n",
       "\\hline\n",
       "\t 0.9686441     & 0.9675009     & 0.9405774     & 847.3207      & 1.164514e-140 & 8             & -267.4533     & 552.9065      & 582.5914      & 169.8597      & 192          \\\\\n",
       "\\end{tabular}\n"
      ],
      "text/markdown": [
       "\n",
       "r.squared | adj.r.squared | sigma | statistic | p.value | df | logLik | AIC | BIC | deviance | df.residual | \n",
       "|---|\n",
       "| 0.9686441     | 0.9675009     | 0.9405774     | 847.3207      | 1.164514e-140 | 8             | -267.4533     | 552.9065      | 582.5914      | 169.8597      | 192           | \n",
       "\n",
       "\n"
      ],
      "text/plain": [
       "  r.squared adj.r.squared sigma     statistic p.value       df logLik   \n",
       "1 0.9686441 0.9675009     0.9405774 847.3207  1.164514e-140 8  -267.4533\n",
       "  AIC      BIC      deviance df.residual\n",
       "1 552.9065 582.5914 169.8597 192        "
      ]
     },
     "metadata": {},
     "output_type": "display_data"
    },
    {
     "data": {
      "image/png": "[encoded data removed]",
      "text/plain": [
       "Plot with title \"\""
      ]
     },
     "metadata": {},
     "output_type": "display_data"
    }
   ],
   "source": [
    "# All 3 multiplied\n",
    "fit4N = \"TV*Radio*Newspaper\"\n",
    "fit4 = lm(Sales~TV*Radio*Newspaper,data=dat_adv)\n",
    "print(fit4N)\n",
    "tidy(fit4)\n",
    "glance(fit4)\n",
    "par(mfrow=c(1,2))\n",
    "plot(fit4,which=1:2)"
   ]
  },
  {
   "cell_type": "code",
   "execution_count": 873,
   "metadata": {},
   "outputs": [
    {
     "name": "stdout",
     "output_type": "stream",
     "text": [
      "[1] \"TV^2\"\n"
     ]
    },
    {
     "data": {
      "text/html": [
       "<table>\n",
       "<thead><tr><th scope=col>term</th><th scope=col>estimate</th><th scope=col>std.error</th><th scope=col>statistic</th><th scope=col>p.value</th></tr></thead>\n",
       "<tbody>\n",
       "\t<tr><td>(Intercept)  </td><td> 6.114120e+00</td><td>0.6592224346 </td><td> 9.274745    </td><td>3.226267e-17 </td></tr>\n",
       "\t<tr><td>TV           </td><td> 6.726593e-02</td><td>0.0105944044 </td><td> 6.349194    </td><td>1.461837e-09 </td></tr>\n",
       "\t<tr><td>I(TV^2)      </td><td>-6.846934e-05</td><td>0.0000355783 </td><td>-1.924469    </td><td>5.573659e-02 </td></tr>\n",
       "</tbody>\n",
       "</table>\n"
      ],
      "text/latex": [
       "\\begin{tabular}{r|lllll}\n",
       " term & estimate & std.error & statistic & p.value\\\\\n",
       "\\hline\n",
       "\t (Intercept)   &  6.114120e+00 & 0.6592224346  &  9.274745     & 3.226267e-17 \\\\\n",
       "\t TV            &  6.726593e-02 & 0.0105944044  &  6.349194     & 1.461837e-09 \\\\\n",
       "\t I(TV\\textasciicircum{}2)     & -6.846934e-05                 & 0.0000355783                  & -1.924469                     & 5.573659e-02                 \\\\\n",
       "\\end{tabular}\n"
      ],
      "text/markdown": [
       "\n",
       "term | estimate | std.error | statistic | p.value | \n",
       "|---|---|---|\n",
       "| (Intercept)   |  6.114120e+00 | 0.6592224346  |  9.274745     | 3.226267e-17  | \n",
       "| TV            |  6.726593e-02 | 0.0105944044  |  6.349194     | 1.461837e-09  | \n",
       "| I(TV^2)       | -6.846934e-05 | 0.0000355783  | -1.924469     | 5.573659e-02  | \n",
       "\n",
       "\n"
      ],
      "text/plain": [
       "  term        estimate      std.error    statistic p.value     \n",
       "1 (Intercept)  6.114120e+00 0.6592224346  9.274745 3.226267e-17\n",
       "2 TV           6.726593e-02 0.0105944044  6.349194 1.461837e-09\n",
       "3 I(TV^2)     -6.846934e-05 0.0000355783 -1.924469 5.573659e-02"
      ]
     },
     "metadata": {},
     "output_type": "display_data"
    },
    {
     "data": {
      "text/html": [
       "<table>\n",
       "<thead><tr><th scope=col>r.squared</th><th scope=col>adj.r.squared</th><th scope=col>sigma</th><th scope=col>statistic</th><th scope=col>p.value</th><th scope=col>df</th><th scope=col>logLik</th><th scope=col>AIC</th><th scope=col>BIC</th><th scope=col>deviance</th><th scope=col>df.residual</th></tr></thead>\n",
       "<tbody>\n",
       "\t<tr><td>0.6190371   </td><td>0.6151695   </td><td>3.236634    </td><td>160.0554    </td><td>5.211257e-42</td><td>3           </td><td>-517.1831   </td><td>1042.366    </td><td>1055.56     </td><td>2063.733    </td><td>197         </td></tr>\n",
       "</tbody>\n",
       "</table>\n"
      ],
      "text/latex": [
       "\\begin{tabular}{r|lllllllllll}\n",
       " r.squared & adj.r.squared & sigma & statistic & p.value & df & logLik & AIC & BIC & deviance & df.residual\\\\\n",
       "\\hline\n",
       "\t 0.6190371    & 0.6151695    & 3.236634     & 160.0554     & 5.211257e-42 & 3            & -517.1831    & 1042.366     & 1055.56      & 2063.733     & 197         \\\\\n",
       "\\end{tabular}\n"
      ],
      "text/markdown": [
       "\n",
       "r.squared | adj.r.squared | sigma | statistic | p.value | df | logLik | AIC | BIC | deviance | df.residual | \n",
       "|---|\n",
       "| 0.6190371    | 0.6151695    | 3.236634     | 160.0554     | 5.211257e-42 | 3            | -517.1831    | 1042.366     | 1055.56      | 2063.733     | 197          | \n",
       "\n",
       "\n"
      ],
      "text/plain": [
       "  r.squared adj.r.squared sigma    statistic p.value      df logLik    AIC     \n",
       "1 0.6190371 0.6151695     3.236634 160.0554  5.211257e-42 3  -517.1831 1042.366\n",
       "  BIC     deviance df.residual\n",
       "1 1055.56 2063.733 197        "
      ]
     },
     "metadata": {},
     "output_type": "display_data"
    },
    {
     "data": {
      "image/png": "[encoded data removed]",
      "text/plain": [
       "Plot with title \"\""
      ]
     },
     "metadata": {},
     "output_type": "display_data"
    }
   ],
   "source": [
    "# Square TV\n",
    "fit5N = \"TV^2\"\n",
    "fit5 = lm(Sales~TV+I(TV^2),data=dat_adv)\n",
    "print(fit5N)\n",
    "tidy(fit5)\n",
    "glance(fit5)\n",
    "par(mfrow=c(1,2))\n",
    "plot(fit5,which=1:2)"
   ]
  },
  {
   "cell_type": "code",
   "execution_count": 872,
   "metadata": {},
   "outputs": [
    {
     "name": "stdout",
     "output_type": "stream",
     "text": [
      "[1] \"TV^2+Radio^2+Radio*TV\"\n"
     ]
    },
    {
     "data": {
      "text/html": [
       "<table>\n",
       "<thead><tr><th scope=col>term</th><th scope=col>estimate</th><th scope=col>std.error</th><th scope=col>statistic</th><th scope=col>p.value</th></tr></thead>\n",
       "<tbody>\n",
       "\t<tr><td>(Intercept)  </td><td> 5.1944418669</td><td>2.061142e-01 </td><td> 25.201772   </td><td>4.217878e-63 </td></tr>\n",
       "\t<tr><td>Radio        </td><td> 0.0265400299</td><td>1.242355e-02 </td><td>  2.136267   </td><td>3.391075e-02 </td></tr>\n",
       "\t<tr><td>TV           </td><td> 0.0509930683</td><td>2.236458e-03 </td><td> 22.800818   </td><td>8.725651e-57 </td></tr>\n",
       "\t<tr><td>I(TV^2)      </td><td>-0.0001098163</td><td>6.900751e-06 </td><td>-15.913669   </td><td>4.933640e-37 </td></tr>\n",
       "\t<tr><td>I(Radio^2)   </td><td> 0.0001860761</td><td>2.358729e-04 </td><td>  0.788883   </td><td>4.311434e-01 </td></tr>\n",
       "\t<tr><td>Radio:TV     </td><td> 0.0010746208</td><td>3.478588e-05 </td><td> 30.892445   </td><td>7.709541e-77 </td></tr>\n",
       "</tbody>\n",
       "</table>\n"
      ],
      "text/latex": [
       "\\begin{tabular}{r|lllll}\n",
       " term & estimate & std.error & statistic & p.value\\\\\n",
       "\\hline\n",
       "\t (Intercept)   &  5.1944418669 & 2.061142e-01  &  25.201772    & 4.217878e-63 \\\\\n",
       "\t Radio         &  0.0265400299 & 1.242355e-02  &   2.136267    & 3.391075e-02 \\\\\n",
       "\t TV            &  0.0509930683 & 2.236458e-03  &  22.800818    & 8.725651e-57 \\\\\n",
       "\t I(TV\\textasciicircum{}2)     & -0.0001098163                 & 6.900751e-06                  & -15.913669                    & 4.933640e-37                 \\\\\n",
       "\t I(Radio\\textasciicircum{}2)  &  0.0001860761                 & 2.358729e-04                  &   0.788883                    & 4.311434e-01                 \\\\\n",
       "\t Radio:TV      &  0.0010746208 & 3.478588e-05  &  30.892445    & 7.709541e-77 \\\\\n",
       "\\end{tabular}\n"
      ],
      "text/markdown": [
       "\n",
       "term | estimate | std.error | statistic | p.value | \n",
       "|---|---|---|---|---|---|\n",
       "| (Intercept)   |  5.1944418669 | 2.061142e-01  |  25.201772    | 4.217878e-63  | \n",
       "| Radio         |  0.0265400299 | 1.242355e-02  |   2.136267    | 3.391075e-02  | \n",
       "| TV            |  0.0509930683 | 2.236458e-03  |  22.800818    | 8.725651e-57  | \n",
       "| I(TV^2)       | -0.0001098163 | 6.900751e-06  | -15.913669    | 4.933640e-37  | \n",
       "| I(Radio^2)    |  0.0001860761 | 2.358729e-04  |   0.788883    | 4.311434e-01  | \n",
       "| Radio:TV      |  0.0010746208 | 3.478588e-05  |  30.892445    | 7.709541e-77  | \n",
       "\n",
       "\n"
      ],
      "text/plain": [
       "  term        estimate      std.error    statistic  p.value     \n",
       "1 (Intercept)  5.1944418669 2.061142e-01  25.201772 4.217878e-63\n",
       "2 Radio        0.0265400299 1.242355e-02   2.136267 3.391075e-02\n",
       "3 TV           0.0509930683 2.236458e-03  22.800818 8.725651e-57\n",
       "4 I(TV^2)     -0.0001098163 6.900751e-06 -15.913669 4.933640e-37\n",
       "5 I(Radio^2)   0.0001860761 2.358729e-04   0.788883 4.311434e-01\n",
       "6 Radio:TV     0.0010746208 3.478588e-05  30.892445 7.709541e-77"
      ]
     },
     "metadata": {},
     "output_type": "display_data"
    },
    {
     "data": {
      "text/html": [
       "<table>\n",
       "<thead><tr><th scope=col>r.squared</th><th scope=col>adj.r.squared</th><th scope=col>sigma</th><th scope=col>statistic</th><th scope=col>p.value</th><th scope=col>df</th><th scope=col>logLik</th><th scope=col>AIC</th><th scope=col>BIC</th><th scope=col>deviance</th><th scope=col>df.residual</th></tr></thead>\n",
       "<tbody>\n",
       "\t<tr><td>0.9860391    </td><td>0.9856793    </td><td>0.6243688    </td><td>2740.391     </td><td>8.173208e-178</td><td>6            </td><td>-186.539     </td><td>387.078      </td><td>410.1662     </td><td>75.62827     </td><td>194          </td></tr>\n",
       "</tbody>\n",
       "</table>\n"
      ],
      "text/latex": [
       "\\begin{tabular}{r|lllllllllll}\n",
       " r.squared & adj.r.squared & sigma & statistic & p.value & df & logLik & AIC & BIC & deviance & df.residual\\\\\n",
       "\\hline\n",
       "\t 0.9860391     & 0.9856793     & 0.6243688     & 2740.391      & 8.173208e-178 & 6             & -186.539      & 387.078       & 410.1662      & 75.62827      & 194          \\\\\n",
       "\\end{tabular}\n"
      ],
      "text/markdown": [
       "\n",
       "r.squared | adj.r.squared | sigma | statistic | p.value | df | logLik | AIC | BIC | deviance | df.residual | \n",
       "|---|\n",
       "| 0.9860391     | 0.9856793     | 0.6243688     | 2740.391      | 8.173208e-178 | 6             | -186.539      | 387.078       | 410.1662      | 75.62827      | 194           | \n",
       "\n",
       "\n"
      ],
      "text/plain": [
       "  r.squared adj.r.squared sigma     statistic p.value       df logLik   AIC    \n",
       "1 0.9860391 0.9856793     0.6243688 2740.391  8.173208e-178 6  -186.539 387.078\n",
       "  BIC      deviance df.residual\n",
       "1 410.1662 75.62827 194        "
      ]
     },
     "metadata": {},
     "output_type": "display_data"
    },
    {
     "data": {
      "image/png": "[encoded data removed]",
      "text/plain": [
       "Plot with title \"\""
      ]
     },
     "metadata": {},
     "output_type": "display_data"
    }
   ],
   "source": [
    "# Square TV, Square Radio, Radio*TV\n",
    "fit6N = \"TV^2+Radio^2+Radio*TV\"\n",
    "fit6 = lm(Sales~Radio*TV+I(TV^2)+I(Radio^2),data=dat_adv)\n",
    "print(fit6N)\n",
    "tidy(fit6)\n",
    "glance(fit6)\n",
    "par(mfrow=c(1,2))\n",
    "plot(fit6,which=1:2)"
   ]
  },
  {
   "cell_type": "code",
   "execution_count": 871,
   "metadata": {},
   "outputs": [
    {
     "name": "stdout",
     "output_type": "stream",
     "text": [
      "[1] \"poly(TV,4)\"\n"
     ]
    },
    {
     "data": {
      "text/html": [
       "<table>\n",
       "<thead><tr><th scope=col>term</th><th scope=col>estimate</th><th scope=col>std.error</th><th scope=col>statistic</th><th scope=col>p.value</th></tr></thead>\n",
       "<tbody>\n",
       "\t<tr><td>(Intercept)  </td><td>14.022500    </td><td>0.2288355    </td><td>61.2776385   </td><td>2.387537e-129</td></tr>\n",
       "\t<tr><td>poly(TV, 4)1 </td><td>57.572721    </td><td>3.2362229    </td><td>17.7900974   </td><td> 1.062213e-42</td></tr>\n",
       "\t<tr><td>poly(TV, 4)2 </td><td>-6.228802    </td><td>3.2362229    </td><td>-1.9247136   </td><td> 5.572057e-02</td></tr>\n",
       "\t<tr><td>poly(TV, 4)3 </td><td> 4.007430    </td><td>3.2362229    </td><td> 1.2383047   </td><td> 2.170918e-01</td></tr>\n",
       "\t<tr><td>poly(TV, 4)4 </td><td>-2.326171    </td><td>3.2362229    </td><td>-0.7187921   </td><td> 4.731295e-01</td></tr>\n",
       "</tbody>\n",
       "</table>\n"
      ],
      "text/latex": [
       "\\begin{tabular}{r|lllll}\n",
       " term & estimate & std.error & statistic & p.value\\\\\n",
       "\\hline\n",
       "\t (Intercept)   & 14.022500     & 0.2288355     & 61.2776385    & 2.387537e-129\\\\\n",
       "\t poly(TV, 4)1  & 57.572721     & 3.2362229     & 17.7900974    &  1.062213e-42\\\\\n",
       "\t poly(TV, 4)2  & -6.228802     & 3.2362229     & -1.9247136    &  5.572057e-02\\\\\n",
       "\t poly(TV, 4)3  &  4.007430     & 3.2362229     &  1.2383047    &  2.170918e-01\\\\\n",
       "\t poly(TV, 4)4  & -2.326171     & 3.2362229     & -0.7187921    &  4.731295e-01\\\\\n",
       "\\end{tabular}\n"
      ],
      "text/markdown": [
       "\n",
       "term | estimate | std.error | statistic | p.value | \n",
       "|---|---|---|---|---|\n",
       "| (Intercept)   | 14.022500     | 0.2288355     | 61.2776385    | 2.387537e-129 | \n",
       "| poly(TV, 4)1  | 57.572721     | 3.2362229     | 17.7900974    |  1.062213e-42 | \n",
       "| poly(TV, 4)2  | -6.228802     | 3.2362229     | -1.9247136    |  5.572057e-02 | \n",
       "| poly(TV, 4)3  |  4.007430     | 3.2362229     |  1.2383047    |  2.170918e-01 | \n",
       "| poly(TV, 4)4  | -2.326171     | 3.2362229     | -0.7187921    |  4.731295e-01 | \n",
       "\n",
       "\n"
      ],
      "text/plain": [
       "  term         estimate  std.error statistic  p.value      \n",
       "1 (Intercept)  14.022500 0.2288355 61.2776385 2.387537e-129\n",
       "2 poly(TV, 4)1 57.572721 3.2362229 17.7900974  1.062213e-42\n",
       "3 poly(TV, 4)2 -6.228802 3.2362229 -1.9247136  5.572057e-02\n",
       "4 poly(TV, 4)3  4.007430 3.2362229  1.2383047  2.170918e-01\n",
       "5 poly(TV, 4)4 -2.326171 3.2362229 -0.7187921  4.731295e-01"
      ]
     },
     "metadata": {},
     "output_type": "display_data"
    },
    {
     "data": {
      "text/html": [
       "<table>\n",
       "<thead><tr><th scope=col>r.squared</th><th scope=col>adj.r.squared</th><th scope=col>sigma</th><th scope=col>statistic</th><th scope=col>p.value</th><th scope=col>df</th><th scope=col>logLik</th><th scope=col>AIC</th><th scope=col>BIC</th><th scope=col>deviance</th><th scope=col>df.residual</th></tr></thead>\n",
       "<tbody>\n",
       "\t<tr><td>0.6230006   </td><td>0.6152672   </td><td>3.236223    </td><td>80.56054    </td><td>3.046514e-40</td><td>5           </td><td>-516.1373   </td><td>1044.275    </td><td>1064.065    </td><td>2042.262    </td><td>195         </td></tr>\n",
       "</tbody>\n",
       "</table>\n"
      ],
      "text/latex": [
       "\\begin{tabular}{r|lllllllllll}\n",
       " r.squared & adj.r.squared & sigma & statistic & p.value & df & logLik & AIC & BIC & deviance & df.residual\\\\\n",
       "\\hline\n",
       "\t 0.6230006    & 0.6152672    & 3.236223     & 80.56054     & 3.046514e-40 & 5            & -516.1373    & 1044.275     & 1064.065     & 2042.262     & 195         \\\\\n",
       "\\end{tabular}\n"
      ],
      "text/markdown": [
       "\n",
       "r.squared | adj.r.squared | sigma | statistic | p.value | df | logLik | AIC | BIC | deviance | df.residual | \n",
       "|---|\n",
       "| 0.6230006    | 0.6152672    | 3.236223     | 80.56054     | 3.046514e-40 | 5            | -516.1373    | 1044.275     | 1064.065     | 2042.262     | 195          | \n",
       "\n",
       "\n"
      ],
      "text/plain": [
       "  r.squared adj.r.squared sigma    statistic p.value      df logLik    AIC     \n",
       "1 0.6230006 0.6152672     3.236223 80.56054  3.046514e-40 5  -516.1373 1044.275\n",
       "  BIC      deviance df.residual\n",
       "1 1064.065 2042.262 195        "
      ]
     },
     "metadata": {},
     "output_type": "display_data"
    },
    {
     "data": {
      "image/png": "[encoded data removed]",
      "text/plain": [
       "Plot with title \"\""
      ]
     },
     "metadata": {},
     "output_type": "display_data"
    }
   ],
   "source": [
    "# Polynomial in TV\n",
    "fit7N = \"poly(TV,4)\"\n",
    "fit7 = lm(Sales~poly(TV,4),data=dat_adv)\n",
    "print(fit7N)\n",
    "tidy(fit7)\n",
    "glance(fit7)\n",
    "par(mfrow=c(1,2))\n",
    "plot(fit7,which=1:2)"
   ]
  },
  {
   "cell_type": "code",
   "execution_count": 874,
   "metadata": {},
   "outputs": [
    {
     "name": "stdout",
     "output_type": "stream",
     "text": [
      "[1] \"All Interactions up to order 3\"\n"
     ]
    },
    {
     "data": {
      "text/html": [
       "<table>\n",
       "<thead><tr><th scope=col>term</th><th scope=col>estimate</th><th scope=col>std.error</th><th scope=col>statistic</th><th scope=col>p.value</th></tr></thead>\n",
       "<tbody>\n",
       "\t<tr><td>(Intercept)       </td><td> 4.863560e+00     </td><td>3.253977e-01      </td><td> 14.9465102       </td><td>7.456930e-34      </td></tr>\n",
       "\t<tr><td>TV                </td><td> 5.338048e-02     </td><td>2.832081e-03      </td><td> 18.8485024       </td><td>2.792805e-45      </td></tr>\n",
       "\t<tr><td>Radio             </td><td> 2.735401e-02     </td><td>1.405710e-02      </td><td>  1.9459220       </td><td>5.314702e-02      </td></tr>\n",
       "\t<tr><td>Newspaper         </td><td> 1.560768e-02     </td><td>1.181008e-02      </td><td>  1.3215558       </td><td>1.879136e-01      </td></tr>\n",
       "\t<tr><td>I(TV^2)           </td><td>-1.104618e-04     </td><td>6.993903e-06      </td><td>-15.7940154       </td><td>2.228453e-36      </td></tr>\n",
       "\t<tr><td>I(Radio^2)        </td><td> 1.620717e-04     </td><td>2.494130e-04      </td><td>  0.6498126       </td><td>5.166023e-01      </td></tr>\n",
       "\t<tr><td>I(Newspaper^2)    </td><td> 3.104435e-05     </td><td>7.584264e-05      </td><td>  0.4093258       </td><td>6.827641e-01      </td></tr>\n",
       "\t<tr><td>TV:Radio          </td><td> 1.050778e-03     </td><td>6.638476e-05      </td><td> 15.8286038       </td><td>1.759330e-36      </td></tr>\n",
       "\t<tr><td>TV:Newspaper      </td><td>-1.053693e-04     </td><td>6.431131e-05      </td><td> -1.6384264       </td><td>1.029964e-01      </td></tr>\n",
       "\t<tr><td>Radio:Newspaper   </td><td>-2.297447e-04     </td><td>3.553318e-04      </td><td> -0.6465638       </td><td>5.186987e-01      </td></tr>\n",
       "\t<tr><td>TV:Radio:Newspaper</td><td> 1.876638e-06     </td><td>1.873627e-06      </td><td>  1.0016073       </td><td>3.178139e-01      </td></tr>\n",
       "</tbody>\n",
       "</table>\n"
      ],
      "text/latex": [
       "\\begin{tabular}{r|lllll}\n",
       " term & estimate & std.error & statistic & p.value\\\\\n",
       "\\hline\n",
       "\t (Intercept)        &  4.863560e+00      & 3.253977e-01       &  14.9465102        & 7.456930e-34      \\\\\n",
       "\t TV                 &  5.338048e-02      & 2.832081e-03       &  18.8485024        & 2.792805e-45      \\\\\n",
       "\t Radio              &  2.735401e-02      & 1.405710e-02       &   1.9459220        & 5.314702e-02      \\\\\n",
       "\t Newspaper          &  1.560768e-02      & 1.181008e-02       &   1.3215558        & 1.879136e-01      \\\\\n",
       "\t I(TV\\textasciicircum{}2)            & -1.104618e-04                        & 6.993903e-06                         & -15.7940154                          & 2.228453e-36                        \\\\\n",
       "\t I(Radio\\textasciicircum{}2)         &  1.620717e-04                        & 2.494130e-04                         &   0.6498126                          & 5.166023e-01                        \\\\\n",
       "\t I(Newspaper\\textasciicircum{}2)     &  3.104435e-05                        & 7.584264e-05                         &   0.4093258                          & 6.827641e-01                        \\\\\n",
       "\t TV:Radio           &  1.050778e-03      & 6.638476e-05       &  15.8286038        & 1.759330e-36      \\\\\n",
       "\t TV:Newspaper       & -1.053693e-04      & 6.431131e-05       &  -1.6384264        & 1.029964e-01      \\\\\n",
       "\t Radio:Newspaper    & -2.297447e-04      & 3.553318e-04       &  -0.6465638        & 5.186987e-01      \\\\\n",
       "\t TV:Radio:Newspaper &  1.876638e-06      & 1.873627e-06       &   1.0016073        & 3.178139e-01      \\\\\n",
       "\\end{tabular}\n"
      ],
      "text/markdown": [
       "\n",
       "term | estimate | std.error | statistic | p.value | \n",
       "|---|---|---|---|---|---|---|---|---|---|---|\n",
       "| (Intercept)        |  4.863560e+00      | 3.253977e-01       |  14.9465102        | 7.456930e-34       | \n",
       "| TV                 |  5.338048e-02      | 2.832081e-03       |  18.8485024        | 2.792805e-45       | \n",
       "| Radio              |  2.735401e-02      | 1.405710e-02       |   1.9459220        | 5.314702e-02       | \n",
       "| Newspaper          |  1.560768e-02      | 1.181008e-02       |   1.3215558        | 1.879136e-01       | \n",
       "| I(TV^2)            | -1.104618e-04      | 6.993903e-06       | -15.7940154        | 2.228453e-36       | \n",
       "| I(Radio^2)         |  1.620717e-04      | 2.494130e-04       |   0.6498126        | 5.166023e-01       | \n",
       "| I(Newspaper^2)     |  3.104435e-05      | 7.584264e-05       |   0.4093258        | 6.827641e-01       | \n",
       "| TV:Radio           |  1.050778e-03      | 6.638476e-05       |  15.8286038        | 1.759330e-36       | \n",
       "| TV:Newspaper       | -1.053693e-04      | 6.431131e-05       |  -1.6384264        | 1.029964e-01       | \n",
       "| Radio:Newspaper    | -2.297447e-04      | 3.553318e-04       |  -0.6465638        | 5.186987e-01       | \n",
       "| TV:Radio:Newspaper |  1.876638e-06      | 1.873627e-06       |   1.0016073        | 3.178139e-01       | \n",
       "\n",
       "\n"
      ],
      "text/plain": [
       "   term               estimate      std.error    statistic   p.value     \n",
       "1  (Intercept)         4.863560e+00 3.253977e-01  14.9465102 7.456930e-34\n",
       "2  TV                  5.338048e-02 2.832081e-03  18.8485024 2.792805e-45\n",
       "3  Radio               2.735401e-02 1.405710e-02   1.9459220 5.314702e-02\n",
       "4  Newspaper           1.560768e-02 1.181008e-02   1.3215558 1.879136e-01\n",
       "5  I(TV^2)            -1.104618e-04 6.993903e-06 -15.7940154 2.228453e-36\n",
       "6  I(Radio^2)          1.620717e-04 2.494130e-04   0.6498126 5.166023e-01\n",
       "7  I(Newspaper^2)      3.104435e-05 7.584264e-05   0.4093258 6.827641e-01\n",
       "8  TV:Radio            1.050778e-03 6.638476e-05  15.8286038 1.759330e-36\n",
       "9  TV:Newspaper       -1.053693e-04 6.431131e-05  -1.6384264 1.029964e-01\n",
       "10 Radio:Newspaper    -2.297447e-04 3.553318e-04  -0.6465638 5.186987e-01\n",
       "11 TV:Radio:Newspaper  1.876638e-06 1.873627e-06   1.0016073 3.178139e-01"
      ]
     },
     "metadata": {},
     "output_type": "display_data"
    },
    {
     "data": {
      "text/html": [
       "<table>\n",
       "<thead><tr><th scope=col>r.squared</th><th scope=col>adj.r.squared</th><th scope=col>sigma</th><th scope=col>statistic</th><th scope=col>p.value</th><th scope=col>df</th><th scope=col>logLik</th><th scope=col>AIC</th><th scope=col>BIC</th><th scope=col>deviance</th><th scope=col>df.residual</th></tr></thead>\n",
       "<tbody>\n",
       "\t<tr><td>0.986577     </td><td>0.9858668    </td><td>0.620268     </td><td>1389.13      </td><td>4.220256e-171</td><td>11           </td><td>-182.6099    </td><td>389.2199     </td><td>428.7997     </td><td>72.71442     </td><td>189          </td></tr>\n",
       "</tbody>\n",
       "</table>\n"
      ],
      "text/latex": [
       "\\begin{tabular}{r|lllllllllll}\n",
       " r.squared & adj.r.squared & sigma & statistic & p.value & df & logLik & AIC & BIC & deviance & df.residual\\\\\n",
       "\\hline\n",
       "\t 0.986577      & 0.9858668     & 0.620268      & 1389.13       & 4.220256e-171 & 11            & -182.6099     & 389.2199      & 428.7997      & 72.71442      & 189          \\\\\n",
       "\\end{tabular}\n"
      ],
      "text/markdown": [
       "\n",
       "r.squared | adj.r.squared | sigma | statistic | p.value | df | logLik | AIC | BIC | deviance | df.residual | \n",
       "|---|\n",
       "| 0.986577      | 0.9858668     | 0.620268      | 1389.13       | 4.220256e-171 | 11            | -182.6099     | 389.2199      | 428.7997      | 72.71442      | 189           | \n",
       "\n",
       "\n"
      ],
      "text/plain": [
       "  r.squared adj.r.squared sigma    statistic p.value       df logLik   \n",
       "1 0.986577  0.9858668     0.620268 1389.13   4.220256e-171 11 -182.6099\n",
       "  AIC      BIC      deviance df.residual\n",
       "1 389.2199 428.7997 72.71442 189        "
      ]
     },
     "metadata": {},
     "output_type": "display_data"
    },
    {
     "data": {
      "image/png": "[encoded data removed]",
      "text/plain": [
       "Plot with title \"\""
      ]
     },
     "metadata": {},
     "output_type": "display_data"
    }
   ],
   "source": [
    "# All up to order 3\n",
    "fit8N = \"All Interactions up to order 3\"\n",
    "fit8 = lm(Sales~.^3+I(TV^2)+I(Radio^2)+I(Newspaper^2),data=dat_adv)\n",
    "print(fit8N)\n",
    "tidy(fit8)\n",
    "glance(fit8)\n",
    "par(mfrow=c(1,2))\n",
    "plot(fit8,which=1:2)"
   ]
  },
  {
   "cell_type": "code",
   "execution_count": 878,
   "metadata": {},
   "outputs": [
    {
     "name": "stdout",
     "output_type": "stream",
     "text": [
      "[1] \"Log TV\"\n"
     ]
    },
    {
     "data": {
      "text/html": [
       "<table>\n",
       "<thead><tr><th scope=col>term</th><th scope=col>estimate</th><th scope=col>std.error</th><th scope=col>statistic</th><th scope=col>p.value</th></tr></thead>\n",
       "<tbody>\n",
       "\t<tr><td>(Intercept) </td><td>-4.202588   </td><td>1.1622529   </td><td>-3.615898   </td><td>3.797320e-04</td></tr>\n",
       "\t<tr><td>log(TV)     </td><td> 3.900875   </td><td>0.2432267   </td><td>16.038021   </td><td>1.206373e-37</td></tr>\n",
       "</tbody>\n",
       "</table>\n"
      ],
      "text/latex": [
       "\\begin{tabular}{r|lllll}\n",
       " term & estimate & std.error & statistic & p.value\\\\\n",
       "\\hline\n",
       "\t (Intercept)  & -4.202588    & 1.1622529    & -3.615898    & 3.797320e-04\\\\\n",
       "\t log(TV)      &  3.900875    & 0.2432267    & 16.038021    & 1.206373e-37\\\\\n",
       "\\end{tabular}\n"
      ],
      "text/markdown": [
       "\n",
       "term | estimate | std.error | statistic | p.value | \n",
       "|---|---|\n",
       "| (Intercept)  | -4.202588    | 1.1622529    | -3.615898    | 3.797320e-04 | \n",
       "| log(TV)      |  3.900875    | 0.2432267    | 16.038021    | 1.206373e-37 | \n",
       "\n",
       "\n"
      ],
      "text/plain": [
       "  term        estimate  std.error statistic p.value     \n",
       "1 (Intercept) -4.202588 1.1622529 -3.615898 3.797320e-04\n",
       "2 log(TV)      3.900875 0.2432267 16.038021 1.206373e-37"
      ]
     },
     "metadata": {},
     "output_type": "display_data"
    },
    {
     "data": {
      "text/html": [
       "<table>\n",
       "<thead><tr><th scope=col>r.squared</th><th scope=col>adj.r.squared</th><th scope=col>sigma</th><th scope=col>statistic</th><th scope=col>p.value</th><th scope=col>df</th><th scope=col>logLik</th><th scope=col>AIC</th><th scope=col>BIC</th><th scope=col>deviance</th><th scope=col>df.residual</th></tr></thead>\n",
       "<tbody>\n",
       "\t<tr><td>0.5650437   </td><td>0.5628469   </td><td>3.449655    </td><td>257.2181    </td><td>1.206373e-37</td><td>2           </td><td>-530.4375   </td><td>1066.875    </td><td>1076.77     </td><td>2356.223    </td><td>198         </td></tr>\n",
       "</tbody>\n",
       "</table>\n"
      ],
      "text/latex": [
       "\\begin{tabular}{r|lllllllllll}\n",
       " r.squared & adj.r.squared & sigma & statistic & p.value & df & logLik & AIC & BIC & deviance & df.residual\\\\\n",
       "\\hline\n",
       "\t 0.5650437    & 0.5628469    & 3.449655     & 257.2181     & 1.206373e-37 & 2            & -530.4375    & 1066.875     & 1076.77      & 2356.223     & 198         \\\\\n",
       "\\end{tabular}\n"
      ],
      "text/markdown": [
       "\n",
       "r.squared | adj.r.squared | sigma | statistic | p.value | df | logLik | AIC | BIC | deviance | df.residual | \n",
       "|---|\n",
       "| 0.5650437    | 0.5628469    | 3.449655     | 257.2181     | 1.206373e-37 | 2            | -530.4375    | 1066.875     | 1076.77      | 2356.223     | 198          | \n",
       "\n",
       "\n"
      ],
      "text/plain": [
       "  r.squared adj.r.squared sigma    statistic p.value      df logLik    AIC     \n",
       "1 0.5650437 0.5628469     3.449655 257.2181  1.206373e-37 2  -530.4375 1066.875\n",
       "  BIC     deviance df.residual\n",
       "1 1076.77 2356.223 198        "
      ]
     },
     "metadata": {},
     "output_type": "display_data"
    },
    {
     "data": {
      "image/png": "[encoded data removed]",
      "text/plain": [
       "Plot with title \"\""
      ]
     },
     "metadata": {},
     "output_type": "display_data"
    }
   ],
   "source": [
    "# Log TV\n",
    "fit9N = \"Log TV\"\n",
    "fit9 = lm(Sales~log(TV),data=dat_adv)\n",
    "print(fit9N)\n",
    "tidy(fit9)\n",
    "glance(fit9)\n",
    "par(mfrow=c(1,2))\n",
    "plot(fit9,which=1:2)"
   ]
  },
  {
   "cell_type": "markdown",
   "metadata": {},
   "source": [
    "---\n",
    "---\n",
    "---\n",
    "# Problem 4\n",
    "---\n",
    "---\n",
    "---"
   ]
  },
  {
   "cell_type": "markdown",
   "metadata": {},
   "source": [
    "# Discussion: Weighted Least Squares (Analytic)\n",
    "\n",
    "We start with the model\n",
    "$$y = Xb + \\epsilon$$\n",
    "$$\\epsilon \\sim \\mathcal{N} \\left(\\mathbf{\\mu}, diag(\\sigma_1^2,\\sigma_2^2,...,\\sigma_n^2) \\right)$$\n",
    "\n",
    "\n",
    "We can write out a weight matrix:\n",
    "$$W = diag(w_1,w_2,...,w_n)$$\n",
    "$$w_i = \\frac{1}{\\sigma_i^2}$$\n",
    "\n",
    "To get the weighted residual sum of squares:\n",
    "$$ WRRS = \\frac{1}{n}(y-Xb)^T W (y-Xb) $$\n",
    "\n",
    "Which we can minimze and get new estimators for the data (note that I will use $J=WRSS$ for ease of notation):\n",
    "\n",
    "$$ J = \\sum_{i,j}(y_i-b_k X^T_{ki} ) W_{ij} (y_j - X_{jl}b_l) $$\n",
    "\n",
    "$$ \\frac{\\partial J}{\\partial b_m } = \\sum_{i,j} \n",
    "-X^T_{mi} W_{ij} y_j - X_{mi}^T W_{ij} X_{jl} b_l + y_iW_{ij}X_{jm} - b_kX^T_{ki}W_{ij} X_{jm} = 0 $$\n",
    "\n",
    "$$ \\sum_{ij} \\left(X^T_{mi}W_{ij}X_{jl}b_l+b_kX^T_{ki}W_{ij}X_{jm}\\right) =\n",
    "\\sum_{ij} \\left(X^T_{mi}W_{ij}y_j + y_iW_{ij}X_{jm}\\right) \n",
    " $$\n",
    " \n",
    "Expressing this in matrix form:\n",
    " \n",
    "$$ X^T W X b = X^T W y $$\n",
    "\n",
    "$$b = \\left(X^T W X \\right)^{-1} X^T W y $$"
   ]
  },
  {
   "cell_type": "code",
   "execution_count": 879,
   "metadata": {},
   "outputs": [],
   "source": [
    "# For lack of a better set of weights, we can use the standardized residuals from the linear fit to  estimate weights\n",
    "# to do a weighted fit\n",
    "# (Here we just stick to the simple linear fit that just uses TV, Radio, and Newspaper)\n",
    "\n",
    "yhatOLS = X %*% betaOLS\n",
    "RSS = sum((y-yhatOLS)^2)\n",
    "RSE = sqrt(RSS/(n-p-1))\n",
    "resids = (y-yhatOLS)\n",
    "stRes = resids/RSE\n",
    "absSR = abs(stRes)\n",
    "W = diag(c(absSR^2))\n",
    "betaWLS = solve(t(X) %*% W %*% X) %*% t(X) %*% W %*% y"
   ]
  },
  {
   "cell_type": "code",
   "execution_count": 880,
   "metadata": {},
   "outputs": [
    {
     "name": "stdout",
     "output_type": "stream",
     "text": [
      "[1] \"OLS\"\n"
     ]
    },
    {
     "data": {
      "text/html": [
       "<table>\n",
       "<thead><tr><th></th><th scope=col>Sales</th></tr></thead>\n",
       "<tbody>\n",
       "\t<tr><th scope=row>bias</th><td> 2.938889369</td></tr>\n",
       "\t<tr><th scope=row>TV</th><td> 0.045764645</td></tr>\n",
       "\t<tr><th scope=row>Radio</th><td> 0.188530017</td></tr>\n",
       "\t<tr><th scope=row>Newspaper</th><td>-0.001037493</td></tr>\n",
       "</tbody>\n",
       "</table>\n"
      ],
      "text/latex": [
       "\\begin{tabular}{r|l}\n",
       "  & Sales\\\\\n",
       "\\hline\n",
       "\tbias &  2.938889369\\\\\n",
       "\tTV &  0.045764645\\\\\n",
       "\tRadio &  0.188530017\\\\\n",
       "\tNewspaper & -0.001037493\\\\\n",
       "\\end{tabular}\n"
      ],
      "text/markdown": [
       "\n",
       "| <!--/--> | Sales | \n",
       "|---|---|---|---|\n",
       "| bias |  2.938889369 | \n",
       "| TV |  0.045764645 | \n",
       "| Radio |  0.188530017 | \n",
       "| Newspaper | -0.001037493 | \n",
       "\n",
       "\n"
      ],
      "text/plain": [
       "          Sales       \n",
       "bias       2.938889369\n",
       "TV         0.045764645\n",
       "Radio      0.188530017\n",
       "Newspaper -0.001037493"
      ]
     },
     "metadata": {},
     "output_type": "display_data"
    },
    {
     "name": "stdout",
     "output_type": "stream",
     "text": [
      "[1] \"WLS\"\n"
     ]
    },
    {
     "data": {
      "text/html": [
       "<table>\n",
       "<thead><tr><th></th><th scope=col>Sales</th></tr></thead>\n",
       "<tbody>\n",
       "\t<tr><th scope=row>bias</th><td>0.36372922</td></tr>\n",
       "\t<tr><th scope=row>TV</th><td>0.05234347</td></tr>\n",
       "\t<tr><th scope=row>Radio</th><td>0.12477706</td></tr>\n",
       "\t<tr><th scope=row>Newspaper</th><td>0.03846613</td></tr>\n",
       "</tbody>\n",
       "</table>\n"
      ],
      "text/latex": [
       "\\begin{tabular}{r|l}\n",
       "  & Sales\\\\\n",
       "\\hline\n",
       "\tbias & 0.36372922\\\\\n",
       "\tTV & 0.05234347\\\\\n",
       "\tRadio & 0.12477706\\\\\n",
       "\tNewspaper & 0.03846613\\\\\n",
       "\\end{tabular}\n"
      ],
      "text/markdown": [
       "\n",
       "| <!--/--> | Sales | \n",
       "|---|---|---|---|\n",
       "| bias | 0.36372922 | \n",
       "| TV | 0.05234347 | \n",
       "| Radio | 0.12477706 | \n",
       "| Newspaper | 0.03846613 | \n",
       "\n",
       "\n"
      ],
      "text/plain": [
       "          Sales     \n",
       "bias      0.36372922\n",
       "TV        0.05234347\n",
       "Radio     0.12477706\n",
       "Newspaper 0.03846613"
      ]
     },
     "metadata": {},
     "output_type": "display_data"
    }
   ],
   "source": [
    "print(\"OLS\")\n",
    "betaOLS\n",
    "print(\"WLS\")\n",
    "betaWLS"
   ]
  },
  {
   "cell_type": "code",
   "execution_count": 881,
   "metadata": {},
   "outputs": [
    {
     "data": {
      "image/png": "[encoded data removed]",
      "text/plain": [
       "plot without title"
      ]
     },
     "metadata": {},
     "output_type": "display_data"
    },
    {
     "data": {
      "image/png": "[encoded data removed]",
      "text/plain": [
       "plot without title"
      ]
     },
     "metadata": {},
     "output_type": "display_data"
    }
   ],
   "source": [
    "# This shows the y solution against one variable\n",
    "# Can be changed to different variables, or change the regression above to 1D if you want a straight line\n",
    "xvar = tv\n",
    "xOrder = order(X[,xvar])\n",
    "yhatOLS = X%*%betaOLS\n",
    "yhatWLS = X%*%betaWLS\n",
    "plot(X[xOrder,xvar],y)\n",
    "lines(X[xOrder,xvar],yhatOLS[xOrder],col='green')\n",
    "lines(X[xOrder,xvar],yhatWLS[xOrder],col='red')\n",
    "legend(\"topleft\", legend=c(\"OLS\", \"WLS\"),\n",
    "       col=c(\"green\", \"red\"), lty=1,cex=0.8)\n",
    "\n",
    "yorder = order(y)\n",
    "plot(y[yorder],yhatOLS[yorder],col='green')\n",
    "points(y[yorder],yhatWLS[yorder],col='red')\n",
    "lines(y[yorder],y[yorder])\n",
    "legend('topleft',legend=c(\"OLS\",\"WLS\"),col=c(\"green\", \"red\"), pch='o',cex=0.8)\n"
   ]
  },
  {
   "cell_type": "markdown",
   "metadata": {},
   "source": [
    "## Discussion\n",
    "\n",
    "The weighted least squares fit using these \"weights\" appears to be fairly similiar to the ordinary least squares fit. (And without further information regarding the \"weights\" for the data set, that's about as far as we can go). \n",
    "\n",
    "Also note that weighting by the inverse variance, $1/\\sigma_i^2$ is a reasonable approach. This implies that the less random/more well known data has a higher weighting, and will contribute more to the overall solution than data with large variances. "
   ]
  },
  {
   "cell_type": "code",
   "execution_count": null,
   "metadata": {},
   "outputs": [],
   "source": []
  },
  {
   "cell_type": "code",
   "execution_count": null,
   "metadata": {},
   "outputs": [],
   "source": []
  },
  {
   "cell_type": "code",
   "execution_count": null,
   "metadata": {},
   "outputs": [],
   "source": []
  },
  {
   "cell_type": "code",
   "execution_count": null,
   "metadata": {},
   "outputs": [],
   "source": []
  }
 ],
 "metadata": {
  "kernelspec": {
   "display_name": "R",
   "language": "R",
   "name": "ir"
  },
  "language_info": {
   "codemirror_mode": "r",
   "file_extension": ".r",
   "mimetype": "text/x-r-source",
   "name": "R",
   "pygments_lexer": "r",
   "version": "3.4.3"
  }
 },
 "nbformat": 4,
 "nbformat_minor": 2
}
