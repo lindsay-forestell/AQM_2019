{
 "cells": [
  {
   "cell_type": "code",
   "execution_count": 6,
   "metadata": {},
   "outputs": [],
   "source": [
    "# Import libraries, set some settings\n",
    "\n",
    "# Useful libraries\n",
    "import pandas as pd\n",
    "import numpy as np\n",
    "import pickle\n",
    "import random\n",
    "\n",
    "# Modelling and Metrics\n",
    "from sklearn.model_selection import train_test_split, KFold\n",
    "from sklearn.preprocessing import StandardScaler\n",
    "from sklearn.linear_model import LogisticRegression\n",
    "from sklearn.metrics import (confusion_matrix, accuracy_score, roc_curve, roc_auc_score, precision_recall_curve,\n",
    "                             f1_score, auc, average_precision_score, matthews_corrcoef)\n",
    "from sklearn.utils import resample\n",
    "\n",
    "# Black box\n",
    "from sklearn.svm import SVC\n",
    "from sklearn.tree import DecisionTreeClassifier\n",
    "from sklearn.ensemble import RandomForestClassifier\n",
    "from sklearn.discriminant_analysis import (LinearDiscriminantAnalysis,\n",
    "                                           QuadraticDiscriminantAnalysis)\n",
    "from sklearn.linear_model import LogisticRegression\n",
    "\n",
    "# Visualise\n",
    "import matplotlib.pyplot as plt\n",
    "import seaborn as sns\n",
    "\n",
    "# Settings for the notebook\n",
    "pd.options.display.max_columns = None\n",
    "\n",
    "# Get rid of annoying stuff\n",
    "import warnings\n",
    "warnings.simplefilter('ignore')"
   ]
  },
  {
   "cell_type": "code",
   "execution_count": 2,
   "metadata": {},
   "outputs": [],
   "source": [
    "class ModelMetrics():\n",
    "    \"\"\"\n",
    "        ModelMetrics class that will provide many different metrics for a given model outputs. \n",
    "\n",
    "        Required Parameters:\n",
    "        y_test = Test Data Classes. Should be either (-1,1) or (0,1).\n",
    "        y_pred = Predictions for the \"probability\" of y being in the positive class. Should be in range (-inf,inf)\n",
    "        y_prob = Test Data Predictions from the model. Should be same format as y_test. \n",
    "\n",
    "        Useful functions:\n",
    "        all_metrics() = returns metrics including: class imbalance, \n",
    "                                                   accuracy,\n",
    "                                                   confusion matrix,\n",
    "                                                   ROC/AUC,\n",
    "                                                   Precision/Recall Curve, F1 score, MCC, AUC, Average Precision\n",
    "        \n",
    "    \"\"\"\n",
    "    \n",
    "    def __init__(self,y_test,y_pred,y_prob):\n",
    "        self.y_test = np.array(y_test).reshape(-1)\n",
    "        self.y_pred = np.array(y_pred).reshape(-1)\n",
    "        self.y_prob = np.array(y_prob).reshape(-1)\n",
    "        \n",
    "    def all_metrics(self):\n",
    "        print('')\n",
    "        self.imbalance()\n",
    "        print('')\n",
    "        self.accuracy()\n",
    "        print('')\n",
    "        self.print_cm()\n",
    "        print('')\n",
    "        self.roc_metrics()\n",
    "        print('')\n",
    "        self.pr_metrics()\n",
    "        \n",
    "    def roc_metrics(self):\n",
    "        self.roc_plot()\n",
    "        self.print_auc_roc()\n",
    "        \n",
    "    def pr_metrics(self):\n",
    "        self.plot_pr()\n",
    "        self.print_f1()\n",
    "        self.print_mcc()\n",
    "        self.print_auc_pr()\n",
    "        self.print_ap()\n",
    "        \n",
    "    # Measure Imbalance\n",
    "    def imbalance(self):\n",
    "        num_examples = len(self.y_test)\n",
    "        num_neg = np.sum(self.y_test==-1)\n",
    "        num_pos = np.sum(self.y_test==+1)\n",
    "        print(\"Number of -1 cases = \",num_neg)\n",
    "        print(\"Number of +1 cases = \",num_pos)\n",
    "        print('The ratio of Positve to Negative cases is {:0.3f}'.format(num_pos/num_neg))\n",
    "        \n",
    "        print('')\n",
    "        if num_neg/num_pos >= 2:\n",
    "            print('Number of Negative Classes is quite large. Recommend using the Precision-Recall Metrics.')\n",
    "        elif num_pos/num_neg >=2:\n",
    "            print('Number of Positive Classes is quite large. Recommend using the Precision-Recall Metrics.')\n",
    "        else:\n",
    "            print('The classes seem balanced. ROC metrics should be acceptable.')\n",
    "        print('')\n",
    "    \n",
    "    # Overall accuracy\n",
    "    def accuracy(self):\n",
    "        acc = accuracy_score(self.y_test,self.y_pred)\n",
    "        print('Overall Accuracy = {:0.3f}'.format(acc))\n",
    "        return acc\n",
    "        \n",
    "    # Confusion Matrix\n",
    "    def print_cm(self):\n",
    "        cm = confusion_matrix(self.y_test,self.y_pred)\n",
    "        true_negative, false_positive, false_negative, true_positive = cm.ravel()\n",
    "        print('           CONFUSION MATRIX')\n",
    "        print('                 y_pred')\n",
    "        print('          {:^10d}{:^10d}'.format(-1,1))\n",
    "        print('           --------------------')\n",
    "        print('y_test -1 |{:^10d}{:^10d}|'.format(true_negative,false_positive))\n",
    "        print('        1 |{:^10d}{:^10d}|'.format(false_negative,true_positive))\n",
    "        print('           --------------------')\n",
    "        return cm\n",
    "        \n",
    "    # ROC Curve\n",
    "    def roc_plot(self):\n",
    "        false_positive_rate, true_positive_rate, thresholds = roc_curve(self.y_test,self.y_prob)\n",
    "        plt.plot(false_positive_rate,true_positive_rate,'-b',label='Model')\n",
    "        plt.plot([0,1],[0,1],'-k',label='Guess')\n",
    "        plt.title('ROC Curve')\n",
    "        plt.xlabel('False Positive Rate')\n",
    "        plt.ylabel('True Positive Rate')\n",
    "        plt.xlim([-0.02,1.0])\n",
    "        plt.ylim([0.0,1.02])\n",
    "        plt.legend()\n",
    "        plt.show()\n",
    "\n",
    "    # AUC of ROC\n",
    "    def print_auc_roc(self):\n",
    "        auc1 = roc_auc_score(self.y_test,self.y_prob)\n",
    "        print('AUC = {:0.3f}'.format(auc1))\n",
    "        return auc1\n",
    "\n",
    "    ## These next few are more useful for imbalanced classes \n",
    "\n",
    "    # Precision - Recall Curve\n",
    "    def plot_pr(self):\n",
    "        precision, recall, thresholds = precision_recall_curve(self.y_test, self.y_prob)\n",
    "        plt.plot(recall,precision,'-b',label='Model')\n",
    "        plt.plot([0,1],[0.5,0.5],'-k',label='Guess')\n",
    "        plt.title('Precision-Recall Curve')\n",
    "        plt.xlabel('Recall')\n",
    "        plt.ylabel('Precision')\n",
    "        plt.xlim([-0.02,1.0])\n",
    "        plt.ylim([0.0,1.02])\n",
    "        plt.legend()\n",
    "        plt.show()\n",
    "\n",
    "    # F1 Score\n",
    "    def print_f1(self):\n",
    "        f1 = f1_score(self.y_test,self.y_pred)\n",
    "        print(\"F1 Score = {:0.3f}\".format(f1))\n",
    "        return f1\n",
    "    \n",
    "    # Matthews Correlation\n",
    "    def print_mcc(self):\n",
    "        mcc = matthews_corrcoef(self.y_test,self.y_pred)\n",
    "        print(\"MCC = {:0.3f}\".format(mcc))\n",
    "        return mcc\n",
    "\n",
    "    # AUC for PR\n",
    "    def print_auc_pr(self):\n",
    "        precision, recall, thresholds = precision_recall_curve(self.y_test, self.y_prob)\n",
    "        auc2 = auc(recall,precision)\n",
    "        print(\"AUC for Precision-Recall: {:0.3f}\".format(auc2))\n",
    "        return auc2\n",
    "\n",
    "    # Average precision\n",
    "    def print_ap(self):\n",
    "        average_precision = average_precision_score(self.y_test,self.y_prob)\n",
    "        print(\"Average Precision = {:0.3f}\".format(average_precision))\n",
    "        return average_precision"
   ]
  },
  {
   "cell_type": "code",
   "execution_count": 3,
   "metadata": {},
   "outputs": [
    {
     "name": "stderr",
     "output_type": "stream",
     "text": [
      "C:\\Users\\linds\\Anaconda3\\envs\\datascience\\lib\\site-packages\\ipykernel_launcher.py:20: SettingWithCopyWarning: \n",
      "A value is trying to be set on a copy of a slice from a DataFrame\n",
      "\n",
      "See the caveats in the documentation: http://pandas.pydata.org/pandas-docs/stable/indexing.html#indexing-view-versus-copy\n",
      "C:\\Users\\linds\\Anaconda3\\envs\\datascience\\lib\\site-packages\\ipykernel_launcher.py:24: SettingWithCopyWarning: \n",
      "A value is trying to be set on a copy of a slice from a DataFrame\n",
      "\n",
      "See the caveats in the documentation: http://pandas.pydata.org/pandas-docs/stable/indexing.html#indexing-view-versus-copy\n"
     ]
    }
   ],
   "source": [
    "# Read in all three sets of data, (make sure they are same length)\n",
    "# Create DF \n",
    "\n",
    "# Important Values\n",
    "n_signal = 36499\n",
    "n_bkgd = 93565\n",
    "n_features = 50\n",
    "\n",
    "# Read in all the data \n",
    "data = pd.read_csv('../Data/MiniBooNE_PID.txt', sep='\\s+', skiprows=1,header=None)\n",
    "pd.options.display.max_columns = None\n",
    "\n",
    "# Scale and append signal/background cases\n",
    "scaler = StandardScaler()\n",
    "data = data[data>-999] # Get rid of bad data, set to NA\n",
    "scaler.fit(data)\n",
    "data = pd.DataFrame(scaler.transform(data))\n",
    "\n",
    "data_sig = data.iloc[0:n_signal,:]\n",
    "data_sig.dropna(inplace=True)\n",
    "\n",
    "data_bkgd = data.iloc[n_signal:,:]\n",
    "#data_bkgd = data_bkgd[data_bkgd>-999]\n",
    "data_bkgd.dropna(inplace=True)\n",
    "\n",
    "# Add a column of 1s for signal and 0s for background\n",
    "n_sig_new = data_sig.shape[0]\n",
    "n_bkgd_new = data_bkgd.shape[0]\n",
    "data_sig = data_sig.assign(target=np.ones((n_sig_new,1)))\n",
    "data_bkgd = data_bkgd.assign(target=-np.ones((n_bkgd_new,1)))\n",
    "data_full = data_sig.append(data_bkgd)\n",
    "\n",
    "df_svm = data_full.copy()\n",
    "df_svm.dropna(inplace=True)\n",
    "\n",
    "df_rf = data_full.copy()\n",
    "df_rf.dropna(inplace=True)\n",
    "\n",
    "df_lda = data_full.copy()\n",
    "df_lda.dropna(inplace=True)\n",
    "\n",
    "n_examples = df_svm.shape[0]\n",
    "n_index = np.arange(n_examples)"
   ]
  },
  {
   "cell_type": "code",
   "execution_count": 4,
   "metadata": {},
   "outputs": [],
   "source": [
    "# Split into x and y datasets, scale the x data\n",
    "scaler = StandardScaler()\n",
    "\n",
    "# Use the svm classes, as the actual value of the class is important here\n",
    "y_all = df_svm['target'].values\n",
    "\n",
    "# For SVM, columns 1 to 72 are predictors, 73 is next bus bunching\n",
    "x_svm = df_svm.drop(['target'],axis=1).values\n",
    "x_svm = scaler.fit_transform(x_svm)\n",
    "\n",
    "# For RF\n",
    "x_rf = df_rf.drop(['target'],axis=1).values\n",
    "x_rf = scaler.fit_transform(x_rf)\n",
    "\n",
    "# For LDA\n",
    "x_lda = df_lda.drop(['target'],axis=1).values\n",
    "x_lda = scaler.fit_transform(x_lda)"
   ]
  },
  {
   "cell_type": "code",
   "execution_count": 5,
   "metadata": {},
   "outputs": [],
   "source": [
    "# Further split the data into training and testing datasets\n",
    "# Training data will be used with k-folds to determine level one data\n",
    "# Will end up with k versions of each model\n",
    "n_train_index, n_test_index = train_test_split(n_index, test_size = 0.1)\n",
    "\n",
    "y_train = y_all[n_train_index]\n",
    "y_test = y_all[n_test_index]\n",
    "\n",
    "x_train_svm = x_svm[n_train_index,:]\n",
    "x_test_svm = x_svm[n_test_index,:]\n",
    "\n",
    "x_train_rf = x_rf[n_train_index,:]\n",
    "x_test_rf = x_rf[n_test_index,:]\n",
    "\n",
    "x_train_lda = x_lda[n_train_index,:]\n",
    "x_test_lda = x_lda[n_test_index,:]"
   ]
  },
  {
   "cell_type": "code",
   "execution_count": null,
   "metadata": {},
   "outputs": [
    {
     "name": "stdout",
     "output_type": "stream",
     "text": [
      "\n",
      "Starting Fold  0\n"
     ]
    }
   ],
   "source": [
    "# Hyperparameters\n",
    "# SVM\n",
    "C = 10 #[0.1,1,10]\n",
    "C_list = [0.1,0.3,1,3,10]\n",
    "gamma = 0.1 #[0.1,0.3,1,3,10]\n",
    "max_iter = 5000\n",
    "gamma_list = [0.1,0.3,1,3,10]\n",
    "\n",
    "# RF\n",
    "criterion='entropy'\n",
    "max_depth=9 #range(1,11)\n",
    "max_depth_list = np.arange(1,11)\n",
    "n_estimators=100 #[10,50,100]\n",
    "n_estimators_list = [10,50,100]\n",
    "min_samples_split=2 #[2,5,10,20]\n",
    "min_samples_split_list = [2,5,10,20]\n",
    "\n",
    "# LDA / QDA\n",
    "\n",
    "# Do k folds to determine level 1 data, \n",
    "n_models = 3\n",
    "n_splits = 20\n",
    "models_svm = []\n",
    "models_rf = []\n",
    "models_lda = []\n",
    "x_level_1 = np.empty((n_train_index.shape[0],n_models*n_splits))\n",
    "y_level_1 = np.empty(n_train_index.shape)\n",
    "y_level_1 = y_train\n",
    "\n",
    "kf = KFold(n_splits=n_splits,shuffle=True)\n",
    "fold_count = 0\n",
    "for ktrain_index, ktest_index in kf.split(y_train):\n",
    "    print(\"\\nStarting Fold \",fold_count)\n",
    "    x_train_svm_k, x_test_svm_k = x_train_svm[ktrain_index], x_train_svm[ktest_index]\n",
    "    x_train_rf_k, x_test_rf_k = x_train_rf[ktrain_index], x_train_rf[ktest_index]\n",
    "    x_train_lda_k, x_test_lda_k = x_train_lda[ktrain_index], x_train_lda[ktest_index]\n",
    "    y_train_k, y_test_k = y_train[ktrain_index], y_train[ktest_index]\n",
    "    \n",
    "    # Assign random values to hyperparameters?\n",
    "    C = random.choice(C_list)\n",
    "    gamma = random.choice(gamma_list)\n",
    "    max_depth = random.choice(max_depth_list)\n",
    "    n_estimators = random.choice(n_estimators_list)\n",
    "    min_samples_split = random.choice(min_samples_split_list)\n",
    "    \n",
    "    # Train SVM model k\n",
    "    model_svm = SVC(C = C, gamma = gamma, max_iter = max_iter, probability = True)\n",
    "    model_svm.fit(x_train_svm_k,y_train_k)\n",
    "    #x_svm_1 = model_svm.predict(x_test_svm_k)\n",
    "    x_svm_1 = model_svm.predict_proba(x_train_svm)[:,1]\n",
    "    x_level_1[:,n_models*fold_count+0] = x_svm_1\n",
    "    models_svm.append(model_svm)\n",
    "    print(\"Done SVM.\")\n",
    "    \n",
    "    # Train RF model k\n",
    "    model_rf = RandomForestClassifier(criterion = criterion, max_depth = max_depth, n_estimators = n_estimators,\n",
    "                                      min_samples_split = min_samples_split)\n",
    "    model_rf.fit(x_train_rf_k,y_train_k)\n",
    "    #x_rf_1 = model_rf.predict(x_test_rf_k)\n",
    "    x_rf_1 = model_rf.predict_proba(x_train_rf)[:,1]\n",
    "    x_level_1[:,n_models*fold_count+1] = x_rf_1\n",
    "    models_rf.append(model_rf)\n",
    "    print(\"Done RF.\")\n",
    "    \n",
    "    # Train LDA model k\n",
    "    model_lda = QuadraticDiscriminantAnalysis()\n",
    "    model_lda.fit(x_train_lda_k,y_train_k)\n",
    "    #x_lda_1 = model_lda.predict(x_test_lda_k)\n",
    "    x_lda_1 = model_lda.predict_proba(x_train_lda)[:,1]\n",
    "    x_level_1[:,n_models*fold_count+2] = x_lda_1\n",
    "    models_lda.append(model_lda)\n",
    "    print(\"Done LDA.\\n\")\n",
    "    \n",
    "    # Make sure y data is in same order as x\n",
    "    \n",
    "    fold_count+=1\n",
    "    "
   ]
  },
  {
   "cell_type": "code",
   "execution_count": null,
   "metadata": {},
   "outputs": [],
   "source": [
    "# Do logistic regression on the outputs (Level 1 Learner)\n",
    "model_lr =  LogisticRegression(solver = 'lbfgs')\n",
    "model_lr.fit(x_level_1,y_level_1)"
   ]
  },
  {
   "cell_type": "code",
   "execution_count": 8,
   "metadata": {},
   "outputs": [
    {
     "data": {
      "text/plain": [
       "array([0.04899522, 0.0442907 , 0.03524233, 0.05083522, 0.0440415 ,\n",
       "       0.03538061, 0.0522394 , 0.04466078, 0.03561668, 0.05126017,\n",
       "       0.04422737, 0.03542374, 0.05515042, 0.04430771, 0.03516232,\n",
       "       0.05468023, 0.04437026, 0.03535207, 0.05534039, 0.04447614,\n",
       "       0.03597117, 0.0523058 , 0.04462169, 0.03548452, 0.05292691,\n",
       "       0.04440418, 0.03505717, 0.05289827, 0.04400508, 0.03490254])"
      ]
     },
     "execution_count": 8,
     "metadata": {},
     "output_type": "execute_result"
    }
   ],
   "source": [
    "np.mean(x_level_1,axis=0)"
   ]
  },
  {
   "cell_type": "code",
   "execution_count": null,
   "metadata": {},
   "outputs": [],
   "source": [
    "# Do test data\n",
    "x_level_1_test = np.empty((n_test_index.shape[0],n_models*n_splits))\n",
    "y_level_1_test = np.empty(n_test_index.shape)\n",
    "\n",
    "fold_count = 0\n",
    "for ii in range(n_splits):\n",
    "    print(\"\\nStarting Fold \",fold_count)\n",
    "    \n",
    "    # Predict on SVM model k\n",
    "    model_svm = models_svm[ii]\n",
    "    x_svm_1 = model_svm.predict(x_test_svm)\n",
    "    x_level_1_test[:,n_models*fold_count+0] = x_svm_1\n",
    "    print(\"Done SVM.\")\n",
    "    \n",
    "    # Train RF model k\n",
    "    model_rf = models_rf[ii]\n",
    "    x_rf_1 = model_rf.predict(x_test_rf)\n",
    "    x_level_1_test[:,n_models*fold_count+1] = x_rf_1\n",
    "    print(\"Done RF.\")\n",
    "    \n",
    "    # Train LDA model k\n",
    "    model_lda = models_lda[ii]\n",
    "    x_lda_1 = model_lda.predict(x_test_lda)\n",
    "    x_level_1_test[:,n_models*fold_count+2] = x_lda_1\n",
    "    print(\"Done LDA.\\n\")\n",
    "    \n",
    "    fold_count+=1"
   ]
  },
  {
   "cell_type": "code",
   "execution_count": null,
   "metadata": {},
   "outputs": [],
   "source": []
  },
  {
   "cell_type": "code",
   "execution_count": 37,
   "metadata": {},
   "outputs": [
    {
     "name": "stdout",
     "output_type": "stream",
     "text": [
      "\n",
      "Number of -1 cases =  13160\n",
      "Number of +1 cases =  604\n",
      "The ratio of Positve to Negative cases is 0.046\n",
      "\n",
      "Number of Negative Classes is quite large. Recommend using the Precision-Recall Metrics.\n",
      "\n",
      "\n",
      "Overall Accuracy = 0.977\n",
      "\n",
      "           CONFUSION MATRIX\n",
      "                 y_pred\n",
      "              -1        1     \n",
      "           --------------------\n",
      "y_test -1 |  13044      116    |\n",
      "        1 |   194       410    |\n",
      "           --------------------\n",
      "\n"
     ]
    },
    {
     "data": {
      "image/png": "[encoded data removed]",
      "text/plain": [
       "<Figure size 432x288 with 1 Axes>"
      ]
     },
     "metadata": {
      "needs_background": "light"
     },
     "output_type": "display_data"
    },
    {
     "name": "stdout",
     "output_type": "stream",
     "text": [
      "AUC = 0.968\n",
      "\n"
     ]
    },
    {
     "data": {
      "image/png": "[encoded data removed]",
      "text/plain": [
       "<Figure size 432x288 with 1 Axes>"
      ]
     },
     "metadata": {
      "needs_background": "light"
     },
     "output_type": "display_data"
    },
    {
     "name": "stdout",
     "output_type": "stream",
     "text": [
      "F1 Score = 0.726\n",
      "MCC = 0.716\n",
      "AUC for Precision-Recall: 0.753\n",
      "Average Precision = 0.753\n"
     ]
    }
   ],
   "source": [
    "# Level 1 Learner\n",
    "y_pred = model_lr.predict(x_level_1_test)\n",
    "y_prob = model_lr.decision_function(x_level_1_test)\n",
    "metrics = ModelMetrics(y_test,y_pred,y_prob)\n",
    "metrics.all_metrics()"
   ]
  },
  {
   "cell_type": "code",
   "execution_count": null,
   "metadata": {},
   "outputs": [],
   "source": [
    "model = models_rf[4]\n",
    "x_test_a = x_test_rf\n",
    "y_pred = model.predict(x_test_a)\n",
    "#y_prob = model.decision_function(x_test_a)\n",
    "y_prob = model.predict_proba(x_test_a)\n",
    "y_prob = np.max(y_prob,axis=1)\n",
    "\n",
    "metrics = ModelMetrics(y_test,y_pred,y_prob)\n",
    "metrics.all_metrics()"
   ]
  },
  {
   "cell_type": "code",
   "execution_count": null,
   "metadata": {},
   "outputs": [],
   "source": [
    "model = models_svm[0]\n",
    "x_test_a = x_test_svm\n",
    "y_pred = model.predict(x_test_a)\n",
    "y_prob = model.decision_function(x_test_a)\n",
    "#y_prob = model.predict_proba(x_test_a)\n",
    "#y_prob = np.max(y_prob,axis=1)\n",
    "\n",
    "metrics = ModelMetrics(y_test,y_pred,y_prob)\n",
    "metrics.all_metrics()"
   ]
  },
  {
   "cell_type": "code",
   "execution_count": null,
   "metadata": {},
   "outputs": [],
   "source": [
    "model_lda = LinearDiscriminantAnalysis()\n",
    "model_lda.fit(x_train_lda_k,y_train_k)\n",
    "model = models_lda[0]\n",
    "model = model_lda\n",
    "x_test_a = x_train_lda\n",
    "y_pred = model.predict(x_test_a)\n",
    "y_prob = model.decision_function(x_test_a)\n",
    "#y_prob = model.predict_proba(x_test_a)\n",
    "#y_prob = np.max(y_prob,axis=1)\n",
    "\n",
    "metrics = ModelMetrics(y_train,y_pred,y_prob)\n",
    "metrics.all_metrics()"
   ]
  },
  {
   "cell_type": "code",
   "execution_count": null,
   "metadata": {},
   "outputs": [],
   "source": [
    "x_train_lda_k.shape\n",
    "x_train_lda.shape"
   ]
  },
  {
   "cell_type": "code",
   "execution_count": 10,
   "metadata": {},
   "outputs": [],
   "source": [
    "# Different Ensemble that uses RF/LDA and then SVM"
   ]
  },
  {
   "cell_type": "code",
   "execution_count": 25,
   "metadata": {},
   "outputs": [
    {
     "name": "stdout",
     "output_type": "stream",
     "text": [
      "\n",
      "Starting Fold  0\n",
      "Done RF.\n",
      "Done LDA.\n",
      "\n",
      "\n",
      "Starting Fold  1\n"
     ]
    },
    {
     "name": "stderr",
     "output_type": "stream",
     "text": [
      "C:\\Users\\linds\\Anaconda3\\envs\\datascience\\lib\\site-packages\\sklearn\\discriminant_analysis.py:692: UserWarning: Variables are collinear\n",
      "  warnings.warn(\"Variables are collinear\")\n",
      "C:\\Users\\linds\\Anaconda3\\envs\\datascience\\lib\\site-packages\\sklearn\\discriminant_analysis.py:692: UserWarning: Variables are collinear\n",
      "  warnings.warn(\"Variables are collinear\")\n"
     ]
    },
    {
     "name": "stdout",
     "output_type": "stream",
     "text": [
      "Done RF.\n",
      "Done LDA.\n",
      "\n",
      "\n",
      "Starting Fold  2\n"
     ]
    },
    {
     "name": "stderr",
     "output_type": "stream",
     "text": [
      "C:\\Users\\linds\\Anaconda3\\envs\\datascience\\lib\\site-packages\\sklearn\\discriminant_analysis.py:692: UserWarning: Variables are collinear\n",
      "  warnings.warn(\"Variables are collinear\")\n",
      "C:\\Users\\linds\\Anaconda3\\envs\\datascience\\lib\\site-packages\\sklearn\\discriminant_analysis.py:692: UserWarning: Variables are collinear\n",
      "  warnings.warn(\"Variables are collinear\")\n"
     ]
    },
    {
     "name": "stdout",
     "output_type": "stream",
     "text": [
      "Done RF.\n",
      "Done LDA.\n",
      "\n",
      "\n",
      "Starting Fold  3\n"
     ]
    },
    {
     "name": "stderr",
     "output_type": "stream",
     "text": [
      "C:\\Users\\linds\\Anaconda3\\envs\\datascience\\lib\\site-packages\\sklearn\\discriminant_analysis.py:692: UserWarning: Variables are collinear\n",
      "  warnings.warn(\"Variables are collinear\")\n",
      "C:\\Users\\linds\\Anaconda3\\envs\\datascience\\lib\\site-packages\\sklearn\\discriminant_analysis.py:692: UserWarning: Variables are collinear\n",
      "  warnings.warn(\"Variables are collinear\")\n"
     ]
    },
    {
     "name": "stdout",
     "output_type": "stream",
     "text": [
      "Done RF.\n",
      "Done LDA.\n"
     ]
    },
    {
     "name": "stderr",
     "output_type": "stream",
     "text": [
      "C:\\Users\\linds\\Anaconda3\\envs\\datascience\\lib\\site-packages\\sklearn\\discriminant_analysis.py:692: UserWarning: Variables are collinear\n",
      "  warnings.warn(\"Variables are collinear\")\n",
      "C:\\Users\\linds\\Anaconda3\\envs\\datascience\\lib\\site-packages\\sklearn\\discriminant_analysis.py:692: UserWarning: Variables are collinear\n",
      "  warnings.warn(\"Variables are collinear\")\n"
     ]
    },
    {
     "name": "stdout",
     "output_type": "stream",
     "text": [
      "\n",
      "\n",
      "Starting Fold  4\n",
      "Done RF.\n",
      "Done LDA.\n",
      "\n",
      "\n",
      "Starting Fold  5\n"
     ]
    },
    {
     "name": "stderr",
     "output_type": "stream",
     "text": [
      "C:\\Users\\linds\\Anaconda3\\envs\\datascience\\lib\\site-packages\\sklearn\\discriminant_analysis.py:692: UserWarning: Variables are collinear\n",
      "  warnings.warn(\"Variables are collinear\")\n",
      "C:\\Users\\linds\\Anaconda3\\envs\\datascience\\lib\\site-packages\\sklearn\\discriminant_analysis.py:692: UserWarning: Variables are collinear\n",
      "  warnings.warn(\"Variables are collinear\")\n"
     ]
    },
    {
     "name": "stdout",
     "output_type": "stream",
     "text": [
      "Done RF.\n",
      "Done LDA.\n",
      "\n",
      "\n",
      "Starting Fold  6\n"
     ]
    },
    {
     "name": "stderr",
     "output_type": "stream",
     "text": [
      "C:\\Users\\linds\\Anaconda3\\envs\\datascience\\lib\\site-packages\\sklearn\\discriminant_analysis.py:692: UserWarning: Variables are collinear\n",
      "  warnings.warn(\"Variables are collinear\")\n",
      "C:\\Users\\linds\\Anaconda3\\envs\\datascience\\lib\\site-packages\\sklearn\\discriminant_analysis.py:692: UserWarning: Variables are collinear\n",
      "  warnings.warn(\"Variables are collinear\")\n"
     ]
    },
    {
     "name": "stdout",
     "output_type": "stream",
     "text": [
      "Done RF.\n"
     ]
    },
    {
     "name": "stderr",
     "output_type": "stream",
     "text": [
      "C:\\Users\\linds\\Anaconda3\\envs\\datascience\\lib\\site-packages\\sklearn\\discriminant_analysis.py:692: UserWarning: Variables are collinear\n",
      "  warnings.warn(\"Variables are collinear\")\n",
      "C:\\Users\\linds\\Anaconda3\\envs\\datascience\\lib\\site-packages\\sklearn\\discriminant_analysis.py:692: UserWarning: Variables are collinear\n",
      "  warnings.warn(\"Variables are collinear\")\n"
     ]
    },
    {
     "name": "stdout",
     "output_type": "stream",
     "text": [
      "Done LDA.\n",
      "\n",
      "\n",
      "Starting Fold  7\n",
      "Done RF.\n",
      "Done LDA.\n",
      "\n",
      "\n",
      "Starting Fold  8\n"
     ]
    },
    {
     "name": "stderr",
     "output_type": "stream",
     "text": [
      "C:\\Users\\linds\\Anaconda3\\envs\\datascience\\lib\\site-packages\\sklearn\\discriminant_analysis.py:692: UserWarning: Variables are collinear\n",
      "  warnings.warn(\"Variables are collinear\")\n",
      "C:\\Users\\linds\\Anaconda3\\envs\\datascience\\lib\\site-packages\\sklearn\\discriminant_analysis.py:692: UserWarning: Variables are collinear\n",
      "  warnings.warn(\"Variables are collinear\")\n"
     ]
    },
    {
     "name": "stdout",
     "output_type": "stream",
     "text": [
      "Done RF.\n",
      "Done LDA.\n",
      "\n",
      "\n",
      "Starting Fold  9\n"
     ]
    },
    {
     "name": "stderr",
     "output_type": "stream",
     "text": [
      "C:\\Users\\linds\\Anaconda3\\envs\\datascience\\lib\\site-packages\\sklearn\\discriminant_analysis.py:692: UserWarning: Variables are collinear\n",
      "  warnings.warn(\"Variables are collinear\")\n",
      "C:\\Users\\linds\\Anaconda3\\envs\\datascience\\lib\\site-packages\\sklearn\\discriminant_analysis.py:692: UserWarning: Variables are collinear\n",
      "  warnings.warn(\"Variables are collinear\")\n"
     ]
    },
    {
     "name": "stdout",
     "output_type": "stream",
     "text": [
      "Done RF.\n",
      "Done LDA.\n",
      "\n",
      "\n",
      "Starting Fold  10\n"
     ]
    },
    {
     "name": "stderr",
     "output_type": "stream",
     "text": [
      "C:\\Users\\linds\\Anaconda3\\envs\\datascience\\lib\\site-packages\\sklearn\\discriminant_analysis.py:692: UserWarning: Variables are collinear\n",
      "  warnings.warn(\"Variables are collinear\")\n",
      "C:\\Users\\linds\\Anaconda3\\envs\\datascience\\lib\\site-packages\\sklearn\\discriminant_analysis.py:692: UserWarning: Variables are collinear\n",
      "  warnings.warn(\"Variables are collinear\")\n"
     ]
    },
    {
     "name": "stdout",
     "output_type": "stream",
     "text": [
      "Done RF.\n",
      "Done LDA.\n",
      "\n",
      "\n",
      "Starting Fold  11\n"
     ]
    },
    {
     "name": "stderr",
     "output_type": "stream",
     "text": [
      "C:\\Users\\linds\\Anaconda3\\envs\\datascience\\lib\\site-packages\\sklearn\\discriminant_analysis.py:692: UserWarning: Variables are collinear\n",
      "  warnings.warn(\"Variables are collinear\")\n",
      "C:\\Users\\linds\\Anaconda3\\envs\\datascience\\lib\\site-packages\\sklearn\\discriminant_analysis.py:692: UserWarning: Variables are collinear\n",
      "  warnings.warn(\"Variables are collinear\")\n"
     ]
    },
    {
     "name": "stdout",
     "output_type": "stream",
     "text": [
      "Done RF.\n",
      "Done LDA.\n",
      "\n",
      "\n",
      "Starting Fold  12\n"
     ]
    },
    {
     "name": "stderr",
     "output_type": "stream",
     "text": [
      "C:\\Users\\linds\\Anaconda3\\envs\\datascience\\lib\\site-packages\\sklearn\\discriminant_analysis.py:692: UserWarning: Variables are collinear\n",
      "  warnings.warn(\"Variables are collinear\")\n",
      "C:\\Users\\linds\\Anaconda3\\envs\\datascience\\lib\\site-packages\\sklearn\\discriminant_analysis.py:692: UserWarning: Variables are collinear\n",
      "  warnings.warn(\"Variables are collinear\")\n"
     ]
    },
    {
     "name": "stdout",
     "output_type": "stream",
     "text": [
      "Done RF.\n",
      "Done LDA.\n",
      "\n",
      "\n",
      "Starting Fold  13\n"
     ]
    },
    {
     "name": "stderr",
     "output_type": "stream",
     "text": [
      "C:\\Users\\linds\\Anaconda3\\envs\\datascience\\lib\\site-packages\\sklearn\\discriminant_analysis.py:692: UserWarning: Variables are collinear\n",
      "  warnings.warn(\"Variables are collinear\")\n",
      "C:\\Users\\linds\\Anaconda3\\envs\\datascience\\lib\\site-packages\\sklearn\\discriminant_analysis.py:692: UserWarning: Variables are collinear\n",
      "  warnings.warn(\"Variables are collinear\")\n"
     ]
    },
    {
     "name": "stdout",
     "output_type": "stream",
     "text": [
      "Done RF.\n",
      "Done LDA.\n",
      "\n",
      "\n",
      "Starting Fold  14\n"
     ]
    },
    {
     "name": "stderr",
     "output_type": "stream",
     "text": [
      "C:\\Users\\linds\\Anaconda3\\envs\\datascience\\lib\\site-packages\\sklearn\\discriminant_analysis.py:692: UserWarning: Variables are collinear\n",
      "  warnings.warn(\"Variables are collinear\")\n",
      "C:\\Users\\linds\\Anaconda3\\envs\\datascience\\lib\\site-packages\\sklearn\\discriminant_analysis.py:692: UserWarning: Variables are collinear\n",
      "  warnings.warn(\"Variables are collinear\")\n"
     ]
    },
    {
     "name": "stdout",
     "output_type": "stream",
     "text": [
      "Done RF.\n",
      "Done LDA.\n",
      "\n",
      "\n",
      "Starting Fold  15\n"
     ]
    },
    {
     "name": "stderr",
     "output_type": "stream",
     "text": [
      "C:\\Users\\linds\\Anaconda3\\envs\\datascience\\lib\\site-packages\\sklearn\\discriminant_analysis.py:692: UserWarning: Variables are collinear\n",
      "  warnings.warn(\"Variables are collinear\")\n",
      "C:\\Users\\linds\\Anaconda3\\envs\\datascience\\lib\\site-packages\\sklearn\\discriminant_analysis.py:692: UserWarning: Variables are collinear\n",
      "  warnings.warn(\"Variables are collinear\")\n"
     ]
    },
    {
     "name": "stdout",
     "output_type": "stream",
     "text": [
      "Done RF.\n",
      "Done LDA.\n",
      "\n",
      "\n",
      "Starting Fold  16\n"
     ]
    },
    {
     "name": "stderr",
     "output_type": "stream",
     "text": [
      "C:\\Users\\linds\\Anaconda3\\envs\\datascience\\lib\\site-packages\\sklearn\\discriminant_analysis.py:692: UserWarning: Variables are collinear\n",
      "  warnings.warn(\"Variables are collinear\")\n",
      "C:\\Users\\linds\\Anaconda3\\envs\\datascience\\lib\\site-packages\\sklearn\\discriminant_analysis.py:692: UserWarning: Variables are collinear\n",
      "  warnings.warn(\"Variables are collinear\")\n"
     ]
    },
    {
     "name": "stdout",
     "output_type": "stream",
     "text": [
      "Done RF.\n",
      "Done LDA.\n",
      "\n",
      "\n",
      "Starting Fold  17\n"
     ]
    },
    {
     "name": "stderr",
     "output_type": "stream",
     "text": [
      "C:\\Users\\linds\\Anaconda3\\envs\\datascience\\lib\\site-packages\\sklearn\\discriminant_analysis.py:692: UserWarning: Variables are collinear\n",
      "  warnings.warn(\"Variables are collinear\")\n",
      "C:\\Users\\linds\\Anaconda3\\envs\\datascience\\lib\\site-packages\\sklearn\\discriminant_analysis.py:692: UserWarning: Variables are collinear\n",
      "  warnings.warn(\"Variables are collinear\")\n"
     ]
    },
    {
     "name": "stdout",
     "output_type": "stream",
     "text": [
      "Done RF.\n",
      "Done LDA.\n",
      "\n",
      "\n",
      "Starting Fold  18\n"
     ]
    },
    {
     "name": "stderr",
     "output_type": "stream",
     "text": [
      "C:\\Users\\linds\\Anaconda3\\envs\\datascience\\lib\\site-packages\\sklearn\\discriminant_analysis.py:692: UserWarning: Variables are collinear\n",
      "  warnings.warn(\"Variables are collinear\")\n",
      "C:\\Users\\linds\\Anaconda3\\envs\\datascience\\lib\\site-packages\\sklearn\\discriminant_analysis.py:692: UserWarning: Variables are collinear\n",
      "  warnings.warn(\"Variables are collinear\")\n"
     ]
    },
    {
     "name": "stdout",
     "output_type": "stream",
     "text": [
      "Done RF.\n",
      "Done LDA.\n",
      "\n",
      "\n",
      "Starting Fold  19\n"
     ]
    },
    {
     "name": "stderr",
     "output_type": "stream",
     "text": [
      "C:\\Users\\linds\\Anaconda3\\envs\\datascience\\lib\\site-packages\\sklearn\\discriminant_analysis.py:692: UserWarning: Variables are collinear\n",
      "  warnings.warn(\"Variables are collinear\")\n",
      "C:\\Users\\linds\\Anaconda3\\envs\\datascience\\lib\\site-packages\\sklearn\\discriminant_analysis.py:692: UserWarning: Variables are collinear\n",
      "  warnings.warn(\"Variables are collinear\")\n"
     ]
    },
    {
     "name": "stdout",
     "output_type": "stream",
     "text": [
      "Done RF.\n",
      "Done LDA.\n",
      "\n",
      "\n",
      "Starting Fold  20\n"
     ]
    },
    {
     "name": "stderr",
     "output_type": "stream",
     "text": [
      "C:\\Users\\linds\\Anaconda3\\envs\\datascience\\lib\\site-packages\\sklearn\\discriminant_analysis.py:692: UserWarning: Variables are collinear\n",
      "  warnings.warn(\"Variables are collinear\")\n",
      "C:\\Users\\linds\\Anaconda3\\envs\\datascience\\lib\\site-packages\\sklearn\\discriminant_analysis.py:692: UserWarning: Variables are collinear\n",
      "  warnings.warn(\"Variables are collinear\")\n"
     ]
    },
    {
     "name": "stdout",
     "output_type": "stream",
     "text": [
      "Done RF.\n",
      "Done LDA.\n",
      "\n",
      "\n",
      "Starting Fold  21\n"
     ]
    },
    {
     "name": "stderr",
     "output_type": "stream",
     "text": [
      "C:\\Users\\linds\\Anaconda3\\envs\\datascience\\lib\\site-packages\\sklearn\\discriminant_analysis.py:692: UserWarning: Variables are collinear\n",
      "  warnings.warn(\"Variables are collinear\")\n",
      "C:\\Users\\linds\\Anaconda3\\envs\\datascience\\lib\\site-packages\\sklearn\\discriminant_analysis.py:692: UserWarning: Variables are collinear\n",
      "  warnings.warn(\"Variables are collinear\")\n"
     ]
    },
    {
     "name": "stdout",
     "output_type": "stream",
     "text": [
      "Done RF.\n",
      "Done LDA.\n",
      "\n",
      "\n",
      "Starting Fold  22\n"
     ]
    },
    {
     "name": "stderr",
     "output_type": "stream",
     "text": [
      "C:\\Users\\linds\\Anaconda3\\envs\\datascience\\lib\\site-packages\\sklearn\\discriminant_analysis.py:692: UserWarning: Variables are collinear\n",
      "  warnings.warn(\"Variables are collinear\")\n",
      "C:\\Users\\linds\\Anaconda3\\envs\\datascience\\lib\\site-packages\\sklearn\\discriminant_analysis.py:692: UserWarning: Variables are collinear\n",
      "  warnings.warn(\"Variables are collinear\")\n"
     ]
    },
    {
     "name": "stdout",
     "output_type": "stream",
     "text": [
      "Done RF.\n",
      "Done LDA.\n"
     ]
    },
    {
     "name": "stderr",
     "output_type": "stream",
     "text": [
      "C:\\Users\\linds\\Anaconda3\\envs\\datascience\\lib\\site-packages\\sklearn\\discriminant_analysis.py:692: UserWarning: Variables are collinear\n",
      "  warnings.warn(\"Variables are collinear\")\n",
      "C:\\Users\\linds\\Anaconda3\\envs\\datascience\\lib\\site-packages\\sklearn\\discriminant_analysis.py:692: UserWarning: Variables are collinear\n",
      "  warnings.warn(\"Variables are collinear\")\n"
     ]
    },
    {
     "name": "stdout",
     "output_type": "stream",
     "text": [
      "\n",
      "\n",
      "Starting Fold  23\n",
      "Done RF.\n",
      "Done LDA.\n",
      "\n",
      "\n",
      "Starting Fold  24\n"
     ]
    },
    {
     "name": "stderr",
     "output_type": "stream",
     "text": [
      "C:\\Users\\linds\\Anaconda3\\envs\\datascience\\lib\\site-packages\\sklearn\\discriminant_analysis.py:692: UserWarning: Variables are collinear\n",
      "  warnings.warn(\"Variables are collinear\")\n",
      "C:\\Users\\linds\\Anaconda3\\envs\\datascience\\lib\\site-packages\\sklearn\\discriminant_analysis.py:692: UserWarning: Variables are collinear\n",
      "  warnings.warn(\"Variables are collinear\")\n"
     ]
    },
    {
     "name": "stdout",
     "output_type": "stream",
     "text": [
      "Done RF.\n",
      "Done LDA.\n",
      "\n",
      "\n",
      "Starting Fold  25\n"
     ]
    },
    {
     "name": "stderr",
     "output_type": "stream",
     "text": [
      "C:\\Users\\linds\\Anaconda3\\envs\\datascience\\lib\\site-packages\\sklearn\\discriminant_analysis.py:692: UserWarning: Variables are collinear\n",
      "  warnings.warn(\"Variables are collinear\")\n",
      "C:\\Users\\linds\\Anaconda3\\envs\\datascience\\lib\\site-packages\\sklearn\\discriminant_analysis.py:692: UserWarning: Variables are collinear\n",
      "  warnings.warn(\"Variables are collinear\")\n"
     ]
    },
    {
     "name": "stdout",
     "output_type": "stream",
     "text": [
      "Done RF.\n",
      "Done LDA.\n",
      "\n",
      "\n",
      "Starting Fold  26\n"
     ]
    },
    {
     "name": "stderr",
     "output_type": "stream",
     "text": [
      "C:\\Users\\linds\\Anaconda3\\envs\\datascience\\lib\\site-packages\\sklearn\\discriminant_analysis.py:692: UserWarning: Variables are collinear\n",
      "  warnings.warn(\"Variables are collinear\")\n",
      "C:\\Users\\linds\\Anaconda3\\envs\\datascience\\lib\\site-packages\\sklearn\\discriminant_analysis.py:692: UserWarning: Variables are collinear\n",
      "  warnings.warn(\"Variables are collinear\")\n"
     ]
    },
    {
     "name": "stdout",
     "output_type": "stream",
     "text": [
      "Done RF.\n",
      "Done LDA.\n",
      "\n",
      "\n",
      "Starting Fold  27\n"
     ]
    },
    {
     "name": "stderr",
     "output_type": "stream",
     "text": [
      "C:\\Users\\linds\\Anaconda3\\envs\\datascience\\lib\\site-packages\\sklearn\\discriminant_analysis.py:692: UserWarning: Variables are collinear\n",
      "  warnings.warn(\"Variables are collinear\")\n",
      "C:\\Users\\linds\\Anaconda3\\envs\\datascience\\lib\\site-packages\\sklearn\\discriminant_analysis.py:692: UserWarning: Variables are collinear\n",
      "  warnings.warn(\"Variables are collinear\")\n"
     ]
    },
    {
     "name": "stdout",
     "output_type": "stream",
     "text": [
      "Done RF.\n",
      "Done LDA.\n",
      "\n",
      "\n",
      "Starting Fold  28\n"
     ]
    },
    {
     "name": "stderr",
     "output_type": "stream",
     "text": [
      "C:\\Users\\linds\\Anaconda3\\envs\\datascience\\lib\\site-packages\\sklearn\\discriminant_analysis.py:692: UserWarning: Variables are collinear\n",
      "  warnings.warn(\"Variables are collinear\")\n",
      "C:\\Users\\linds\\Anaconda3\\envs\\datascience\\lib\\site-packages\\sklearn\\discriminant_analysis.py:692: UserWarning: Variables are collinear\n",
      "  warnings.warn(\"Variables are collinear\")\n"
     ]
    },
    {
     "name": "stdout",
     "output_type": "stream",
     "text": [
      "Done RF.\n",
      "Done LDA.\n",
      "\n",
      "\n",
      "Starting Fold  29\n"
     ]
    },
    {
     "name": "stderr",
     "output_type": "stream",
     "text": [
      "C:\\Users\\linds\\Anaconda3\\envs\\datascience\\lib\\site-packages\\sklearn\\discriminant_analysis.py:692: UserWarning: Variables are collinear\n",
      "  warnings.warn(\"Variables are collinear\")\n",
      "C:\\Users\\linds\\Anaconda3\\envs\\datascience\\lib\\site-packages\\sklearn\\discriminant_analysis.py:692: UserWarning: Variables are collinear\n",
      "  warnings.warn(\"Variables are collinear\")\n"
     ]
    },
    {
     "name": "stdout",
     "output_type": "stream",
     "text": [
      "Done RF.\n",
      "Done LDA.\n",
      "\n"
     ]
    },
    {
     "name": "stderr",
     "output_type": "stream",
     "text": [
      "C:\\Users\\linds\\Anaconda3\\envs\\datascience\\lib\\site-packages\\sklearn\\discriminant_analysis.py:692: UserWarning: Variables are collinear\n",
      "  warnings.warn(\"Variables are collinear\")\n",
      "C:\\Users\\linds\\Anaconda3\\envs\\datascience\\lib\\site-packages\\sklearn\\discriminant_analysis.py:692: UserWarning: Variables are collinear\n",
      "  warnings.warn(\"Variables are collinear\")\n"
     ]
    }
   ],
   "source": [
    "# Hyperparameters\n",
    "# SVM\n",
    "C = 10 #[0.1,1,10]\n",
    "C_list = [0.1,1,10]\n",
    "gamma = 3 #[0.1,0.3,1,3,10]\n",
    "max_iter = 5000\n",
    "gamma_list = [0.1,0.3,1,3,10]\n",
    "\n",
    "# RF\n",
    "criterion='entropy'\n",
    "max_depth=9 #range(1,11)\n",
    "max_depth_list = np.arange(1,11)\n",
    "n_estimators=100 #[10,50,100]\n",
    "n_estimators_list = [10,50,100]\n",
    "min_samples_split=2 #[2,5,10,20]\n",
    "min_samples_split_list = [2,5,10,20]\n",
    "\n",
    "# LDA / QDA\n",
    "\n",
    "# Do k folds to determine level 1 data, \n",
    "n_models = 2\n",
    "n_splits = 30\n",
    "models_svm = []\n",
    "models_rf = []\n",
    "models_lda = []\n",
    "x_level_1 = np.empty((n_train_index.shape[0],n_models*n_splits))\n",
    "y_level_1 = np.empty(n_train_index.shape)\n",
    "y_level_1 = y_train\n",
    "\n",
    "kf = KFold(n_splits=n_splits,shuffle=True)\n",
    "fold_count = 0\n",
    "for ktrain_index, ktest_index in kf.split(y_train):\n",
    "    print(\"\\nStarting Fold \",fold_count)\n",
    "    x_train_rf_k, x_test_rf_k = x_train_rf[ktrain_index], x_train_rf[ktest_index]\n",
    "    x_train_lda_k, x_test_lda_k = x_train_lda[ktrain_index], x_train_lda[ktest_index]\n",
    "    y_train_k, y_test_k = y_train[ktrain_index], y_train[ktest_index]\n",
    "    \n",
    "    # Assign random values to hyperparameters?\n",
    "    max_depth = random.choice(max_depth_list)\n",
    "    n_estimators = random.choice(n_estimators_list)\n",
    "    min_samples_split = random.choice(min_samples_split_list)\n",
    "    \n",
    "    # Train RF model k\n",
    "    model_rf = RandomForestClassifier(criterion = criterion, max_depth = max_depth, n_estimators = n_estimators,\n",
    "                                      min_samples_split = min_samples_split)\n",
    "    model_rf.fit(x_train_rf_k,y_train_k)\n",
    "    #x_rf_1 = model_rf.predict(x_test_rf_k)\n",
    "    x_rf_1 = model_rf.predict_proba(x_train_rf)[:,1]\n",
    "    x_level_1[:,n_models*fold_count+0] = x_rf_1\n",
    "    models_rf.append(model_rf)\n",
    "    print(\"Done RF.\")\n",
    "    \n",
    "    # Train LDA model k\n",
    "    model_lda = QuadraticDiscriminantAnalysis()\n",
    "    model_lda.fit(x_train_lda_k,y_train_k)\n",
    "    #x_lda_1 = model_lda.predict(x_test_lda_k)\n",
    "    x_lda_1 = model_lda.predict_proba(x_train_lda)[:,1]\n",
    "    x_level_1[:,n_models*fold_count+1] = x_lda_1\n",
    "    models_lda.append(model_lda)\n",
    "    print(\"Done LDA.\\n\")\n",
    "    \n",
    "    # Make sure y data is in same order as x\n",
    "    \n",
    "    fold_count+=1"
   ]
  },
  {
   "cell_type": "code",
   "execution_count": 19,
   "metadata": {},
   "outputs": [
    {
     "data": {
      "text/plain": [
       "array([[9.71798866e-04, 1.97554712e-03, 1.47222982e-03, ...,\n",
       "        2.14529459e-03, 2.44543118e-03, 2.08881571e-03],\n",
       "       [2.31342173e-03, 6.84495786e-03, 8.01863254e-04, ...,\n",
       "        7.19038752e-03, 1.55687483e-03, 7.01542209e-03],\n",
       "       [0.00000000e+00, 2.32150077e-04, 5.03096782e-04, ...,\n",
       "        2.68607201e-04, 7.51768732e-05, 2.49084053e-04],\n",
       "       ...,\n",
       "       [2.53089990e-03, 6.58226417e-03, 5.32002554e-03, ...,\n",
       "        7.14888110e-03, 7.56882055e-03, 6.83019152e-03],\n",
       "       [5.97616986e-03, 4.33493346e-02, 1.75544274e-02, ...,\n",
       "        4.24647162e-02, 4.30757473e-02, 4.33895875e-02],\n",
       "       [8.22537727e-04, 1.68026907e-02, 6.59574838e-03, ...,\n",
       "        1.67940385e-02, 1.12105852e-02, 1.69590712e-02]])"
      ]
     },
     "execution_count": 19,
     "metadata": {},
     "output_type": "execute_result"
    }
   ],
   "source": [
    "x_level_1"
   ]
  },
  {
   "cell_type": "code",
   "execution_count": 26,
   "metadata": {},
   "outputs": [
    {
     "data": {
      "text/plain": [
       "SVC(C=1.0, cache_size=200, class_weight=None, coef0=0.0,\n",
       "  decision_function_shape='ovr', degree=3, gamma='scale', kernel='rbf',\n",
       "  max_iter=-1, probability=False, random_state=None, shrinking=True,\n",
       "  tol=0.001, verbose=False)"
      ]
     },
     "execution_count": 26,
     "metadata": {},
     "output_type": "execute_result"
    }
   ],
   "source": [
    "# Do logistic regression on the outputs (Level 1 Learner)\n",
    "model_svm = SVC(gamma='scale')\n",
    "model_svm.fit(x_level_1,y_level_1)"
   ]
  },
  {
   "cell_type": "code",
   "execution_count": 27,
   "metadata": {},
   "outputs": [
    {
     "name": "stdout",
     "output_type": "stream",
     "text": [
      "\n",
      "Starting Fold  0\n",
      "Done RF.\n",
      "Done LDA.\n",
      "\n",
      "\n",
      "Starting Fold  1\n",
      "Done RF.\n",
      "Done LDA.\n",
      "\n",
      "\n",
      "Starting Fold  2\n",
      "Done RF.\n",
      "Done LDA.\n",
      "\n",
      "\n",
      "Starting Fold  3\n",
      "Done RF.\n",
      "Done LDA.\n",
      "\n",
      "\n",
      "Starting Fold  4\n",
      "Done RF.\n",
      "Done LDA.\n",
      "\n",
      "\n",
      "Starting Fold  5\n",
      "Done RF.\n",
      "Done LDA.\n",
      "\n",
      "\n",
      "Starting Fold  6\n",
      "Done RF.\n",
      "Done LDA.\n",
      "\n",
      "\n",
      "Starting Fold  7\n",
      "Done RF.\n",
      "Done LDA.\n",
      "\n",
      "\n",
      "Starting Fold  8\n",
      "Done RF.\n",
      "Done LDA.\n",
      "\n",
      "\n",
      "Starting Fold  9\n",
      "Done RF.\n",
      "Done LDA.\n",
      "\n",
      "\n",
      "Starting Fold  10\n",
      "Done RF.\n",
      "Done LDA.\n",
      "\n",
      "\n",
      "Starting Fold  11\n",
      "Done RF.\n",
      "Done LDA.\n",
      "\n",
      "\n",
      "Starting Fold  12\n",
      "Done RF.\n",
      "Done LDA.\n",
      "\n",
      "\n",
      "Starting Fold  13\n",
      "Done RF.\n",
      "Done LDA.\n",
      "\n",
      "\n",
      "Starting Fold  14\n",
      "Done RF.\n",
      "Done LDA.\n",
      "\n",
      "\n",
      "Starting Fold  15\n",
      "Done RF.\n",
      "Done LDA.\n",
      "\n",
      "\n",
      "Starting Fold  16\n",
      "Done RF.\n",
      "Done LDA.\n",
      "\n",
      "\n",
      "Starting Fold  17\n",
      "Done RF.\n",
      "Done LDA.\n",
      "\n",
      "\n",
      "Starting Fold  18\n",
      "Done RF.\n",
      "Done LDA.\n",
      "\n",
      "\n",
      "Starting Fold  19\n",
      "Done RF.\n",
      "Done LDA.\n",
      "\n",
      "\n",
      "Starting Fold  20\n",
      "Done RF.\n",
      "Done LDA.\n",
      "\n",
      "\n",
      "Starting Fold  21\n",
      "Done RF.\n",
      "Done LDA.\n",
      "\n",
      "\n",
      "Starting Fold  22\n",
      "Done RF.\n",
      "Done LDA.\n",
      "\n",
      "\n",
      "Starting Fold  23\n",
      "Done RF.\n",
      "Done LDA.\n",
      "\n",
      "\n",
      "Starting Fold  24\n",
      "Done RF.\n",
      "Done LDA.\n",
      "\n",
      "\n",
      "Starting Fold  25\n",
      "Done RF.\n",
      "Done LDA.\n",
      "\n",
      "\n",
      "Starting Fold  26\n",
      "Done RF.\n",
      "Done LDA.\n",
      "\n",
      "\n",
      "Starting Fold  27\n",
      "Done RF.\n",
      "Done LDA.\n",
      "\n",
      "\n",
      "Starting Fold  28\n",
      "Done RF.\n",
      "Done LDA.\n",
      "\n",
      "\n",
      "Starting Fold  29\n",
      "Done RF.\n",
      "Done LDA.\n",
      "\n"
     ]
    }
   ],
   "source": [
    "# Do test data\n",
    "x_level_1_test = np.empty((n_test_index.shape[0],n_models*n_splits))\n",
    "y_level_1_test = np.empty(n_test_index.shape)\n",
    "\n",
    "fold_count = 0\n",
    "for ii in range(n_splits):\n",
    "    print(\"\\nStarting Fold \",fold_count)\n",
    "    \n",
    "    # Train RF model k\n",
    "    model_rf = models_rf[ii]\n",
    "    x_rf_1 = model_rf.predict(x_test_rf)\n",
    "    x_level_1_test[:,n_models*fold_count+0] = x_rf_1\n",
    "    print(\"Done RF.\")\n",
    "    \n",
    "    # Train LDA model k\n",
    "    model_lda = models_lda[ii]\n",
    "    x_lda_1 = model_lda.predict(x_test_lda)\n",
    "    x_level_1_test[:,n_models*fold_count+1] = x_lda_1\n",
    "    print(\"Done LDA.\\n\")\n",
    "    \n",
    "    fold_count+=1"
   ]
  },
  {
   "cell_type": "code",
   "execution_count": 28,
   "metadata": {},
   "outputs": [
    {
     "name": "stdout",
     "output_type": "stream",
     "text": [
      "\n",
      "Number of -1 cases =  43417\n",
      "Number of +1 cases =  2002\n",
      "The ratio of Positve to Negative cases is 0.046\n",
      "\n",
      "Number of Negative Classes is quite large. Recommend using the Precision-Recall Metrics.\n",
      "\n",
      "\n",
      "Overall Accuracy = 0.966\n",
      "\n",
      "           CONFUSION MATRIX\n",
      "                 y_pred\n",
      "              -1        1     \n",
      "           --------------------\n",
      "y_test -1 |  43348       69    |\n",
      "        1 |   1456      546    |\n",
      "           --------------------\n",
      "\n"
     ]
    },
    {
     "data": {
      "image/png": "[encoded data removed]",
      "text/plain": [
       "<Figure size 432x288 with 1 Axes>"
      ]
     },
     "metadata": {
      "needs_background": "light"
     },
     "output_type": "display_data"
    },
    {
     "name": "stdout",
     "output_type": "stream",
     "text": [
      "AUC = 0.899\n",
      "\n"
     ]
    },
    {
     "data": {
      "image/png": "[encoded data removed]",
      "text/plain": [
       "<Figure size 432x288 with 1 Axes>"
      ]
     },
     "metadata": {
      "needs_background": "light"
     },
     "output_type": "display_data"
    },
    {
     "name": "stdout",
     "output_type": "stream",
     "text": [
      "F1 Score = 0.417\n",
      "MCC = 0.482\n",
      "AUC for Precision-Recall: 0.769\n",
      "Average Precision = 0.765\n"
     ]
    }
   ],
   "source": [
    "# Level 1 Learner\n",
    "y_pred = model_svm.predict(x_level_1_test)\n",
    "y_prob = model_svm.decision_function(x_level_1_test)\n",
    "metrics = ModelMetrics(y_test,y_pred,y_prob)\n",
    "metrics.all_metrics()"
   ]
  },
  {
   "cell_type": "code",
   "execution_count": null,
   "metadata": {},
   "outputs": [],
   "source": []
  }
 ],
 "metadata": {
  "kernelspec": {
   "display_name": "Python 3",
   "language": "python",
   "name": "python3"
  },
  "language_info": {
   "codemirror_mode": {
    "name": "ipython",
    "version": 3
   },
   "file_extension": ".py",
   "mimetype": "text/x-python",
   "name": "python",
   "nbconvert_exporter": "python",
   "pygments_lexer": "ipython3",
   "version": "3.6.8"
  }
 },
 "nbformat": 4,
 "nbformat_minor": 2
}
